{
 "cells": [
  {
   "cell_type": "code",
   "execution_count": 5,
   "id": "f5cef4da-83b2-461a-881d-5112d436b411",
   "metadata": {},
   "outputs": [],
   "source": [
    "import pandas as pd\n",
    "import numpy as np\n",
    "from scipy import stats\n",
    "import matplotlib.pyplot as plt\n",
    "import seaborn as sns"
   ]
  },
  {
   "cell_type": "code",
   "execution_count": 6,
   "id": "493dc15a-9f60-44c8-8c2f-c9190a8b6a23",
   "metadata": {},
   "outputs": [],
   "source": [
    "data = pd.read_csv(\"C:\\\\Users\\\\Bala Vignesh.A\\\\Desktop\\\\SCMA 632\\\\assam data.csv\", low_memory=False)"
   ]
  },
  {
   "cell_type": "markdown",
   "id": "349a763d-7609-4340-be05-e08ed4fc4912",
   "metadata": {},
   "source": [
    "# Filter data for Assam"
   ]
  },
  {
   "cell_type": "code",
   "execution_count": 7,
   "id": "6c914708-bff0-47fc-904c-82c9e47d562a",
   "metadata": {},
   "outputs": [],
   "source": [
    "assam_data = data[data['state_1'] == 'ASSM']"
   ]
  },
  {
   "cell_type": "markdown",
   "id": "9997f6b8-9a7c-4aae-a94b-266f30692699",
   "metadata": {},
   "source": [
    "# Check for missing values"
   ]
  },
  {
   "cell_type": "code",
   "execution_count": 5,
   "id": "11f09a52-e986-4991-a700-a22dc2c97c8c",
   "metadata": {},
   "outputs": [
    {
     "name": "stdout",
     "output_type": "stream",
     "text": [
      "Missing values in each column:\n",
      "slno              0\n",
      "grp               0\n",
      "Round_Centre      0\n",
      "FSU_number        0\n",
      "Round             0\n",
      "                 ..\n",
      "foodtotal_q       0\n",
      "state_1           0\n",
      "Region            0\n",
      "fruits_df_tt_v    0\n",
      "fv_tot            0\n",
      "Length: 384, dtype: int64\n"
     ]
    }
   ],
   "source": [
    "missing_values = assam_data.isnull().sum()\n",
    "print(\"Missing values in each column:\")\n",
    "print(missing_values)"
   ]
  },
  {
   "cell_type": "markdown",
   "id": "f713d952-cce5-4fd1-9187-af52b1854bf9",
   "metadata": {},
   "source": [
    "# Replace missing values with mean"
   ]
  },
  {
   "cell_type": "code",
   "execution_count": 17,
   "id": "c3b2ad47-0467-49b8-9891-83a53e92d826",
   "metadata": {},
   "outputs": [],
   "source": [
    "assam_data = assam_data.apply(lambda x: x.fillna(x.mean()) if x.dtype.kind in 'biufc' else x)"
   ]
  },
  {
   "cell_type": "markdown",
   "id": "717a9710-d83a-46b0-a116-d9fff7d55e87",
   "metadata": {},
   "source": [
    "# Verify that there are no more missing values"
   ]
  },
  {
   "cell_type": "code",
   "execution_count": 18,
   "id": "af6957c6-1097-44e4-a77e-2f7f3ec0dc3c",
   "metadata": {},
   "outputs": [
    {
     "name": "stdout",
     "output_type": "stream",
     "text": [
      "Missing values after replacement for Assam:\n",
      "slno              0\n",
      "grp               0\n",
      "Round_Centre      0\n",
      "FSU_number        0\n",
      "Round             0\n",
      "                 ..\n",
      "foodtotal_q       0\n",
      "state_1           0\n",
      "Region            0\n",
      "fruits_df_tt_v    0\n",
      "fv_tot            0\n",
      "Length: 384, dtype: int64\n"
     ]
    }
   ],
   "source": [
    "missing_values_after = assam_data.isna().sum()\n",
    "print(\"Missing values after replacement for Assam:\")\n",
    "print(missing_values_after)\n"
   ]
  },
  {
   "cell_type": "markdown",
   "id": "6a807e2e-c420-4485-9b0d-7cdf0d118582",
   "metadata": {},
   "source": [
    "# Identify and remove outliers using the IQR method"
   ]
  },
  {
   "cell_type": "code",
   "execution_count": 19,
   "id": "8e12a0d9-5cfe-49e1-8d2c-55667bffffbc",
   "metadata": {},
   "outputs": [
    {
     "name": "stdout",
     "output_type": "stream",
     "text": [
      "slno has 832 outliers in Assam\n",
      "Round_Centre has 0 outliers in Assam\n",
      "FSU_number has 0 outliers in Assam\n",
      "Round has 0 outliers in Assam\n",
      "Schedule_Number has 0 outliers in Assam\n",
      "Sample has 0 outliers in Assam\n",
      "Sector has 0 outliers in Assam\n",
      "state has 0 outliers in Assam\n",
      "State_Region has 0 outliers in Assam\n",
      "District has 0 outliers in Assam\n",
      "Stratum_Number has 0 outliers in Assam\n",
      "Sub_Stratum has 0 outliers in Assam\n",
      "Schedule_type has 0 outliers in Assam\n",
      "Sub_Round has 0 outliers in Assam\n",
      "Sub_Sample has 0 outliers in Assam\n",
      "FOD_Sub_Region has 40 outliers in Assam\n",
      "Hamlet_Group_Sub_Block has 0 outliers in Assam\n",
      "t has 12 outliers in Assam\n",
      "X_Stage_Stratum has 0 outliers in Assam\n",
      "HHS_No has 155 outliers in Assam\n",
      "Level has 0 outliers in Assam\n",
      "Filler has 0 outliers in Assam\n",
      "hhdsz has 58 outliers in Assam\n",
      "NIC_2008 has 0 outliers in Assam\n",
      "NCO_2004 has 146 outliers in Assam\n",
      "HH_type has 103 outliers in Assam\n",
      "Religion has 18 outliers in Assam\n",
      "Social_Group has 0 outliers in Assam\n",
      "Whether_owns_any_land has 104 outliers in Assam\n",
      "Type_of_land_owned has 0 outliers in Assam\n",
      "Land_Owned has 151 outliers in Assam\n",
      "Land_Leased_in has 224 outliers in Assam\n",
      "Otherwise_possessed has 40 outliers in Assam\n",
      "Land_Leased_out has 76 outliers in Assam\n",
      "Land_Total_possessed has 31 outliers in Assam\n",
      "During_July_June_Cultivated has 2 outliers in Assam\n",
      "During_July_June_Irrigated has 143 outliers in Assam\n",
      "NSS has 0 outliers in Assam\n",
      "NSC has 0 outliers in Assam\n",
      "MLT has 74 outliers in Assam\n",
      "land_tt has 26 outliers in Assam\n",
      "Cooking_code has 300 outliers in Assam\n",
      "Lighting_code has 0 outliers in Assam\n",
      "Dwelling_unit_code has 2 outliers in Assam\n",
      "Regular_salary_earner has 111 outliers in Assam\n",
      "Perform_Ceremony has 14 outliers in Assam\n",
      "Meals_seved_to_non_hhld_members has 48 outliers in Assam\n",
      "Possess_ration_card has 90 outliers in Assam\n",
      "Type_of_ration_card has 0 outliers in Assam\n",
      "MPCE_URP has 25 outliers in Assam\n",
      "MPCE_MRP has 6 outliers in Assam\n",
      "Person_Srl_No has 0 outliers in Assam\n",
      "Relation has 0 outliers in Assam\n",
      "Sex has 57 outliers in Assam\n",
      "Age has 2 outliers in Assam\n",
      "Marital_Status has 21 outliers in Assam\n",
      "Education has 101 outliers in Assam\n",
      "Days_Stayed_away has 54 outliers in Assam\n",
      "No_of_Meals_per_day has 47 outliers in Assam\n",
      "Meals_School has 0 outliers in Assam\n",
      "Meals_Employer has 7 outliers in Assam\n",
      "Meals_Others has 5 outliers in Assam\n",
      "Meals_Payment has 6 outliers in Assam\n",
      "Meals_At_Home has 2 outliers in Assam\n",
      "Item_Code has 0 outliers in Assam\n",
      "Source_Code has 38 outliers in Assam\n",
      "ricepds_q has 3 outliers in Assam\n",
      "riceos_q has 0 outliers in Assam\n",
      "ricetotal_q has 3 outliers in Assam\n",
      "chira_q has 19 outliers in Assam\n",
      "khoi_q has 2 outliers in Assam\n",
      "muri_q has 7 outliers in Assam\n",
      "ricepro_q has 4 outliers in Assam\n",
      "riceGT_q has 0 outliers in Assam\n",
      "Wheatpds_q has 11 outliers in Assam\n",
      "wheatos_q has 3 outliers in Assam\n",
      "wheattotal_q has 0 outliers in Assam\n",
      "maida_q has 3 outliers in Assam\n",
      "suji_q has 26 outliers in Assam\n",
      "sewai_q has 12 outliers in Assam\n",
      "bread_q has 12 outliers in Assam\n",
      "wheatp_q has 0 outliers in Assam\n",
      "wheatGT_q has 0 outliers in Assam\n",
      "jowarp_q has 0 outliers in Assam\n",
      "bajrap_q has 0 outliers in Assam\n",
      "maizep_q has 4 outliers in Assam\n",
      "barleyp_q has 0 outliers in Assam\n",
      "milletp_q has 0 outliers in Assam\n",
      "ragip_q has 0 outliers in Assam\n",
      "cerealot_q has 2 outliers in Assam\n",
      "cerealtot_q has 0 outliers in Assam\n",
      "cerealsub_q has 0 outliers in Assam\n",
      "cerealstt_q has 0 outliers in Assam\n",
      "arhar_q has 17 outliers in Assam\n",
      "gramdal_q has 8 outliers in Assam\n",
      "gramwholep_q has 8 outliers in Assam\n",
      "gramGT_q has 0 outliers in Assam\n",
      "moong_q has 26 outliers in Assam\n",
      "masur_q has 8 outliers in Assam\n",
      "urd_q has 21 outliers in Assam\n",
      "peasdal_q has 3 outliers in Assam\n",
      "khesari_q has 1 outliers in Assam\n",
      "otpulse_q has 0 outliers in Assam\n",
      "gramp_q has 0 outliers in Assam\n",
      "besan_q has 0 outliers in Assam\n",
      "pulsep_q has 6 outliers in Assam\n",
      "pulsestot_q has 0 outliers in Assam\n",
      "pulsestt_q has 0 outliers in Assam\n",
      "soyabean_q has 0 outliers in Assam\n",
      "milk_q has 14 outliers in Assam\n",
      "babyfood_q has 1 outliers in Assam\n",
      "milkcond_q has 0 outliers in Assam\n",
      "curd_q has 1 outliers in Assam\n",
      "ghee_q has 0 outliers in Assam\n",
      "butter_q has 1 outliers in Assam\n",
      "icecream_q has 0 outliers in Assam\n",
      "otmilkp_q has 0 outliers in Assam\n",
      "Milktotal_q has 0 outliers in Assam\n",
      "milkprott_q has 0 outliers in Assam\n",
      "vanas_q has 0 outliers in Assam\n",
      "musoil_q has 4 outliers in Assam\n",
      "gnoil_q has 0 outliers in Assam\n",
      "cocooil_q has 0 outliers in Assam\n",
      "edioilothr_q has 0 outliers in Assam\n",
      "edibletotal_q has 0 outliers in Assam\n",
      "ediblest_q has 2 outliers in Assam\n",
      "eggsno_q has 0 outliers in Assam\n",
      "fishprawn_q has 6 outliers in Assam\n",
      "goatmeat_q has 0 outliers in Assam\n",
      "beef_q has 2 outliers in Assam\n",
      "pork_q has 2 outliers in Assam\n",
      "chicken_q has 1 outliers in Assam\n",
      "othrbirds_q has 0 outliers in Assam\n",
      "nonvegtotal_q has 0 outliers in Assam\n",
      "emftt_q has 3 outliers in Assam\n",
      "potato_q has 0 outliers in Assam\n",
      "onion_q has 5 outliers in Assam\n",
      "tamato_q has 0 outliers in Assam\n",
      "brinjal_q has 0 outliers in Assam\n",
      "radish_q has 3 outliers in Assam\n",
      "carrot_q has 0 outliers in Assam\n",
      "palak_q has 0 outliers in Assam\n",
      "chillig_q has 1 outliers in Assam\n",
      "bhindi_q has 3 outliers in Assam\n",
      "parwal_q has 2 outliers in Assam\n",
      "cauli_q has 0 outliers in Assam\n",
      "cabbage_q has 0 outliers in Assam\n",
      "pumpkin_q has 0 outliers in Assam\n",
      "peas_q has 0 outliers in Assam\n",
      "fbeans_q has 1 outliers in Assam\n",
      "lemonno_q has 0 outliers in Assam\n",
      "otveg_q has 2 outliers in Assam\n",
      "vegtt_q has 0 outliers in Assam\n",
      "bananano_q has 0 outliers in Assam\n",
      "jackfruit_q has 0 outliers in Assam\n",
      "watermel_q has 0 outliers in Assam\n",
      "pineaplno_q has 0 outliers in Assam\n",
      "cocono_q has 0 outliers in Assam\n",
      "cocogno_q has 0 outliers in Assam\n",
      "guava_q has 0 outliers in Assam\n",
      "sighara_q has 0 outliers in Assam\n",
      "orangeno_q has 0 outliers in Assam\n",
      "papayar_q has 0 outliers in Assam\n",
      "mango_q has 0 outliers in Assam\n",
      "kharbooz_q has 0 outliers in Assam\n",
      "pears_q has 0 outliers in Assam\n",
      "berries_q has 0 outliers in Assam\n",
      "leechi_q has 0 outliers in Assam\n",
      "apple_q has 0 outliers in Assam\n",
      "grapes_q has 0 outliers in Assam\n",
      "otfruits_q has 0 outliers in Assam\n",
      "fruitstt_q has 0 outliers in Assam\n",
      "fruitt_total has 0 outliers in Assam\n",
      "cocodf_q has 0 outliers in Assam\n",
      "gnutdf_q has 0 outliers in Assam\n",
      "datesdf_q has 0 outliers in Assam\n",
      "cashewdf_q has 0 outliers in Assam\n",
      "walnutdf_q has 0 outliers in Assam\n",
      "otnutsdf_q has 0 outliers in Assam\n",
      "kishmish_q has 0 outliers in Assam\n",
      "otherdf_q has 0 outliers in Assam\n",
      "dryfruitstotal_q has 0 outliers in Assam\n",
      "dftt_q has 0 outliers in Assam\n",
      "sugarpds_q has 1 outliers in Assam\n",
      "sugaros_q has 1 outliers in Assam\n",
      "sugarst_q has 0 outliers in Assam\n",
      "gur_q has 0 outliers in Assam\n",
      "misri_q has 0 outliers in Assam\n",
      "honey_q has 0 outliers in Assam\n",
      "sugartotal_q has 0 outliers in Assam\n",
      "sugartt_q has 0 outliers in Assam\n",
      "salt_q has 1 outliers in Assam\n",
      "ginger_q has 0 outliers in Assam\n",
      "garlic_q has 0 outliers in Assam\n",
      "jeera_q has 0 outliers in Assam\n",
      "dhania_q has 0 outliers in Assam\n",
      "turnmeric_q has 0 outliers in Assam\n",
      "blackpepper_q has 0 outliers in Assam\n",
      "drychilly_q has 0 outliers in Assam\n",
      "tamarind_q has 0 outliers in Assam\n",
      "currypowder_q has 0 outliers in Assam\n",
      "oilseeds_q has 0 outliers in Assam\n",
      "spicesothr_q has 0 outliers in Assam\n",
      "spicetot_q has 0 outliers in Assam\n",
      "spicestotal_q has 0 outliers in Assam\n",
      "teacupno_q has 0 outliers in Assam\n",
      "tealeaf_q has 0 outliers in Assam\n",
      "teatotal_q has 0 outliers in Assam\n",
      "cofeeno_q has 0 outliers in Assam\n",
      "coffeepwdr_q has 0 outliers in Assam\n",
      "cofeetotal_q has 0 outliers in Assam\n",
      "ice_q has 0 outliers in Assam\n",
      "coldbvrg_q has 0 outliers in Assam\n",
      "juice_q has 0 outliers in Assam\n",
      "othrbevrg_q has 0 outliers in Assam\n",
      "bevergest_q has 0 outliers in Assam\n",
      "Biscuits_q has 0 outliers in Assam\n",
      "preparedsweet_q has 0 outliers in Assam\n",
      "pickle_q has 0 outliers in Assam\n",
      "sauce_jam_q has 0 outliers in Assam\n",
      "Othrprocessed_q has 0 outliers in Assam\n",
      "Beveragestotal_q has 0 outliers in Assam\n",
      "ricepds_v has 0 outliers in Assam\n",
      "riceos_v has 0 outliers in Assam\n",
      "ricetotal_v has 0 outliers in Assam\n",
      "chira_v has 0 outliers in Assam\n",
      "khoi_v has 0 outliers in Assam\n",
      "muri_v has 0 outliers in Assam\n",
      "ricepro_v has 0 outliers in Assam\n",
      "riceGT_v has 0 outliers in Assam\n",
      "Wheatpds_v has 0 outliers in Assam\n",
      "wheatos_v has 0 outliers in Assam\n",
      "wheattotal_v has 0 outliers in Assam\n",
      "maida_v has 0 outliers in Assam\n",
      "suji_v has 0 outliers in Assam\n",
      "sewai_v has 0 outliers in Assam\n",
      "bread_v has 0 outliers in Assam\n",
      "wheatp_v has 0 outliers in Assam\n",
      "wheatGT_v has 0 outliers in Assam\n",
      "jowarp_v has 0 outliers in Assam\n",
      "bajrap_v has 0 outliers in Assam\n",
      "maizep_v has 0 outliers in Assam\n",
      "barleyp_v has 0 outliers in Assam\n",
      "milletp_v has 0 outliers in Assam\n",
      "ragip_v has 0 outliers in Assam\n",
      "cerealot_v has 0 outliers in Assam\n",
      "cerealtot_v has 0 outliers in Assam\n",
      "cerealsub_v has 0 outliers in Assam\n",
      "cerealstt_v has 0 outliers in Assam\n",
      "arhar_v has 0 outliers in Assam\n",
      "gramdal_v has 0 outliers in Assam\n",
      "gramwholep_v has 0 outliers in Assam\n",
      "gramGT_v has 0 outliers in Assam\n",
      "moong_v has 0 outliers in Assam\n",
      "masur_v has 0 outliers in Assam\n",
      "urd_v has 0 outliers in Assam\n",
      "peasdal_v has 0 outliers in Assam\n",
      "khesari_v has 0 outliers in Assam\n",
      "otpulse_v has 0 outliers in Assam\n",
      "gramp_v has 0 outliers in Assam\n",
      "besan_v has 0 outliers in Assam\n",
      "pulsep_v has 0 outliers in Assam\n",
      "pulsestot_v has 0 outliers in Assam\n",
      "pulsestt_v has 0 outliers in Assam\n",
      "soyabean_v has 0 outliers in Assam\n",
      "milk_v has 0 outliers in Assam\n",
      "babyfood_v has 0 outliers in Assam\n",
      "milkcond_v has 0 outliers in Assam\n",
      "curd_v has 0 outliers in Assam\n",
      "ghee_v has 0 outliers in Assam\n",
      "butter_v has 0 outliers in Assam\n",
      "icecream_v has 0 outliers in Assam\n",
      "otmilkp_v has 0 outliers in Assam\n",
      "Milktotal_v has 0 outliers in Assam\n",
      "milkprott_v has 0 outliers in Assam\n",
      "vanas_v has 0 outliers in Assam\n",
      "musoil_v has 0 outliers in Assam\n",
      "gnoil_v has 0 outliers in Assam\n",
      "cocooil_v has 0 outliers in Assam\n",
      "edioilothr_v has 0 outliers in Assam\n",
      "edibletotal_v has 0 outliers in Assam\n",
      "ediblest_v has 0 outliers in Assam\n",
      "eggsno_v has 0 outliers in Assam\n",
      "fishprawn_v has 0 outliers in Assam\n",
      "goatmeat_v has 0 outliers in Assam\n",
      "beef_v has 0 outliers in Assam\n",
      "pork_v has 0 outliers in Assam\n",
      "chicken_v has 0 outliers in Assam\n",
      "othrbirds_v has 0 outliers in Assam\n",
      "nonvegtotal_v has 0 outliers in Assam\n",
      "emftt_v has 0 outliers in Assam\n",
      "potato_v has 0 outliers in Assam\n",
      "onion_v has 0 outliers in Assam\n",
      "tamato_v has 0 outliers in Assam\n",
      "brinjal_v has 0 outliers in Assam\n",
      "radish_v has 0 outliers in Assam\n",
      "carrot_v has 0 outliers in Assam\n",
      "palak_v has 0 outliers in Assam\n",
      "chillig_v has 0 outliers in Assam\n",
      "bhindi_v has 0 outliers in Assam\n",
      "parwal_v has 0 outliers in Assam\n",
      "cauli_v has 0 outliers in Assam\n",
      "cabbage_v has 0 outliers in Assam\n",
      "pumpkin_v has 0 outliers in Assam\n",
      "peas_v has 0 outliers in Assam\n",
      "fbeans_v has 0 outliers in Assam\n",
      "lemonno_v has 0 outliers in Assam\n",
      "otveg_v has 0 outliers in Assam\n",
      "vegtt_v has 0 outliers in Assam\n",
      "bananano_v has 0 outliers in Assam\n",
      "jackfruit_v has 0 outliers in Assam\n",
      "watermel_v has 0 outliers in Assam\n",
      "pineaplno_v has 0 outliers in Assam\n",
      "cocono_v has 0 outliers in Assam\n",
      "cocogno_v has 0 outliers in Assam\n",
      "guava_v has 0 outliers in Assam\n",
      "sighara_v has 0 outliers in Assam\n",
      "orangeno_v has 0 outliers in Assam\n",
      "papayar_v has 0 outliers in Assam\n",
      "mango_v has 0 outliers in Assam\n",
      "kharbooz_v has 0 outliers in Assam\n",
      "pears_v has 0 outliers in Assam\n",
      "berries_v has 0 outliers in Assam\n",
      "leechi_v has 0 outliers in Assam\n",
      "apple_v has 0 outliers in Assam\n",
      "grapes_v has 0 outliers in Assam\n",
      "otfruits_v has 0 outliers in Assam\n",
      "fruitstt_v has 0 outliers in Assam\n",
      "cocodf_v has 0 outliers in Assam\n",
      "gnutdf_v has 0 outliers in Assam\n",
      "datesdf_v has 0 outliers in Assam\n",
      "cashewdf_v has 0 outliers in Assam\n",
      "walnutdf_v has 0 outliers in Assam\n",
      "otnutsdf_v has 0 outliers in Assam\n",
      "kishmish_v has 0 outliers in Assam\n",
      "otherdf_v has 0 outliers in Assam\n",
      "dryfruitstotal_v has 0 outliers in Assam\n",
      "dftt_v has 0 outliers in Assam\n",
      "sugarpds_v has 0 outliers in Assam\n",
      "sugaros_v has 0 outliers in Assam\n",
      "sugarst_v has 0 outliers in Assam\n",
      "gur_v has 0 outliers in Assam\n",
      "misri_v has 0 outliers in Assam\n",
      "honey_v has 0 outliers in Assam\n",
      "sugartotal_v has 0 outliers in Assam\n",
      "sugartt_v has 0 outliers in Assam\n",
      "salt_v has 0 outliers in Assam\n",
      "ginger_v has 0 outliers in Assam\n",
      "garlic_v has 0 outliers in Assam\n",
      "jeera_v has 0 outliers in Assam\n",
      "dhania_v has 0 outliers in Assam\n",
      "turnmeric_v has 0 outliers in Assam\n",
      "blackpepper_v has 0 outliers in Assam\n",
      "drychilly_v has 0 outliers in Assam\n",
      "tamarind_v has 0 outliers in Assam\n",
      "currypowder_v has 0 outliers in Assam\n",
      "oilseeds_v has 0 outliers in Assam\n",
      "spicesothr_v has 0 outliers in Assam\n",
      "spicetot_v has 0 outliers in Assam\n",
      "spicestotal_v has 0 outliers in Assam\n",
      "teacupno_v has 0 outliers in Assam\n",
      "tealeaf_v has 0 outliers in Assam\n",
      "teatotal_v has 0 outliers in Assam\n",
      "cofeeno_v has 0 outliers in Assam\n",
      "coffeepwdr_v has 0 outliers in Assam\n",
      "cofeetotal_v has 0 outliers in Assam\n",
      "ice_v has 0 outliers in Assam\n",
      "coldbvrg_v has 0 outliers in Assam\n",
      "juice_v has 0 outliers in Assam\n",
      "othrbevrg_v has 0 outliers in Assam\n",
      "bevergest_v has 0 outliers in Assam\n",
      "Biscuits_v has 0 outliers in Assam\n",
      "preparedsweet_v has 0 outliers in Assam\n",
      "pickle_v has 0 outliers in Assam\n",
      "sauce_jam_v has 0 outliers in Assam\n",
      "Othrprocessed_v has 0 outliers in Assam\n",
      "Beveragestotal_v has 0 outliers in Assam\n",
      "foodtotal_v has 0 outliers in Assam\n",
      "foodtotal_q has 0 outliers in Assam\n",
      "Region has 0 outliers in Assam\n",
      "fruits_df_tt_v has 0 outliers in Assam\n",
      "fv_tot has 0 outliers in Assam\n"
     ]
    }
   ],
   "source": [
    "numeric_columns = assam_data.select_dtypes(include=[np.number]).columns\n",
    "for col in numeric_columns:\n",
    "    Q1 = assam_data[col].quantile(0.25)\n",
    "    Q3 = assam_data[col].quantile(0.75)\n",
    "    IQR = Q3 - Q1\n",
    "    outliers = ((assam_data[col] < (Q1 - 1.5 * IQR)) | (assam_data[col] > (Q3 + 1.5 * IQR)))\n",
    "    print(f\"{col} has {outliers.sum()} outliers in Assam\")\n",
    "    assam_data = assam_data[~outliers]"
   ]
  },
  {
   "cell_type": "markdown",
   "id": "63f47953-0d2f-42b9-9025-b443f923acec",
   "metadata": {},
   "source": [
    "# Check if the column exists and rename it"
   ]
  },
  {
   "cell_type": "code",
   "execution_count": 20,
   "id": "50e9fca5-f603-4396-9408-a7af546b7d89",
   "metadata": {},
   "outputs": [
    {
     "name": "stdout",
     "output_type": "stream",
     "text": [
      "Column 'old_district_column_name' doesn't exist in the data.\n"
     ]
    }
   ],
   "source": [
    "if 'old_district_column_name' in assam_data.columns:\n",
    "    assam_data.rename(columns={'old_district_column_name': 'new_district_column_name'}, inplace=True)\n",
    "else:\n",
    "    print(\"Column 'old_district_column_name' doesn't exist in the data.\")"
   ]
  },
  {
   "cell_type": "markdown",
   "id": "34d6cbf7-9ae2-4c31-8f0a-4dc51b7375ae",
   "metadata": {},
   "source": [
    "# Summarize the critical variables region-wise"
   ]
  },
  {
   "cell_type": "code",
   "execution_count": 21,
   "id": "a5164595-5456-4e99-96cc-4c13d20e227c",
   "metadata": {},
   "outputs": [],
   "source": [
    "region_summary = assam_data.groupby('FOD_Sub_Region').agg(\n",
    "    avg_No_of_Meals_per_day=('No_of_Meals_per_day', 'mean'),\n",
    "    min_No_of_Meals_per_day=('No_of_Meals_per_day', 'min'),\n",
    "    max_No_of_Meals_per_day=('No_of_Meals_per_day', 'max')\n",
    ").reset_index()\n"
   ]
  },
  {
   "cell_type": "markdown",
   "id": "e60a6db2-8720-43a9-8267-a6754a6b5fd7",
   "metadata": {},
   "source": [
    "# Summarize the critical variables district-wise"
   ]
  },
  {
   "cell_type": "code",
   "execution_count": 22,
   "id": "f20847c9-e79e-4b39-8022-3c431f4a959a",
   "metadata": {},
   "outputs": [],
   "source": [
    "district_summary = assam_data.groupby('District').agg(\n",
    "    avg_No_of_Meals_per_day=('No_of_Meals_per_day', 'mean'),\n",
    "    min_No_of_Meals_per_day=('No_of_Meals_per_day', 'min'),\n",
    "    max_No_of_Meals_per_day=('No_of_Meals_per_day', 'max')\n",
    ").reset_index()"
   ]
  },
  {
   "cell_type": "markdown",
   "id": "c9564586-8225-4414-ab06-f6228291b138",
   "metadata": {},
   "source": [
    "# Mutate the District column"
   ]
  },
  {
   "cell_type": "code",
   "execution_count": 23,
   "id": "cc5ed1b9-2255-4392-a9cb-712277987f7f",
   "metadata": {},
   "outputs": [],
   "source": [
    "assam_data['District'] = assam_data['District'].apply(lambda x: 'ASSM Urban' if x == '18' else x)\n"
   ]
  },
  {
   "cell_type": "markdown",
   "id": "47d6eb0e-61c9-4077-873f-86c9050f9c8d",
   "metadata": {},
   "source": [
    "# Identify the top and bottom three districts of consumption"
   ]
  },
  {
   "cell_type": "code",
   "execution_count": 24,
   "id": "6ab23ed3-fb74-45a8-b576-45501b07cba3",
   "metadata": {},
   "outputs": [],
   "source": [
    "top_three_districts = district_summary.sort_values(by='avg_No_of_Meals_per_day', ascending=False).head(3)\n",
    "bottom_three_districts = district_summary.sort_values(by='avg_No_of_Meals_per_day').head(3)\n"
   ]
  },
  {
   "cell_type": "markdown",
   "id": "13f28125-52c5-4559-90ad-5a60a07f223e",
   "metadata": {},
   "source": [
    "# Inspect unique values in No_of_Meals_per_day for each District"
   ]
  },
  {
   "cell_type": "code",
   "execution_count": 42,
   "id": "8e0213b9-1363-4864-819e-1e96efedcce7",
   "metadata": {},
   "outputs": [
    {
     "name": "stdout",
     "output_type": "stream",
     "text": [
      "Unique values of No_of_Meals_per_day for each District:\n",
      "19: [3.]\n",
      "23: [3.]\n"
     ]
    }
   ],
   "source": [
    "unique_values_per_district = assam_data.groupby('District')['No_of_Meals_per_day'].unique()\n",
    "print(\"Unique values of No_of_Meals_per_day for each District:\")\n",
    "for district, unique_values in unique_values_per_district.items():\n",
    "    print(f\"{district}: {unique_values}\")"
   ]
  },
  {
   "cell_type": "markdown",
   "id": "fd0554c4-f11f-4429-a0bf-d1de9473daa4",
   "metadata": {},
   "source": [
    "\n",
    "# ANOVA analysis"
   ]
  },
  {
   "cell_type": "code",
   "execution_count": 35,
   "id": "7c3fdd96-d0b5-4270-bd93-1a83705c9f9e",
   "metadata": {},
   "outputs": [],
   "source": [
    "import statsmodels.api as sm"
   ]
  },
  {
   "cell_type": "code",
   "execution_count": 39,
   "id": "278f96d5-ba08-4461-bfd5-53125e76272a",
   "metadata": {},
   "outputs": [],
   "source": [
    "from statsmodels.formula.api import ols"
   ]
  },
  {
   "cell_type": "code",
   "execution_count": 47,
   "id": "56446ebe-f4d0-45e1-a0b1-6a2e0c3ef8db",
   "metadata": {},
   "outputs": [],
   "source": [
    "district_groups = [assam_data[assam_data['District'] == district]['No_of_Meals_per_day'].dropna() for district in assam_data['District'].unique()]\n",
    "anova_result = f_oneway(*district_groups)"
   ]
  },
  {
   "cell_type": "markdown",
   "id": "1f273029-75a1-4d5d-84bc-9cc396a53b2f",
   "metadata": {},
   "source": [
    "# Display ANOVA results"
   ]
  },
  {
   "cell_type": "code",
   "execution_count": 57,
   "id": "3917aee4-16b7-4555-bc68-350790dd33ff",
   "metadata": {},
   "outputs": [],
   "source": [
    "model = ols('No_of_Meals_per_day ~ (District)', data=assam_data).fit()\n",
    "anova_result = sm.stats.anova_lm(model, typ=2)"
   ]
  },
  {
   "cell_type": "code",
   "execution_count": 58,
   "id": "2086cb36-e64c-4126-90e8-86fedbd93918",
   "metadata": {},
   "outputs": [
    {
     "name": "stdout",
     "output_type": "stream",
     "text": [
      "ANOVA results:\n",
      "\n",
      "                sum_sq   df         F    PR(>F)\n",
      "District  1.314768e-31  1.0  0.002545  0.967914\n",
      "Residual  5.167039e-29  1.0       NaN       NaN\n"
     ]
    }
   ],
   "source": [
    "print(\"ANOVA results:\\n\")\n",
    "print(anova_result)"
   ]
  },
  {
   "cell_type": "code",
   "execution_count": 59,
   "id": "50513c04-e31e-4778-bc59-2bc975e2f885",
   "metadata": {},
   "outputs": [],
   "source": [
    "anova_summary = anova_result.reset_index()\n",
    "anova_summary.columns = ['Source', 'sum_sq', 'df', 'F', 'PR(>F)']"
   ]
  },
  {
   "cell_type": "code",
   "execution_count": 60,
   "id": "b82c0da8-e8ac-4537-bab6-9f0bfa8bea1a",
   "metadata": {},
   "outputs": [
    {
     "data": {
      "image/png": "[encoded data removed]",
      "text/plain": [
       "<Figure size 640x480 with 1 Axes>"
      ]
     },
     "metadata": {},
     "output_type": "display_data"
    }
   ],
   "source": [
    "sns.barplot(x='Source', y='F', data=anova_summary, palette='viridis')\n",
    "plt.title('Mean Squares (Effect Sizes)')\n",
    "plt.xlabel('Source')\n",
    "plt.ylabel('Variance (F-value)')\n",
    "plt.show()"
   ]
  },
  {
   "cell_type": "markdown",
   "id": "fd8ed338-d048-49e3-90a4-6d45cfa176b1",
   "metadata": {},
   "source": [
    "##In conclusion, the ANOVA results suggest that the District variable does not have a significant effect on the mean of No_of_Meals_per_day."
   ]
  },
  {
   "cell_type": "markdown",
   "id": "2002ed2a-0c60-4b0b-b46f-b2805086cb0d",
   "metadata": {},
   "source": [
    "# Multiple Regression Analysis"
   ]
  },
  {
   "cell_type": "code",
   "execution_count": 1,
   "id": "8e5782d0-8d62-4ab0-b143-82a148a318c3",
   "metadata": {},
   "outputs": [],
   "source": [
    "import statsmodels.api as sm"
   ]
  },
  {
   "cell_type": "markdown",
   "id": "c8e5a9db-7d4d-4be1-aa11-75c4595fb97a",
   "metadata": {},
   "source": [
    "# Define the dependent and independent variables"
   ]
  },
  {
   "cell_type": "code",
   "execution_count": 8,
   "id": "1fd5a912-5fcd-454e-aabb-ec7da7046bf0",
   "metadata": {},
   "outputs": [],
   "source": [
    "y = assam_data['No_of_Meals_per_day']\n",
    "X = assam_data[['Region', 'District', 'FOD_Sub_Region', 'foodtotal_q', 'fv_tot']]\n"
   ]
  },
  {
   "cell_type": "markdown",
   "id": "ba92d897-10ef-4325-aa1b-3b93fd76a7e0",
   "metadata": {},
   "source": [
    "# Add a constant to the independent variables"
   ]
  },
  {
   "cell_type": "code",
   "execution_count": 9,
   "id": "751f0b88-2997-40d6-b4c8-a0ca0f06dd9b",
   "metadata": {},
   "outputs": [],
   "source": [
    "X = sm.add_constant(X)"
   ]
  },
  {
   "cell_type": "markdown",
   "id": "c55e361a-773e-442e-a937-e42f8e456f8e",
   "metadata": {},
   "source": [
    "# Fit the multiple regression model"
   ]
  },
  {
   "cell_type": "code",
   "execution_count": 10,
   "id": "2966923e-2870-422a-bda7-1a839cc0774b",
   "metadata": {},
   "outputs": [],
   "source": [
    "model = sm.OLS(y, X).fit()"
   ]
  },
  {
   "cell_type": "markdown",
   "id": "35f55435-b51a-4f0b-abcc-a3a79cd10021",
   "metadata": {},
   "source": [
    "# Print the regression summary"
   ]
  },
  {
   "cell_type": "code",
   "execution_count": 11,
   "id": "18ced815-b144-4061-a137-22a101dfbec3",
   "metadata": {},
   "outputs": [
    {
     "name": "stdout",
     "output_type": "stream",
     "text": [
      "                             OLS Regression Results                            \n",
      "===============================================================================\n",
      "Dep. Variable:     No_of_Meals_per_day   R-squared:                       0.043\n",
      "Model:                             OLS   Adj. R-squared:                  0.042\n",
      "Method:                  Least Squares   F-statistic:                     30.82\n",
      "Date:                 Sat, 22 Jun 2024   Prob (F-statistic):           8.96e-31\n",
      "Time:                         11:06:48   Log-Likelihood:                -1688.5\n",
      "No. Observations:                 3440   AIC:                             3389.\n",
      "Df Residuals:                     3434   BIC:                             3426.\n",
      "Df Model:                            5                                         \n",
      "Covariance Type:             nonrobust                                         \n",
      "==================================================================================\n",
      "                     coef    std err          t      P>|t|      [0.025      0.975]\n",
      "----------------------------------------------------------------------------------\n",
      "const              3.1341      0.267     11.725      0.000       2.610       3.658\n",
      "Region            -0.0098      0.006     -1.554      0.120      -0.022       0.003\n",
      "District           0.0010      0.001      1.083      0.279      -0.001       0.003\n",
      "FOD_Sub_Region    -0.0003      0.000     -1.990      0.047      -0.001   -4.33e-06\n",
      "foodtotal_q        0.0157      0.001     11.145      0.000       0.013       0.018\n",
      "fv_tot            -0.0016      0.000    -11.091      0.000      -0.002      -0.001\n",
      "==============================================================================\n",
      "Omnibus:                      652.344   Durbin-Watson:                   1.129\n",
      "Prob(Omnibus):                  0.000   Jarque-Bera (JB):             1102.268\n",
      "Skew:                          -1.384   Prob(JB):                    4.42e-240\n",
      "Kurtosis:                       3.174   Cond. No.                     7.19e+04\n",
      "==============================================================================\n",
      "\n",
      "Notes:\n",
      "[1] Standard Errors assume that the covariance matrix of the errors is correctly specified.\n",
      "[2] The condition number is large, 7.19e+04. This might indicate that there are\n",
      "strong multicollinearity or other numerical problems.\n"
     ]
    }
   ],
   "source": [
    "print(model.summary())"
   ]
  },
  {
   "cell_type": "markdown",
   "id": "92ae5b09-00f0-4f5f-a1e4-32c991c654d2",
   "metadata": {},
   "source": [
    "# Regression Diagnostics"
   ]
  },
  {
   "cell_type": "markdown",
   "id": "0fab6a9a-9ee8-40f2-809b-8e72c7abfa3e",
   "metadata": {},
   "source": [
    "### 1. Linearity"
   ]
  },
  {
   "cell_type": "code",
   "execution_count": 13,
   "id": "bce5c0ca-e4c3-40c5-ab01-32c7bd708543",
   "metadata": {},
   "outputs": [
    {
     "data": {
      "image/png": "[encoded data removed]",
      "text/plain": [
       "<Figure size 640x480 with 1 Axes>"
      ]
     },
     "metadata": {},
     "output_type": "display_data"
    }
   ],
   "source": [
    "sns.scatterplot(x=model.fittedvalues, y=model.resid)\n",
    "plt.xlabel('Fitted Values')\n",
    "plt.ylabel('Residuals')\n",
    "plt.title('Linearity Check')\n",
    "plt.show()"
   ]
  },
  {
   "cell_type": "markdown",
   "id": "9fa616fd-c63e-4893-8ce0-004b782471de",
   "metadata": {},
   "source": [
    "### 2. Homoscedasticity"
   ]
  },
  {
   "cell_type": "code",
   "execution_count": 14,
   "id": "c1b41608-5102-40b6-8fcb-5999b6923dc2",
   "metadata": {},
   "outputs": [
    {
     "data": {
      "image/png": "[encoded data removed]",
      "text/plain": [
       "<Figure size 640x480 with 1 Axes>"
      ]
     },
     "metadata": {},
     "output_type": "display_data"
    }
   ],
   "source": [
    "sns.scatterplot(x=model.fittedvalues, y=model.resid**2)\n",
    "plt.xlabel('Fitted Values')\n",
    "plt.ylabel('Squared Residuals')\n",
    "plt.title('Homoscedasticity Check')\n",
    "plt.show()"
   ]
  },
  {
   "cell_type": "markdown",
   "id": "f9610bcb-bb8a-4711-988d-9671a4865f32",
   "metadata": {},
   "source": [
    "### 3. Normality of Residuals"
   ]
  },
  {
   "cell_type": "code",
   "execution_count": 15,
   "id": "dd61c686-c7e3-4662-b822-c02d79e58ea2",
   "metadata": {},
   "outputs": [
    {
     "name": "stderr",
     "output_type": "stream",
     "text": [
      "C:\\Users\\Bala Vignesh.A\\AppData\\Local\\Temp\\ipykernel_10916\\1671985890.py:1: UserWarning: \n",
      "\n",
      "`distplot` is a deprecated function and will be removed in seaborn v0.14.0.\n",
      "\n",
      "Please adapt your code to use either `displot` (a figure-level function with\n",
      "similar flexibility) or `histplot` (an axes-level function for histograms).\n",
      "\n",
      "For a guide to updating your code to use the new functions, please see\n",
      "https://gist.github.com/mwaskom/de44147ed2974457ad6372750bbe5751\n",
      "\n",
      "  sns.distplot(model.resid, kde=False)\n"
     ]
    },
    {
     "data": {
      "image/png": "[encoded data removed]",
      "text/plain": [
       "<Figure size 640x480 with 1 Axes>"
      ]
     },
     "metadata": {},
     "output_type": "display_data"
    }
   ],
   "source": [
    "sns.distplot(model.resid, kde=False)\n",
    "plt.title('Normality of Residuals')\n",
    "plt.show()"
   ]
  },
  {
   "cell_type": "markdown",
   "id": "1d651e39-d381-4b86-a644-d055c14a736b",
   "metadata": {},
   "source": [
    "### 4. Multicollinearity"
   ]
  },
  {
   "cell_type": "code",
   "execution_count": 16,
   "id": "b24670a9-2cfe-4b91-a44b-9d715d339f23",
   "metadata": {},
   "outputs": [
    {
     "name": "stdout",
     "output_type": "stream",
     "text": [
      "           VIF        features\n",
      "0  1570.068655           const\n",
      "1     1.016722          Region\n",
      "2     1.014632        District\n",
      "3     1.006422  FOD_Sub_Region\n",
      "4     1.729858     foodtotal_q\n",
      "5     1.734250          fv_tot\n"
     ]
    }
   ],
   "source": [
    "from statsmodels.stats.outliers_influence import variance_inflation_factor\n",
    "vif = pd.DataFrame()\n",
    "vif['VIF'] = [variance_inflation_factor(X.values, i) for i in range(X.shape[1])]\n",
    "vif['features'] = X.columns\n",
    "print(vif)"
   ]
  },
  {
   "cell_type": "markdown",
   "id": "fa3114b0-55f9-4a1a-a4b7-4e4942592eb3",
   "metadata": {},
   "source": [
    "### 5. Autocorrelation"
   ]
  },
  {
   "cell_type": "code",
   "execution_count": 17,
   "id": "867b949c-ead3-46ab-9c0d-feb69e47aad4",
   "metadata": {},
   "outputs": [
    {
     "name": "stdout",
     "output_type": "stream",
     "text": [
      "Durbin-Watson statistic: 1.1286483339416855\n"
     ]
    }
   ],
   "source": [
    "from statsmodels.stats.stattools import durbin_watson\n",
    "dw_stat = durbin_watson(model.resid)\n",
    "print(f'Durbin-Watson statistic: {dw_stat}')"
   ]
  },
  {
   "cell_type": "code",
   "execution_count": null,
   "id": "07f3b2d9-314d-4ec1-971a-35862b3a0656",
   "metadata": {},
   "outputs": [],
   "source": []
  }
 ],
 "metadata": {
  "kernelspec": {
   "display_name": "Python 3 (ipykernel)",
   "language": "python",
   "name": "python3"
  },
  "language_info": {
   "codemirror_mode": {
    "name": "ipython",
    "version": 3
   },
   "file_extension": ".py",
   "mimetype": "text/x-python",
   "name": "python",
   "nbconvert_exporter": "python",
   "pygments_lexer": "ipython3",
   "version": "3.11.7"
  }
 },
 "nbformat": 4,
 "nbformat_minor": 5
}
