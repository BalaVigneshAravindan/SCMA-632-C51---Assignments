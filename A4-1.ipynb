{
 "cells": [
  {
   "cell_type": "markdown",
   "id": "93044fb6-dee9-4eda-9cee-862acd07aab1",
   "metadata": {},
   "source": [
    "Principal Component Analysis (PCA):"
   ]
  },
  {
   "cell_type": "code",
   "execution_count": 4,
   "id": "1b662970-6fc1-472b-a4b1-4ac447ed30d5",
   "metadata": {},
   "outputs": [],
   "source": [
    "import numpy as np\n",
    "from sklearn.decomposition import PCA\n",
    "import pandas as pd\n"
   ]
  },
  {
   "cell_type": "code",
   "execution_count": 5,
   "id": "0f2946ba-e9c7-4fa1-9350-c9c3653d7754",
   "metadata": {},
   "outputs": [],
   "source": [
    "data = pd.read_csv(\"C:\\\\Users\\\\Bala Vignesh.A\\\\Desktop\\\\SCMA 632\\\\Survey.csv\")"
   ]
  },
  {
   "cell_type": "code",
   "execution_count": 8,
   "id": "1d0ef42b-f043-48a7-a451-4929f140dbea",
   "metadata": {},
   "outputs": [
    {
     "name": "stdout",
     "output_type": "stream",
     "text": [
      "[[-7.42701383e+03  5.52802844e+03 -2.69791993e+03  2.16248479e+02\n",
      "   1.93209150e+01 -6.81006821e+00 -4.51218741e-01 -2.14546879e+00\n",
      "   2.88250029e+00  1.25832759e+00]\n",
      " [-5.79072281e+04  1.57114307e+04 -1.08213936e+04  3.93261281e+02\n",
      "   3.91932880e+00  1.27230779e+01  2.19892915e+00 -5.20552232e+00\n",
      "   3.61094925e+00  7.26968465e-01]\n",
      " [-7.72838501e+04  1.11306668e+04  9.36237337e+03 -5.75871146e+01\n",
      "  -1.01757631e+01  1.50146151e+01 -5.00393416e+00 -5.29136086e+00\n",
      "  -2.45657244e-01  2.40313326e+00]\n",
      " [ 1.10968269e+05  4.53825097e+03 -6.25976435e+03 -3.32052456e+02\n",
      "  -7.86511957e+00 -2.34308781e+01 -5.81097678e+00  8.42803311e-01\n",
      "   3.47403574e-01  2.90699553e+00]\n",
      " [-7.43029351e+03  5.53190076e+03 -2.70118870e+03 -1.83903366e+02\n",
      "   6.00009936e+00 -1.45359128e+01  9.01423283e+00 -3.63099346e+00\n",
      "  -9.86760546e-02  8.87034080e-01]\n",
      " [-2.52232147e+04 -3.57631257e+03 -2.03064400e+03 -1.31802977e+02\n",
      "   2.04567403e+00 -1.10790990e+00 -5.07299714e+00 -2.80127661e+00\n",
      "   2.99363188e-01  8.60696507e-02]\n",
      " [ 1.03908580e+05  1.73254868e+04 -1.99185371e+04 -3.94772908e+01\n",
      "  -1.37521302e+01 -1.74795265e+01  2.28873325e+00 -1.40072563e+00\n",
      "  -6.75876857e-01  6.80412588e-01]\n",
      " [-7.72846696e+04  1.11316297e+04  9.36156311e+03 -1.57561885e+02\n",
      "   9.49147816e-01 -4.52812050e+00 -6.20303548e+00 -1.89259914e+00\n",
      "   5.43110285e-01 -2.11571130e+00]\n",
      " [ 1.03626295e+04  1.46401153e+04 -3.37174020e+03 -2.35998941e+02\n",
      "  -2.31614735e-01 -9.68902453e+00  8.81947978e+00 -5.14981041e+00\n",
      "   2.55204858e+00 -1.77650939e+00]\n",
      " [ 2.82886697e+04 -2.13844315e+04 -1.70687026e+04  1.82060933e+02\n",
      "   6.86516601e+00  6.05731409e+00 -3.58281584e+00 -4.31866483e+00\n",
      "  -3.76383005e-01  4.17020849e-02]\n",
      " [-5.44197476e+04  9.39453991e+03 -4.07395630e+03  2.48656384e+02\n",
      "   7.75097672e+00 -7.87562493e+00  1.46917590e+00 -9.65226633e-01\n",
      "  -2.12502125e+00  7.98504350e-01]\n",
      " [-3.22828965e+04  9.21091216e+03 -1.56894112e+04  1.60940713e+02\n",
      "   1.45259784e+01  7.27757167e-01 -4.61829557e+00 -2.19724907e+00\n",
      "   8.14440142e-01 -4.72712315e-01]\n",
      " [-7.22167666e+04  2.91162725e+02 -3.40749416e+03 -1.99374332e+02\n",
      "  -4.11963229e+00 -1.06273116e+01 -4.17988263e+00 -4.63519450e-01\n",
      "  -9.64974179e-01  1.58929249e-02]\n",
      " [ 1.04924622e+04 -3.04887663e+04 -1.64014245e+04 -1.66100457e+02\n",
      "  -1.38047840e+01 -2.01066281e+00  4.04287283e+00 -4.99795015e+00\n",
      "  -1.41326779e+00 -7.60406270e-01]\n",
      " [-5.44197476e+04  9.39453985e+03 -4.07395636e+03  2.48655324e+02\n",
      "   7.75851242e+00 -7.94109565e+00  1.35687003e+00 -1.22437834e+00\n",
      "   1.53117688e-01  1.78626607e-01]\n",
      " [-7.72846704e+04  1.11316294e+04  9.36156706e+03 -1.57582225e+02\n",
      "   6.19787003e+00 -1.29241400e+01  8.23251594e+00 -2.67268643e+00\n",
      "   1.10705673e+00 -2.47251226e+00]\n",
      " [-4.73600659e+04 -3.39268510e+03  9.58481026e+03 -4.40839437e+01\n",
      "  -5.15210176e+00 -9.34919467e+00 -4.95702841e+00  2.59216728e-01\n",
      "   1.39589922e+00 -2.38295204e+00]\n",
      " [-4.30161367e+04 -1.26845264e+04 -1.36009517e+03 -7.97191069e+01\n",
      "   3.92333354e+00  2.98604023e+00 -4.72613869e+00 -2.25210504e+00\n",
      "   3.09398320e+00 -1.51871230e-02]\n",
      " [ 3.53483515e+04 -3.41716561e+04 -3.40993482e+03 -1.10692704e+02\n",
      "  -5.11632207e+00  4.05711122e+00  2.03926452e+00 -5.00990442e+00\n",
      "   1.28952259e+00  1.51471046e+00]\n",
      " [-2.08760281e+04 -1.28719992e+04 -1.29722877e+04  2.32277547e+02\n",
      "  -1.15801085e+01  3.35712701e+00 -1.85927724e+00 -1.58004706e+00\n",
      "   2.16596673e+00  2.94945957e+00]\n",
      " [-4.30161367e+04 -1.26845263e+04 -1.36009517e+03 -7.97195214e+01\n",
      "   3.92490288e+00  2.98831951e+00 -4.69518611e+00 -2.27905482e+00\n",
      "   3.18177161e+00 -6.73168550e-01]\n",
      " [-4.30128692e+04 -1.26883858e+04 -1.35682584e+03  3.20211362e+02\n",
      "   5.11565915e+00 -7.60088019e+00  2.30494431e+00  1.16478722e-01\n",
      "   1.17253177e+00  7.99894031e-01]\n",
      " [ 3.97659419e+03 -1.65510344e+04  1.59403983e+01 -1.12178832e+02\n",
      "   1.10136956e+01  1.94061297e+00 -5.94242408e+00 -2.79877136e+00\n",
      "   2.69077681e+00 -1.23966398e+00]\n",
      " [-2.95671314e+04  5.71551626e+03  8.91426279e+03 -9.59682954e+01\n",
      "   6.83977916e+00  3.98825840e+00 -1.33593761e-02 -3.35819289e+00\n",
      "  -5.84404664e-01  2.05864547e+00]\n",
      " [ 1.18034514e+05 -8.25672348e+03  7.40554681e+03  1.75563977e+02\n",
      "   1.95738541e+01 -1.62634528e+01 -2.00751174e+00  1.05606753e-01\n",
      "  -5.40421675e-01  2.15495400e+00]\n",
      " [-4.30161480e+04 -1.26845131e+04 -1.36009880e+03 -7.99237654e+01\n",
      "  -1.39458529e+01 -5.79161890e+00 -2.82292736e+00 -3.48390727e-01\n",
      "   2.16735805e-01 -4.50044236e-01]\n",
      " [-7.22167665e+04  2.91162700e+02 -3.40749417e+03 -1.99376622e+02\n",
      "  -4.07269978e+00 -1.04112359e+01 -3.75659949e+00  8.64242900e-01\n",
      "  -2.68040892e+00  7.94994782e-01]\n",
      " [-2.95638742e+04  5.71167068e+03  8.91752519e+03  3.03751111e+02\n",
      "  -1.47356375e+01 -6.17890142e+00  2.25656228e+00 -1.33490092e-01\n",
      "   1.04164370e+00  1.55833587e+00]\n",
      " [-4.30161378e+04 -1.26845271e+04 -1.36009231e+03 -7.97159796e+01\n",
      "   8.35994765e+00 -5.82801812e+00 -4.93557790e+00 -6.24223026e-01\n",
      "   6.49561857e-01 -8.52591730e-01]\n",
      " [ 1.04957477e+04 -3.04926450e+04 -1.63981532e+04  2.34140387e+02\n",
      "   9.08401963e+00  9.89961112e+00  3.09149312e+00 -4.83756972e+00\n",
      "  -2.27578165e+00  1.85369088e+00]\n",
      " [ 1.18031246e+05 -8.25286401e+03  7.40227748e+03 -2.24364962e+02\n",
      "   1.84614976e+01 -5.80495451e+00 -8.72105609e+00 -2.44039903e+00\n",
      "  -8.48344174e-02 -1.58951828e+00]\n",
      " [-4.73600658e+04 -3.39268487e+03  9.58481083e+03 -4.40857514e+01\n",
      "  -4.64464274e+00 -9.59523237e+00  1.16533539e+00 -8.62673084e-01\n",
      "  -2.60482399e-01  2.13557300e-01]\n",
      " [-2.52199462e+04 -3.58017138e+03 -2.02737794e+03  2.68125443e+02\n",
      "  -1.64072913e+00 -2.33065062e+00 -3.53651146e+00 -3.05073296e-01\n",
      "  -6.11470166e-02 -1.54916859e+00]\n",
      " [ 9.30487880e+04  4.05550587e+04  7.44372858e+03  5.01189131e+01\n",
      "  -3.09625020e+00 -4.14014036e+00 -1.18281742e+00 -2.07568501e+00\n",
      "   4.07484670e-01  7.64605327e-01]\n",
      " [-7.72846705e+04  1.11316290e+04  9.36156570e+03 -1.57560626e+02\n",
      "   4.96387251e+00 -1.21481538e+01 -6.07909382e+00  1.06581040e+00\n",
      "  -1.33648127e+00 -1.90016650e+00]\n",
      " [ 9.73926980e+04  3.12632412e+04 -3.50118557e+03  1.41183803e+01\n",
      "  -2.87666374e+01 -6.80051839e-01 -3.95744926e+00 -2.09124171e+00\n",
      "   5.18446172e-01 -1.89281568e+00]\n",
      " [-4.73600658e+04 -3.39268490e+03  9.58481085e+03 -4.40865786e+01\n",
      "  -4.68729565e+00 -9.56879963e+00  1.33177445e+00 -5.33242698e-01\n",
      "  -9.72633052e-01  4.30936047e-01]\n",
      " [ 1.47098161e+04  5.34442840e+03 -1.43133848e+04  1.28098595e+02\n",
      "  -1.45860527e+01 -4.67523123e+00  3.83391688e+00 -1.55363730e+00\n",
      "  -1.15453477e+00 -1.33393638e+00]\n",
      " [-7.43028954e+03  5.53190359e+03 -2.70120043e+03 -1.83911387e+02\n",
      "  -1.23930057e+01  2.07190888e+01  2.15787863e+00 -7.54298943e+00\n",
      "   1.50492697e-01 -7.28327784e-01]\n",
      " [-5.44197465e+04  9.39454064e+03 -4.07395906e+03  2.48648239e+02\n",
      "   3.29950380e+00  1.09075355e+00  2.08738219e+00 -1.73065018e+00\n",
      "  -1.48190061e+00 -2.47846082e-01]\n",
      " [-5.44197466e+04  9.39454043e+03 -4.07395968e+03  2.48657634e+02\n",
      "   2.78714650e+00  1.36231630e+00 -3.89029600e+00 -2.51756420e-01\n",
      "  -1.14305206e+00  4.56672363e-01]\n",
      " [ 9.73927065e+04  3.12632312e+04 -3.50118295e+03  1.42813604e+01\n",
      "  -1.53965179e+01  5.91326060e+00 -4.90236676e+00 -3.44427375e+00\n",
      "  -1.92970619e+00 -1.62532537e+00]\n",
      " [ 1.18031246e+05 -8.25286387e+03  7.40227800e+03 -2.24369410e+02\n",
      "   1.89550147e+01 -6.05480297e+00 -2.84107124e+00 -3.32465800e+00\n",
      "  -7.30912382e-01  9.86881213e-01]\n",
      " [-1.81635315e+04 -1.63635358e+04  1.16281212e+04 -4.24569097e+02\n",
      "  -1.46668748e+01  7.54719519e+00  9.99488095e+00 -7.95252141e+00\n",
      "  -1.81506540e+00  7.30580943e-02]\n",
      " [-5.94876504e+04  2.02350070e+04  8.69510182e+03  2.90456578e+02\n",
      "   1.34687881e+01 -1.92821650e+00  8.64113044e+00 -2.88763696e+00\n",
      "  -2.37591750e+00  1.08766738e+00]\n",
      " [ 1.18034516e+05 -8.25672168e+03  7.40554060e+03  1.75557641e+02\n",
      "   9.63239717e+00  3.48420818e+00 -9.47336598e-01 -4.40659376e+00\n",
      "  -2.54135262e+00 -1.36637894e+00]\n",
      " [-4.73600648e+04 -3.39268412e+03  9.58480807e+03 -4.40912104e+01\n",
      "  -9.13577561e+00 -8.43364474e-01  1.57317384e+00 -2.41961057e+00\n",
      "  -1.02381857e+00 -8.67112599e-02]\n",
      " [-2.52199472e+04 -3.58017219e+03 -2.02737518e+03  2.68130007e+02\n",
      "   2.79199278e+00 -1.10587576e+01 -3.80572949e+00  1.72854472e+00\n",
      "  -2.36960932e+00 -2.01671763e-01]\n",
      " [ 1.28637112e+05 -2.74529941e+04  2.79067555e+04  1.33616207e+03\n",
      "  -2.41707868e+01 -5.23817018e+00  2.61614506e+00  1.19486060e+00\n",
      "   3.77430125e-01 -1.27021253e+00]\n",
      " [-7.72846685e+04  1.11316305e+04  9.36156033e+03 -1.57569793e+02\n",
      "  -3.51101362e+00  4.46653612e+00 -5.58276177e+00 -2.39768165e+00\n",
      "  -8.54250466e-01  4.72929530e-02]\n",
      " [-7.72846671e+04  1.11316314e+04  9.36155703e+03 -1.57608719e+02\n",
      "  -8.97083749e+00  1.74748336e+01 -2.61565610e+00  5.07604802e+00\n",
      "   6.78019308e-01  2.76791249e+00]\n",
      " [ 1.10968269e+05  4.53825136e+03 -6.25976273e+03 -3.32109730e+02\n",
      "  -6.32038583e+00 -2.19510502e+01  1.12912716e+01  7.72322787e+00\n",
      "   1.62651635e+00  1.39255522e+00]\n",
      " [-2.95671323e+04  5.71551542e+03  8.91426574e+03 -9.59999674e+01\n",
      "   1.15167620e+01 -2.75991232e+00  1.84344990e+00  7.86955347e+00\n",
      "  -1.75381408e-01  1.28927606e+00]\n",
      " [ 1.18034518e+05 -8.25672057e+03  7.40553543e+03  1.75519224e+02\n",
      "   1.70723752e+00  2.05356413e+01 -4.01580077e+00  3.69681723e+00\n",
      "   7.04538676e-01  7.35051097e-01]\n",
      " [ 3.53450831e+04 -3.41677975e+04 -3.41320118e+03 -5.10648195e+02\n",
      "  -1.63352194e+00  7.76496575e+00 -2.34886385e+00  4.34790431e+00\n",
      "  -1.74499000e+00 -2.21335350e+00]\n",
      " [-5.00758297e+04  1.02711654e+02 -1.50188658e+04  2.12780268e+02\n",
      "  -1.26450247e+00 -1.85713809e+00 -1.28544555e-01  9.85414585e+00\n",
      "  -6.78381117e-01 -1.08695999e+00]\n",
      " [-2.52199357e+04 -3.58018509e+03 -2.02737008e+03  2.68286039e+02\n",
      "   2.21135405e+01 -1.13904683e+00  1.13881805e+01  5.88380953e+00\n",
      "   1.43674779e+00 -1.87700801e+00]\n",
      " [ 1.10968272e+05  4.53825326e+03 -6.25977240e+03 -3.32102435e+02\n",
      "  -2.07327511e+01  4.58749729e+00 -2.21779198e+00  5.73275383e+00\n",
      "   1.33349979e+00  1.80409777e+00]\n",
      " [ 1.18031246e+05 -8.25286391e+03  7.40227820e+03 -2.24404847e+02\n",
      "   1.92054749e+01 -4.09051605e+00 -4.33445304e-01  6.00914072e+00\n",
      "  -3.08589458e-01 -1.08203504e+00]\n",
      " [-1.81635314e+04 -1.63635359e+04  1.16281212e+04 -4.24602918e+02\n",
      "  -1.44748403e+01  9.43952298e+00  1.23431067e+01  1.44597950e+00\n",
      "   1.81747344e-01 -9.39369939e-01]\n",
      " [ 9.73927151e+04  3.12632214e+04 -3.50117955e+03  1.43941506e+01\n",
      "  -1.33037072e+00  1.41555378e+01  1.83496216e+00  3.35741283e+00\n",
      "   5.70770432e-01 -1.41414342e+00]\n",
      " [-3.67329665e+02 -7.25919477e+03  1.09608405e+04 -7.65299122e+01\n",
      "  -3.49776439e+00  1.35935871e+01 -3.01972966e+00  5.38786614e+00\n",
      "  -1.78370824e+00  1.03131388e+00]\n",
      " [ 1.47098360e+04  5.34440517e+03 -1.43133784e+04  1.28433719e+02\n",
      "   1.67784220e+01  1.26288395e+01  3.38692273e+00  4.69500419e+00\n",
      "  -1.37339023e+00 -1.24197141e+00]\n",
      " [-4.73600647e+04 -3.39268440e+03  9.58480761e+03 -4.41219998e+01\n",
      "  -9.53490988e+00  1.52514825e+00 -2.30440016e+00  8.56151108e+00\n",
      "   8.03518289e-01  2.04947030e+00]\n",
      " [-2.52232146e+04 -3.57631268e+03 -2.03064383e+03 -1.31840741e+02\n",
      "   2.34625563e+00  1.08229900e+00 -2.71260641e+00  7.75437911e+00\n",
      "   2.38607614e+00 -1.60016395e+00]\n",
      " [-7.22167551e+04  2.91149691e+02 -3.40748981e+03 -1.99205371e+02\n",
      "   1.44614024e+01  1.03721598e-01  2.90463183e+00  7.05943594e+00\n",
      "  -1.95179284e+00  1.16886580e+00]\n",
      " [ 1.47098292e+04  5.34441634e+03 -1.43133864e+04  1.28277422e+02\n",
      "  -4.66151628e+00  2.13153821e+01 -6.97637443e-01  4.35800419e+00\n",
      "  -1.82368140e+00 -8.56709595e-01]\n",
      " [-5.44197452e+04  9.39454135e+03 -4.07396301e+03  2.48617480e+02\n",
      "  -2.55168729e+00  1.42888292e+01 -1.11843195e+00  6.86105182e+00\n",
      "  -4.00590239e-01 -2.94853668e-01]\n",
      " [-4.30161466e+04 -1.26845120e+04 -1.36010159e+03 -7.99708262e+01\n",
      "  -1.87746511e+01  6.84955236e+00  5.68330138e+00  5.35544656e+00\n",
      "   1.24589865e+00 -8.72916975e-01]\n",
      " [ 1.04452424e+05  1.84759654e+04  1.01575970e+04 -2.77856368e+02\n",
      "   2.93369189e+01  3.25792060e+01  6.50606626e+00 -3.40755080e+00\n",
      "   7.27506811e-01  5.15458353e-01]]\n"
     ]
    }
   ],
   "source": [
    "encoded_data = pd.get_dummies(data)\n",
    "pca = PCA(n_components=10)\n",
    "pca_result = pca.fit_transform(encoded_data)\n",
    "print(pca_result)"
   ]
  },
  {
   "cell_type": "markdown",
   "id": "7f0c3f4b-3271-4210-92b0-860fdd17ee82",
   "metadata": {},
   "source": [
    "Factor Analysis:"
   ]
  },
  {
   "cell_type": "code",
   "execution_count": 13,
   "id": "285ceb55-2f74-4341-a39c-10f86f5fefe0",
   "metadata": {},
   "outputs": [],
   "source": [
    "import pandas as pd"
   ]
  },
  {
   "cell_type": "code",
   "execution_count": 14,
   "id": "1ad857a6-3ee0-4932-95ae-5e41d0eb15d0",
   "metadata": {},
   "outputs": [],
   "source": [
    "data = \"\"\"City\tSex\tAge\tOccupation\tMonthly Household Income\tIncome\tPlanning to Buy a new house\tTime Frame\tReasons for buying a house\twhat type of House\tNumber of rooms\tSize of House\tBudget\tFinished/Semi Finished\tInfluence Decision\tMaintainance\tEMI\t1.Proximity to city\t2.Proximity to schools\t3. Proximity to transport\t4. Proximity to work place\t5. Proximity to shopping\t1. Gym/Pool/Sports facility\t2. Parking space\t3.Power back-up\t4.Water supply\t5.Security\t1. Exterior look \t2. Unit size\t3. Interior design and branded components\t4. Layout plan (Integrated etc.)\t5. View from apartment\t1. Price\t2. Booking amount\t3. Equated Monthly Instalment (EMI)\t4. Maintenance charges\t5. Availability of loan\t1. Builder reputation\t2. Appreciation potential\t3. Profile of neighbourhood\t4. Availability of domestic help\tTime\tSize\tBudgets\tMaintainances\tEMI\tages\tsex\tFinished/Semi Finished\tInfluence Decision\n",
    "2\tM\t26-35\tPrivate Sector\t85,001 to105,000\t95000\tYes\t6M to 1Yr\tResiding\tApartment\t2BHK\t1001-1400\t65.1 to 80L\tSemifurnished\tSite visits\t2001to 4000\t35.1K to 50K\t3\t5\t5\t2\t1\t2\t5\t3\t5\t3\t2\t4\t4\t4\t4\t5\t1\t4\t3\t3\t4\t5\t4\t1\t9\t1200\t72.5\t30000\t42500\t30.5\tM\tSemifurnished\tSite visits\"\"\""
   ]
  },
  {
   "cell_type": "code",
   "execution_count": 17,
   "id": "ad9037a2-de13-40ad-86d7-fd965161e9ef",
   "metadata": {},
   "outputs": [],
   "source": [
    "data_list = [x.strip() for x in data.split(\"\\t\")]\n",
    "data_dict = {x.split(\"  \")[0]: x.split(\"  \")[1] if len(x.split(\"  \")) > 1 else \"\" for x in data_list[1:]}\n",
    "data_df = pd.DataFrame(data_dict, index=[0])"
   ]
  },
  {
   "cell_type": "code",
   "execution_count": 18,
   "id": "a510f8bf-3f51-426d-a58b-192b609d9fcc",
   "metadata": {},
   "outputs": [],
   "source": [
    "import numpy as np\n",
    "from sklearn.impute import SimpleImputer\n",
    "from sklearn.preprocessing import OneHotEncoder"
   ]
  },
  {
   "cell_type": "code",
   "execution_count": 38,
   "id": "14f15ffb-c7ae-49a8-9727-c3b11a591e3f",
   "metadata": {},
   "outputs": [],
   "source": [
    "def handle_missing_values(df):\n",
    "    imputer = SimpleImputer(strategy=\"median\")\n",
    "    df_numeric = df.select_dtypes(include=[\"int64\", \"float64\"])\n",
    "    \n",
    "    if not df_numeric.empty:\n",
    "        df_numeric_imputed = pd.DataFrame(imputer.fit_transform(df_numeric), columns=df_numeric.columns)\n",
    "    else:\n",
    "        df_numeric_imputed = df_numeric\n",
    "    \n",
    "    df_categorical = df.select_dtypes(include=[\"object\"])\n",
    "    encoder = OneHotEncoder(sparse=False)"
   ]
  },
  {
   "cell_type": "code",
   "execution_count": 39,
   "id": "095fe31a-3024-4166-9896-00368cea8b48",
   "metadata": {},
   "outputs": [],
   "source": [
    "data_processed = handle_missing_values(data_df)"
   ]
  },
  {
   "cell_type": "code",
   "execution_count": 40,
   "id": "cb5de9df-72f9-4fce-8716-5ae06ad842f3",
   "metadata": {},
   "outputs": [],
   "source": [
    "from factor_analyzer import FactorAnalyzer"
   ]
  },
  {
   "cell_type": "code",
   "execution_count": 48,
   "id": "40d0a34a-9f8a-432c-b804-be3ef12c8297",
   "metadata": {},
   "outputs": [],
   "source": [
    "df = pd.read_csv(\"C:\\\\Users\\\\Bala Vignesh.A\\\\Desktop\\\\SCMA 632\\\\Survey.csv\")"
   ]
  },
  {
   "cell_type": "code",
   "execution_count": 49,
   "id": "5987694d-db0d-493a-8df8-9a8d9c61caba",
   "metadata": {},
   "outputs": [],
   "source": [
    "data_processed = handle_missing_values(df)"
   ]
  },
  {
   "cell_type": "code",
   "execution_count": 50,
   "id": "67b8c06f-3ab7-4f0f-a1d9-f87a7a887829",
   "metadata": {},
   "outputs": [],
   "source": [
    "def handle_missing_values(df): return df.dropna()"
   ]
  },
  {
   "cell_type": "code",
   "execution_count": 51,
   "id": "d5e41c8b-0352-4bbf-8297-73ce427e9a25",
   "metadata": {},
   "outputs": [],
   "source": [
    "def handle_missing_values(df):return df.fillna(0)"
   ]
  },
  {
   "cell_type": "code",
   "execution_count": 53,
   "id": "57e1a233-6f4a-4104-8ed3-b3b36ba61d4b",
   "metadata": {},
   "outputs": [
    {
     "name": "stdout",
     "output_type": "stream",
     "text": [
      "City                                           int64\n",
      "Sex                                           object\n",
      "Age                                           object\n",
      "Occupation                                    object\n",
      "Monthly Household Income                      object\n",
      "Income                                         int64\n",
      "Planning to Buy a new house                   object\n",
      "Time Frame                                    object\n",
      "Reasons for buying a house                    object\n",
      "what type of House                            object\n",
      "Number of rooms                               object\n",
      "Size of House                                 object\n",
      "Budget                                        object\n",
      "Finished/Semi Finished                        object\n",
      "Influence Decision                            object\n",
      "Maintainance                                  object\n",
      "EMI                                           object\n",
      "1.Proximity to city                            int64\n",
      "2.Proximity to schools                         int64\n",
      "3. Proximity to transport                      int64\n",
      "4. Proximity to work place                     int64\n",
      "5. Proximity to shopping                       int64\n",
      "1. Gym/Pool/Sports facility                    int64\n",
      "2. Parking space                               int64\n",
      "3.Power back-up                                int64\n",
      "4.Water supply                                 int64\n",
      "5.Security                                     int64\n",
      "1. Exterior look                               int64\n",
      "2. Unit size                                   int64\n",
      "3. Interior design and branded components      int64\n",
      "4. Layout plan (Integrated etc.)               int64\n",
      "5. View from apartment                         int64\n",
      "1. Price                                       int64\n",
      "2. Booking amount                              int64\n",
      "3. Equated Monthly Instalment (EMI)            int64\n",
      "4. Maintenance charges                         int64\n",
      "5. Availability of loan                        int64\n",
      "1. Builder reputation                          int64\n",
      "2. Appreciation potential                      int64\n",
      "3. Profile of neighbourhood                    int64\n",
      "4. Availability of domestic help               int64\n",
      "Time                                           int64\n",
      "Size                                           int64\n",
      "Budgets                                      float64\n",
      "Maintainances                                  int64\n",
      "EMI.1                                          int64\n",
      "ages                                         float64\n",
      "sex                                           object\n",
      "Finished/Semi Finished.1                      object\n",
      "Influence Decision.1                          object\n",
      "dtype: object\n"
     ]
    }
   ],
   "source": [
    "print(data_processed.dtypes)"
   ]
  },
  {
   "cell_type": "code",
   "execution_count": 54,
   "id": "727879ab-ca53-4650-bbce-b87b9f37b47c",
   "metadata": {},
   "outputs": [],
   "source": [
    "data_processed = data_processed.select_dtypes(include=[np.number])"
   ]
  },
  {
   "cell_type": "code",
   "execution_count": 55,
   "id": "7233fc88-98d4-4da4-b27f-792dc8f30672",
   "metadata": {},
   "outputs": [],
   "source": [
    "data_processed = pd.get_dummies(data_processed, drop_first=True)"
   ]
  },
  {
   "cell_type": "code",
   "execution_count": 56,
   "id": "c9c9aaad-d11f-415b-94d5-70f63e7124d0",
   "metadata": {},
   "outputs": [],
   "source": [
    "from sklearn.impute import SimpleImputer\n",
    "\n",
    "imputer = SimpleImputer(strategy='mean')\n",
    "data_processed = imputer.fit_transform(data_processed)"
   ]
  },
  {
   "cell_type": "code",
   "execution_count": 57,
   "id": "4639920e-d6c2-4b3b-9487-69f42fbc41be",
   "metadata": {},
   "outputs": [
    {
     "data": {
      "text/html": [
       "<style>#sk-container-id-1 {color: black;}#sk-container-id-1 pre{padding: 0;}#sk-container-id-1 div.sk-toggleable {background-color: white;}#sk-container-id-1 label.sk-toggleable__label {cursor: pointer;display: block;width: 100%;margin-bottom: 0;padding: 0.3em;box-sizing: border-box;text-align: center;}#sk-container-id-1 label.sk-toggleable__label-arrow:before {content: \"▸\";float: left;margin-right: 0.25em;color: #696969;}#sk-container-id-1 label.sk-toggleable__label-arrow:hover:before {color: black;}#sk-container-id-1 div.sk-estimator:hover label.sk-toggleable__label-arrow:before {color: black;}#sk-container-id-1 div.sk-toggleable__content {max-height: 0;max-width: 0;overflow: hidden;text-align: left;background-color: #f0f8ff;}#sk-container-id-1 div.sk-toggleable__content pre {margin: 0.2em;color: black;border-radius: 0.25em;background-color: #f0f8ff;}#sk-container-id-1 input.sk-toggleable__control:checked~div.sk-toggleable__content {max-height: 200px;max-width: 100%;overflow: auto;}#sk-container-id-1 input.sk-toggleable__control:checked~label.sk-toggleable__label-arrow:before {content: \"▾\";}#sk-container-id-1 div.sk-estimator input.sk-toggleable__control:checked~label.sk-toggleable__label {background-color: #d4ebff;}#sk-container-id-1 div.sk-label input.sk-toggleable__control:checked~label.sk-toggleable__label {background-color: #d4ebff;}#sk-container-id-1 input.sk-hidden--visually {border: 0;clip: rect(1px 1px 1px 1px);clip: rect(1px, 1px, 1px, 1px);height: 1px;margin: -1px;overflow: hidden;padding: 0;position: absolute;width: 1px;}#sk-container-id-1 div.sk-estimator {font-family: monospace;background-color: #f0f8ff;border: 1px dotted black;border-radius: 0.25em;box-sizing: border-box;margin-bottom: 0.5em;}#sk-container-id-1 div.sk-estimator:hover {background-color: #d4ebff;}#sk-container-id-1 div.sk-parallel-item::after {content: \"\";width: 100%;border-bottom: 1px solid gray;flex-grow: 1;}#sk-container-id-1 div.sk-label:hover label.sk-toggleable__label {background-color: #d4ebff;}#sk-container-id-1 div.sk-serial::before {content: \"\";position: absolute;border-left: 1px solid gray;box-sizing: border-box;top: 0;bottom: 0;left: 50%;z-index: 0;}#sk-container-id-1 div.sk-serial {display: flex;flex-direction: column;align-items: center;background-color: white;padding-right: 0.2em;padding-left: 0.2em;position: relative;}#sk-container-id-1 div.sk-item {position: relative;z-index: 1;}#sk-container-id-1 div.sk-parallel {display: flex;align-items: stretch;justify-content: center;background-color: white;position: relative;}#sk-container-id-1 div.sk-item::before, #sk-container-id-1 div.sk-parallel-item::before {content: \"\";position: absolute;border-left: 1px solid gray;box-sizing: border-box;top: 0;bottom: 0;left: 50%;z-index: -1;}#sk-container-id-1 div.sk-parallel-item {display: flex;flex-direction: column;z-index: 1;position: relative;background-color: white;}#sk-container-id-1 div.sk-parallel-item:first-child::after {align-self: flex-end;width: 50%;}#sk-container-id-1 div.sk-parallel-item:last-child::after {align-self: flex-start;width: 50%;}#sk-container-id-1 div.sk-parallel-item:only-child::after {width: 0;}#sk-container-id-1 div.sk-dashed-wrapped {border: 1px dashed gray;margin: 0 0.4em 0.5em 0.4em;box-sizing: border-box;padding-bottom: 0.4em;background-color: white;}#sk-container-id-1 div.sk-label label {font-family: monospace;font-weight: bold;display: inline-block;line-height: 1.2em;}#sk-container-id-1 div.sk-label-container {text-align: center;}#sk-container-id-1 div.sk-container {/* jupyter's `normalize.less` sets `[hidden] { display: none; }` but bootstrap.min.css set `[hidden] { display: none !important; }` so we also need the `!important` here to be able to override the default hidden behavior on the sphinx rendered scikit-learn.org. See: https://github.com/scikit-learn/scikit-learn/issues/21755 */display: inline-block !important;position: relative;}#sk-container-id-1 div.sk-text-repr-fallback {display: none;}</style><div id=\"sk-container-id-1\" class=\"sk-top-container\"><div class=\"sk-text-repr-fallback\"><pre>FactorAnalyzer(n_factors=2, rotation=&#x27;varimax&#x27;, rotation_kwargs={})</pre><b>In a Jupyter environment, please rerun this cell to show the HTML representation or trust the notebook. <br />On GitHub, the HTML representation is unable to render, please try loading this page with nbviewer.org.</b></div><div class=\"sk-container\" hidden><div class=\"sk-item\"><div class=\"sk-estimator sk-toggleable\"><input class=\"sk-toggleable__control sk-hidden--visually\" id=\"sk-estimator-id-1\" type=\"checkbox\" checked><label for=\"sk-estimator-id-1\" class=\"sk-toggleable__label sk-toggleable__label-arrow\">FactorAnalyzer</label><div class=\"sk-toggleable__content\"><pre>FactorAnalyzer(n_factors=2, rotation=&#x27;varimax&#x27;, rotation_kwargs={})</pre></div></div></div></div></div>"
      ],
      "text/plain": [
       "FactorAnalyzer(n_factors=2, rotation='varimax', rotation_kwargs={})"
      ]
     },
     "execution_count": 57,
     "metadata": {},
     "output_type": "execute_result"
    }
   ],
   "source": [
    "fa = FactorAnalyzer(rotation=\"varimax\", n_factors=2)\n",
    "fa.fit(data_processed)"
   ]
  },
  {
   "cell_type": "code",
   "execution_count": 59,
   "id": "2d64ece9-cd2d-4512-8640-18a23cc6b560",
   "metadata": {},
   "outputs": [
    {
     "name": "stdout",
     "output_type": "stream",
     "text": [
      "[[ 0.27350879  0.12866101]\n",
      " [ 0.87704676 -0.10807574]\n",
      " [ 0.48641507  0.20030337]\n",
      " [ 0.40861091 -0.21344471]\n",
      " [-0.0581847  -0.20211229]\n",
      " [ 0.15078986 -0.03132412]\n",
      " [ 0.60437117  0.38999649]\n",
      " [ 0.50914953 -0.13466952]\n",
      " [ 0.54776122 -0.06520968]\n",
      " [ 0.40764883  0.10578662]\n",
      " [ 0.55700837 -0.31081874]\n",
      " [ 0.52554729 -0.07910281]\n",
      " [ 0.65353881  0.52000686]\n",
      " [ 0.16635584 -0.12989895]\n",
      " [ 0.73753885  0.03593865]\n",
      " [ 0.63250349 -0.00462614]\n",
      " [ 0.75656358  0.11593183]\n",
      " [ 0.34593467 -0.29730516]\n",
      " [ 0.03354591  0.54845647]\n",
      " [-0.07829786  0.27030128]\n",
      " [-0.15534661  0.32382019]\n",
      " [-0.12033482  0.65213377]\n",
      " [ 0.56047417 -0.2826038 ]\n",
      " [ 0.32943727  0.20860279]\n",
      " [ 0.7051638  -0.24657356]\n",
      " [ 0.60876099  0.18414681]\n",
      " [ 0.07603401  0.30832139]\n",
      " [ 0.84938601 -0.00838503]\n",
      " [ 0.87350621 -0.05228557]\n",
      " [ 0.86893773 -0.04525861]\n",
      " [ 0.87310408 -0.08169996]\n",
      " [ 0.50340735 -0.10471821]]\n"
     ]
    }
   ],
   "source": [
    "fa_result = fa.loadings_\n",
    "print(fa_result)\n"
   ]
  }
 ],
 "metadata": {
  "kernelspec": {
   "display_name": "Python 3 (ipykernel)",
   "language": "python",
   "name": "python3"
  },
  "language_info": {
   "codemirror_mode": {
    "name": "ipython",
    "version": 3
   },
   "file_extension": ".py",
   "mimetype": "text/x-python",
   "name": "python",
   "nbconvert_exporter": "python",
   "pygments_lexer": "ipython3",
   "version": "3.11.7"
  }
 },
 "nbformat": 4,
 "nbformat_minor": 5
}
