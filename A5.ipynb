{
 "cells": [
  {
   "cell_type": "code",
   "execution_count": 298,
   "id": "c78f1ce0-ef77-455a-98e3-f726fb96ca7e",
   "metadata": {},
   "outputs": [],
   "source": [
    "import pandas as pd\n",
    "import numpy as np\n",
    "from scipy import stats\n",
    "import matplotlib.pyplot as plt\n",
    "import seaborn as sns\n",
    "import geopandas as gpd"
   ]
  },
  {
   "cell_type": "code",
   "execution_count": 299,
   "id": "0e6d2d7a-fd80-45c1-a84d-5131cb96a3a4",
   "metadata": {},
   "outputs": [],
   "source": [
    "data = pd.read_csv(\"C:\\\\Users\\\\Bala Vignesh.A\\\\Desktop\\\\Assignments\\\\SCMA 632\\\\NSSO68.csv\", low_memory=False)"
   ]
  },
  {
   "cell_type": "code",
   "execution_count": 300,
   "id": "0799d3c2-bb2d-46d8-882d-f6c385cbdc33",
   "metadata": {},
   "outputs": [
    {
     "data": {
      "text/html": [
       "<div>\n",
       "<style scoped>\n",
       "    .dataframe tbody tr th:only-of-type {\n",
       "        vertical-align: middle;\n",
       "    }\n",
       "\n",
       "    .dataframe tbody tr th {\n",
       "        vertical-align: top;\n",
       "    }\n",
       "\n",
       "    .dataframe thead th {\n",
       "        text-align: right;\n",
       "    }\n",
       "</style>\n",
       "<table border=\"1\" class=\"dataframe\">\n",
       "  <thead>\n",
       "    <tr style=\"text-align: right;\">\n",
       "      <th></th>\n",
       "      <th>slno</th>\n",
       "      <th>grp</th>\n",
       "      <th>Round_Centre</th>\n",
       "      <th>FSU_number</th>\n",
       "      <th>Round</th>\n",
       "      <th>Schedule_Number</th>\n",
       "      <th>Sample</th>\n",
       "      <th>Sector</th>\n",
       "      <th>state</th>\n",
       "      <th>State_Region</th>\n",
       "      <th>...</th>\n",
       "      <th>sauce_jam_v</th>\n",
       "      <th>Othrprocessed_v</th>\n",
       "      <th>Beveragestotal_v</th>\n",
       "      <th>foodtotal_v</th>\n",
       "      <th>foodtotal_q</th>\n",
       "      <th>state_1</th>\n",
       "      <th>Region</th>\n",
       "      <th>fruits_df_tt_v</th>\n",
       "      <th>fv_tot</th>\n",
       "      <th>non_veg</th>\n",
       "    </tr>\n",
       "  </thead>\n",
       "  <tbody>\n",
       "    <tr>\n",
       "      <th>0</th>\n",
       "      <td>1</td>\n",
       "      <td>4.10E+31</td>\n",
       "      <td>1</td>\n",
       "      <td>41000</td>\n",
       "      <td>68</td>\n",
       "      <td>10</td>\n",
       "      <td>1</td>\n",
       "      <td>2</td>\n",
       "      <td>24</td>\n",
       "      <td>242</td>\n",
       "      <td>...</td>\n",
       "      <td>0.0</td>\n",
       "      <td>0.0</td>\n",
       "      <td>0.000000</td>\n",
       "      <td>1141.492400</td>\n",
       "      <td>30.942394</td>\n",
       "      <td>GUJ</td>\n",
       "      <td>2</td>\n",
       "      <td>12.000000</td>\n",
       "      <td>154.180000</td>\n",
       "      <td>1</td>\n",
       "    </tr>\n",
       "    <tr>\n",
       "      <th>1</th>\n",
       "      <td>2</td>\n",
       "      <td>4.10E+31</td>\n",
       "      <td>1</td>\n",
       "      <td>41000</td>\n",
       "      <td>68</td>\n",
       "      <td>10</td>\n",
       "      <td>1</td>\n",
       "      <td>2</td>\n",
       "      <td>24</td>\n",
       "      <td>242</td>\n",
       "      <td>...</td>\n",
       "      <td>0.0</td>\n",
       "      <td>0.0</td>\n",
       "      <td>17.500000</td>\n",
       "      <td>1244.553500</td>\n",
       "      <td>29.286153</td>\n",
       "      <td>GUJ</td>\n",
       "      <td>2</td>\n",
       "      <td>333.000000</td>\n",
       "      <td>484.950000</td>\n",
       "      <td>1</td>\n",
       "    </tr>\n",
       "    <tr>\n",
       "      <th>2</th>\n",
       "      <td>3</td>\n",
       "      <td>4.10E+31</td>\n",
       "      <td>1</td>\n",
       "      <td>41000</td>\n",
       "      <td>68</td>\n",
       "      <td>10</td>\n",
       "      <td>1</td>\n",
       "      <td>2</td>\n",
       "      <td>24</td>\n",
       "      <td>242</td>\n",
       "      <td>...</td>\n",
       "      <td>0.0</td>\n",
       "      <td>0.0</td>\n",
       "      <td>0.000000</td>\n",
       "      <td>1050.315400</td>\n",
       "      <td>31.527046</td>\n",
       "      <td>GUJ</td>\n",
       "      <td>2</td>\n",
       "      <td>35.000000</td>\n",
       "      <td>214.840000</td>\n",
       "      <td>1</td>\n",
       "    </tr>\n",
       "    <tr>\n",
       "      <th>3</th>\n",
       "      <td>4</td>\n",
       "      <td>4.10E+31</td>\n",
       "      <td>1</td>\n",
       "      <td>41000</td>\n",
       "      <td>68</td>\n",
       "      <td>10</td>\n",
       "      <td>1</td>\n",
       "      <td>2</td>\n",
       "      <td>24</td>\n",
       "      <td>242</td>\n",
       "      <td>...</td>\n",
       "      <td>0.0</td>\n",
       "      <td>0.0</td>\n",
       "      <td>33.333333</td>\n",
       "      <td>1142.591667</td>\n",
       "      <td>27.834607</td>\n",
       "      <td>GUJ</td>\n",
       "      <td>2</td>\n",
       "      <td>168.333333</td>\n",
       "      <td>302.300000</td>\n",
       "      <td>1</td>\n",
       "    </tr>\n",
       "    <tr>\n",
       "      <th>4</th>\n",
       "      <td>5</td>\n",
       "      <td>4.10E+31</td>\n",
       "      <td>1</td>\n",
       "      <td>41000</td>\n",
       "      <td>68</td>\n",
       "      <td>10</td>\n",
       "      <td>1</td>\n",
       "      <td>2</td>\n",
       "      <td>24</td>\n",
       "      <td>242</td>\n",
       "      <td>...</td>\n",
       "      <td>0.0</td>\n",
       "      <td>0.0</td>\n",
       "      <td>75.000000</td>\n",
       "      <td>945.249500</td>\n",
       "      <td>27.600713</td>\n",
       "      <td>GUJ</td>\n",
       "      <td>2</td>\n",
       "      <td>15.000000</td>\n",
       "      <td>148.000000</td>\n",
       "      <td>1</td>\n",
       "    </tr>\n",
       "    <tr>\n",
       "      <th>...</th>\n",
       "      <td>...</td>\n",
       "      <td>...</td>\n",
       "      <td>...</td>\n",
       "      <td>...</td>\n",
       "      <td>...</td>\n",
       "      <td>...</td>\n",
       "      <td>...</td>\n",
       "      <td>...</td>\n",
       "      <td>...</td>\n",
       "      <td>...</td>\n",
       "      <td>...</td>\n",
       "      <td>...</td>\n",
       "      <td>...</td>\n",
       "      <td>...</td>\n",
       "      <td>...</td>\n",
       "      <td>...</td>\n",
       "      <td>...</td>\n",
       "      <td>...</td>\n",
       "      <td>...</td>\n",
       "      <td>...</td>\n",
       "      <td>...</td>\n",
       "    </tr>\n",
       "    <tr>\n",
       "      <th>101657</th>\n",
       "      <td>101658</td>\n",
       "      <td>8.00E+31</td>\n",
       "      <td>1</td>\n",
       "      <td>79998</td>\n",
       "      <td>68</td>\n",
       "      <td>10</td>\n",
       "      <td>1</td>\n",
       "      <td>1</td>\n",
       "      <td>1</td>\n",
       "      <td>12</td>\n",
       "      <td>...</td>\n",
       "      <td>0.0</td>\n",
       "      <td>0.0</td>\n",
       "      <td>0.000000</td>\n",
       "      <td>544.013667</td>\n",
       "      <td>28.441750</td>\n",
       "      <td>J$K</td>\n",
       "      <td>2</td>\n",
       "      <td>0.000000</td>\n",
       "      <td>25.833333</td>\n",
       "      <td>1</td>\n",
       "    </tr>\n",
       "    <tr>\n",
       "      <th>101658</th>\n",
       "      <td>101659</td>\n",
       "      <td>8.00E+31</td>\n",
       "      <td>1</td>\n",
       "      <td>79998</td>\n",
       "      <td>68</td>\n",
       "      <td>10</td>\n",
       "      <td>1</td>\n",
       "      <td>1</td>\n",
       "      <td>1</td>\n",
       "      <td>12</td>\n",
       "      <td>...</td>\n",
       "      <td>0.0</td>\n",
       "      <td>0.0</td>\n",
       "      <td>8.000000</td>\n",
       "      <td>417.616600</td>\n",
       "      <td>25.490282</td>\n",
       "      <td>J$K</td>\n",
       "      <td>2</td>\n",
       "      <td>0.000000</td>\n",
       "      <td>49.000000</td>\n",
       "      <td>1</td>\n",
       "    </tr>\n",
       "    <tr>\n",
       "      <th>101659</th>\n",
       "      <td>101660</td>\n",
       "      <td>8.00E+31</td>\n",
       "      <td>1</td>\n",
       "      <td>79998</td>\n",
       "      <td>68</td>\n",
       "      <td>10</td>\n",
       "      <td>1</td>\n",
       "      <td>1</td>\n",
       "      <td>1</td>\n",
       "      <td>12</td>\n",
       "      <td>...</td>\n",
       "      <td>0.0</td>\n",
       "      <td>0.0</td>\n",
       "      <td>7.142857</td>\n",
       "      <td>378.300429</td>\n",
       "      <td>25.800107</td>\n",
       "      <td>J$K</td>\n",
       "      <td>2</td>\n",
       "      <td>0.000000</td>\n",
       "      <td>32.285714</td>\n",
       "      <td>1</td>\n",
       "    </tr>\n",
       "    <tr>\n",
       "      <th>101660</th>\n",
       "      <td>101661</td>\n",
       "      <td>8.00E+31</td>\n",
       "      <td>1</td>\n",
       "      <td>79998</td>\n",
       "      <td>68</td>\n",
       "      <td>10</td>\n",
       "      <td>1</td>\n",
       "      <td>1</td>\n",
       "      <td>1</td>\n",
       "      <td>12</td>\n",
       "      <td>...</td>\n",
       "      <td>0.0</td>\n",
       "      <td>0.0</td>\n",
       "      <td>14.000000</td>\n",
       "      <td>510.023600</td>\n",
       "      <td>30.220170</td>\n",
       "      <td>J$K</td>\n",
       "      <td>2</td>\n",
       "      <td>0.000000</td>\n",
       "      <td>39.200000</td>\n",
       "      <td>1</td>\n",
       "    </tr>\n",
       "    <tr>\n",
       "      <th>101661</th>\n",
       "      <td>101662</td>\n",
       "      <td>8.00E+31</td>\n",
       "      <td>1</td>\n",
       "      <td>79998</td>\n",
       "      <td>68</td>\n",
       "      <td>10</td>\n",
       "      <td>1</td>\n",
       "      <td>1</td>\n",
       "      <td>1</td>\n",
       "      <td>12</td>\n",
       "      <td>...</td>\n",
       "      <td>0.0</td>\n",
       "      <td>0.0</td>\n",
       "      <td>8.571429</td>\n",
       "      <td>424.589714</td>\n",
       "      <td>26.157279</td>\n",
       "      <td>J$K</td>\n",
       "      <td>2</td>\n",
       "      <td>0.000000</td>\n",
       "      <td>39.714286</td>\n",
       "      <td>1</td>\n",
       "    </tr>\n",
       "  </tbody>\n",
       "</table>\n",
       "<p>101662 rows × 385 columns</p>\n",
       "</div>"
      ],
      "text/plain": [
       "          slno       grp  Round_Centre  FSU_number  Round  Schedule_Number  \\\n",
       "0            1  4.10E+31             1       41000     68               10   \n",
       "1            2  4.10E+31             1       41000     68               10   \n",
       "2            3  4.10E+31             1       41000     68               10   \n",
       "3            4  4.10E+31             1       41000     68               10   \n",
       "4            5  4.10E+31             1       41000     68               10   \n",
       "...        ...       ...           ...         ...    ...              ...   \n",
       "101657  101658  8.00E+31             1       79998     68               10   \n",
       "101658  101659  8.00E+31             1       79998     68               10   \n",
       "101659  101660  8.00E+31             1       79998     68               10   \n",
       "101660  101661  8.00E+31             1       79998     68               10   \n",
       "101661  101662  8.00E+31             1       79998     68               10   \n",
       "\n",
       "        Sample  Sector  state  State_Region  ...  sauce_jam_v  \\\n",
       "0            1       2     24           242  ...          0.0   \n",
       "1            1       2     24           242  ...          0.0   \n",
       "2            1       2     24           242  ...          0.0   \n",
       "3            1       2     24           242  ...          0.0   \n",
       "4            1       2     24           242  ...          0.0   \n",
       "...        ...     ...    ...           ...  ...          ...   \n",
       "101657       1       1      1            12  ...          0.0   \n",
       "101658       1       1      1            12  ...          0.0   \n",
       "101659       1       1      1            12  ...          0.0   \n",
       "101660       1       1      1            12  ...          0.0   \n",
       "101661       1       1      1            12  ...          0.0   \n",
       "\n",
       "        Othrprocessed_v  Beveragestotal_v  foodtotal_v  foodtotal_q  state_1  \\\n",
       "0                   0.0          0.000000  1141.492400    30.942394      GUJ   \n",
       "1                   0.0         17.500000  1244.553500    29.286153      GUJ   \n",
       "2                   0.0          0.000000  1050.315400    31.527046      GUJ   \n",
       "3                   0.0         33.333333  1142.591667    27.834607      GUJ   \n",
       "4                   0.0         75.000000   945.249500    27.600713      GUJ   \n",
       "...                 ...               ...          ...          ...      ...   \n",
       "101657              0.0          0.000000   544.013667    28.441750      J$K   \n",
       "101658              0.0          8.000000   417.616600    25.490282      J$K   \n",
       "101659              0.0          7.142857   378.300429    25.800107      J$K   \n",
       "101660              0.0         14.000000   510.023600    30.220170      J$K   \n",
       "101661              0.0          8.571429   424.589714    26.157279      J$K   \n",
       "\n",
       "        Region  fruits_df_tt_v      fv_tot  non_veg  \n",
       "0            2       12.000000  154.180000        1  \n",
       "1            2      333.000000  484.950000        1  \n",
       "2            2       35.000000  214.840000        1  \n",
       "3            2      168.333333  302.300000        1  \n",
       "4            2       15.000000  148.000000        1  \n",
       "...        ...             ...         ...      ...  \n",
       "101657       2        0.000000   25.833333        1  \n",
       "101658       2        0.000000   49.000000        1  \n",
       "101659       2        0.000000   32.285714        1  \n",
       "101660       2        0.000000   39.200000        1  \n",
       "101661       2        0.000000   39.714286        1  \n",
       "\n",
       "[101662 rows x 385 columns]"
      ]
     },
     "metadata": {},
     "output_type": "display_data"
    }
   ],
   "source": [
    "display(data)"
   ]
  },
  {
   "cell_type": "markdown",
   "id": "9231a98b-1c44-4bac-bf71-cf71b298e947",
   "metadata": {},
   "source": [
    "# Filter data for Assam"
   ]
  },
  {
   "cell_type": "code",
   "execution_count": 301,
   "id": "f64996ef-5b17-4186-9888-fdbf52261a0c",
   "metadata": {},
   "outputs": [],
   "source": [
    "Assam_data = data[data['state_1'] == 'ASSM']"
   ]
  },
  {
   "cell_type": "markdown",
   "id": "edf88ca9-9b09-4e6a-8e4b-f6c53297b73a",
   "metadata": {},
   "source": [
    "# Check for missing values"
   ]
  },
  {
   "cell_type": "code",
   "execution_count": 302,
   "id": "1473ffee-631c-41f4-b1cb-d4a4f15df34e",
   "metadata": {},
   "outputs": [
    {
     "name": "stdout",
     "output_type": "stream",
     "text": [
      "Missing values in each column:\n",
      "slno              0\n",
      "grp               0\n",
      "Round_Centre      0\n",
      "FSU_number        0\n",
      "Round             0\n",
      "                 ..\n",
      "state_1           0\n",
      "Region            0\n",
      "fruits_df_tt_v    0\n",
      "fv_tot            0\n",
      "non_veg           0\n",
      "Length: 385, dtype: int64\n"
     ]
    }
   ],
   "source": [
    "missing_values = assam_data.isna().sum()\n",
    "print(\"Missing values in each column:\")\n",
    "print(missing_values)"
   ]
  },
  {
   "cell_type": "markdown",
   "id": "fd62216a-3153-44bc-a6e5-f03acf337e0b",
   "metadata": {},
   "source": [
    "# Subset the data"
   ]
  },
  {
   "cell_type": "code",
   "execution_count": 303,
   "id": "6049b111-d824-4df3-afe8-2f8522176723",
   "metadata": {},
   "outputs": [],
   "source": [
    "ASSM = assam_data[['state_1', 'District', 'Region', 'Sector', 'State_Region', 'Meals_At_Home', 'ricepds_v', 'Wheatpds_q', 'chicken_q', 'pulsep_q', 'wheatos_q', 'No_of_Meals_per_day']]"
   ]
  },
  {
   "cell_type": "markdown",
   "id": "1a64139e-01e4-41f3-baa7-0eabe7b683b6",
   "metadata": {},
   "source": [
    "# Impute missing values with mean for specific columns"
   ]
  },
  {
   "cell_type": "code",
   "execution_count": 304,
   "id": "e33732b1-85b9-4fde-910b-0e40573c9b92",
   "metadata": {},
   "outputs": [],
   "source": [
    "def impute_with_mean(column):\n",
    "    if column.hasnans:\n",
    "        column.fillna(column.mean(), inplace=True)\n",
    "    return column"
   ]
  },
  {
   "cell_type": "code",
   "execution_count": 305,
   "id": "d4df41fc-c738-4ced-8d5b-0d8a22224a10",
   "metadata": {},
   "outputs": [
    {
     "name": "stderr",
     "output_type": "stream",
     "text": [
      "C:\\Users\\Bala Vignesh.A\\AppData\\Local\\Temp\\ipykernel_14176\\2826044316.py:3: SettingWithCopyWarning: \n",
      "A value is trying to be set on a copy of a slice from a DataFrame\n",
      "\n",
      "See the caveats in the documentation: https://pandas.pydata.org/pandas-docs/stable/user_guide/indexing.html#returning-a-view-versus-a-copy\n",
      "  column.fillna(column.mean(), inplace=True)\n",
      "C:\\Users\\Bala Vignesh.A\\AppData\\Local\\Temp\\ipykernel_14176\\2034642778.py:1: SettingWithCopyWarning: \n",
      "A value is trying to be set on a copy of a slice from a DataFrame.\n",
      "Try using .loc[row_indexer,col_indexer] = value instead\n",
      "\n",
      "See the caveats in the documentation: https://pandas.pydata.org/pandas-docs/stable/user_guide/indexing.html#returning-a-view-versus-a-copy\n",
      "  ASSM['Meals_At_Home'] = impute_with_mean(ASSM['Meals_At_Home'])\n"
     ]
    }
   ],
   "source": [
    "ASSM['Meals_At_Home'] = impute_with_mean(ASSM['Meals_At_Home'])"
   ]
  },
  {
   "cell_type": "markdown",
   "id": "2fe90d45-879a-4162-85ee-bea8473fd19e",
   "metadata": {},
   "source": [
    "# Remove outliers"
   ]
  },
  {
   "cell_type": "code",
   "execution_count": 306,
   "id": "9bbb863d-31f7-4051-a36f-dff4e2aa3724",
   "metadata": {},
   "outputs": [],
   "source": [
    "def remove_outliers(df, column_name):\n",
    "    Q1 = df[column_name].quantile(0.25)\n",
    "    Q3 = df[column_name].quantile(0.75)\n",
    "    IQR = Q3 - Q1\n",
    "    lower_threshold = Q1 - (1.5 * IQR)\n",
    "    upper_threshold = Q3 + (1.5 * IQR)\n",
    "    df = df[(df[column_name] >= lower_threshold) & (df[column_name] <= upper_threshold)]\n",
    "    return df\n",
    "\n",
    "outlier_columns = ['ricepds_v', 'chicken_q']\n",
    "for col in outlier_columns:\n",
    "    ASSM = remove_outliers(ASSM, col)"
   ]
  },
  {
   "cell_type": "markdown",
   "id": "f1816973-9f54-4c6b-9f02-f9740c608ead",
   "metadata": {},
   "source": [
    "# Calculate total consumption"
   ]
  },
  {
   "cell_type": "code",
   "execution_count": 307,
   "id": "a0ef800a-4c2d-4bd4-9729-c1d51dadce73",
   "metadata": {},
   "outputs": [],
   "source": [
    "ASSM['total_consumption'] = ASSM[['ricepds_v', 'Wheatpds_q', 'chicken_q', 'pulsep_q', 'wheatos_q']].sum(axis=1)"
   ]
  },
  {
   "cell_type": "markdown",
   "id": "e04c3547-31ab-4ad9-8cc8-aaa5487ffea9",
   "metadata": {},
   "source": [
    "# Summarize consumption"
   ]
  },
  {
   "cell_type": "code",
   "execution_count": 308,
   "id": "a89dc7b6-61c2-4a0f-aa5b-bf0bc26a2fd7",
   "metadata": {},
   "outputs": [],
   "source": [
    "def summarize_consumption(group_col):\n",
    "    summary = ASSM.groupby(group_col)['total_consumption'].sum().reset_index()\n",
    "    summary.sort_values(by='total_consumption', ascending=False, inplace=True)\n",
    "    return summary"
   ]
  },
  {
   "cell_type": "code",
   "execution_count": 309,
   "id": "b227fd45-d378-4c22-a39c-c03734141555",
   "metadata": {},
   "outputs": [],
   "source": [
    "district_summary = summarize_consumption('District')\n",
    "region_summary = summarize_consumption('Region')"
   ]
  },
  {
   "cell_type": "code",
   "execution_count": 310,
   "id": "9daec66b-1c8a-44bd-8a13-d08ff91c3a03",
   "metadata": {},
   "outputs": [
    {
     "name": "stdout",
     "output_type": "stream",
     "text": [
      "Top Consuming Districts:\n",
      "    District  total_consumption\n",
      "4          5        4190.159861\n",
      "5          6        3617.375694\n",
      "9         10        3250.635469\n",
      "10        11        3196.657482\n",
      "Region Consumption Summary:\n",
      "   Region  total_consumption\n",
      "1       2       21088.124118\n",
      "3       4       13158.009007\n",
      "0       1       12973.524399\n",
      "2       3        5132.081919\n"
     ]
    }
   ],
   "source": [
    "print(\"Top Consuming Districts:\")\n",
    "print(district_summary.head(4))\n",
    "print(\"Region Consumption Summary:\")\n",
    "print(region_summary)"
   ]
  },
  {
   "cell_type": "markdown",
   "id": "8c7d878b-a7e1-47ee-948b-c915725d125a",
   "metadata": {},
   "source": [
    "# Rename districts and sectors"
   ]
  },
  {
   "cell_type": "code",
   "execution_count": 311,
   "id": "3837a70e-e6b1-4eac-94f8-89246e919195",
   "metadata": {},
   "outputs": [],
   "source": [
    "district = {'1': 'Kokrajhar Assam',\n",
    "    '2': 'Dhubri Assam',\n",
    "    '3': 'Goalpara Assam',\n",
    "    '4': 'Bongaigaon Assam',\n",
    "    '5': 'Barpeta Assam',\n",
    "    '6': 'Kamrup Assam',\n",
    "    '7': 'Nalbari Assam',\n",
    "    '8': 'Darrang Assam',\n",
    "    '9': 'Marigaon Assam',\n",
    "    '10': 'Nagaon Assam',\n",
    "    '11': 'Sonitpur Assam',\n",
    "    '12': 'Lakhimpur Assam',\n",
    "    '13': 'Dhemaji Assam',\n",
    "    '14': 'Tinsukia Assam',\n",
    "    '15': 'Dibrugarh Assam',\n",
    "    '16': 'Sibsagar Assam',\n",
    "    '17': 'Jorhat Assam',\n",
    "    '18': 'Golaghat Assam',\n",
    "    '19': 'Karbi Anglong Assam',\n",
    "    '20': 'North Cachar Hills Assam',\n",
    "    '21': 'Cachar Assam',\n",
    "    '22': 'Karimganj Assam',\n",
    "    '23': 'Hailakandi Assam',\n",
    "    '24': 'Chirag Assam',\n",
    "    '25': 'Baksa Assam',\n",
    "    '26': 'Guwahati Assam',\n",
    "    '27': 'Udalgur Assam'\n",
    "}\n",
    "\n",
    "sector = {\n",
    "    '2': 'URBAN',\n",
    "    '1': 'RURAL'\n",
    "}"
   ]
  },
  {
   "cell_type": "markdown",
   "id": "70efacdf-c5c0-46e5-b3ac-8ff30f1263ad",
   "metadata": {},
   "source": [
    "# Plot consumption distribution"
   ]
  },
  {
   "cell_type": "code",
   "execution_count": 312,
   "id": "95b98f3c-a152-4e6d-a9a2-2d19f880ed2d",
   "metadata": {},
   "outputs": [],
   "source": [
    "ASSM['District'] = ASSM['District'].astype(str)\n",
    "ASSM['Sector'] = ASSM['Sector'].astype(str)\n",
    "\n",
    "ASSM['District'] = ASSM['District'].map(district_mapping).fillna(ASSM['District'])\n",
    "ASSM['Sector'] = ASSM['Sector'].map(sector_mapping).fillna(ASSM['Sector'])\n"
   ]
  },
  {
   "cell_type": "code",
   "execution_count": 313,
   "id": "38f785cb-a3fc-40d1-bed5-dd8a7919ac4d",
   "metadata": {},
   "outputs": [
    {
     "name": "stdout",
     "output_type": "stream",
     "text": [
      "      state_1        District  Region Sector  State_Region  Meals_At_Home  \\\n",
      "16933    ASSM  Sibsagar Assam       1  URBAN           181           90.0   \n",
      "16934    ASSM  Sibsagar Assam       1  URBAN           181           90.0   \n",
      "16935    ASSM  Sibsagar Assam       1  URBAN           181           90.0   \n",
      "16936    ASSM  Sibsagar Assam       1  URBAN           181           90.0   \n",
      "16937    ASSM  Sibsagar Assam       1  URBAN           181           90.0   \n",
      "\n",
      "       ricepds_v  Wheatpds_q  chicken_q  pulsep_q  wheatos_q  \\\n",
      "16933       0.00         0.0   0.142857       0.0   1.428571   \n",
      "16934       0.00         0.0   0.666667       0.0   1.666667   \n",
      "16935       0.00         0.0   0.250000       0.0   1.500000   \n",
      "16936       0.00         0.0   0.000000       0.0   5.000000   \n",
      "16937       3.75         0.0   0.125000       0.0   1.000000   \n",
      "\n",
      "       No_of_Meals_per_day  total_consumption  \n",
      "16933                  3.0           1.571429  \n",
      "16934                  3.0           2.333333  \n",
      "16935                  3.0           1.750000  \n",
      "16936                  3.0           5.000000  \n",
      "16937                  3.0           4.875000  \n"
     ]
    }
   ],
   "source": [
    "print(ASSM.head())"
   ]
  },
  {
   "cell_type": "code",
   "execution_count": 314,
   "id": "58ccf845-4fe3-4346-8001-af30b10894b9",
   "metadata": {},
   "outputs": [
    {
     "data": {
      "image/png": "[encoded data removed]",
      "text/plain": [
       "<Figure size 640x480 with 1 Axes>"
      ]
     },
     "metadata": {},
     "output_type": "display_data"
    }
   ],
   "source": [
    "plt.hist(ASSM['total_consumption'], bins=10, color='blue', edgecolor='black')\n",
    "plt.xlabel(\"Consumption\")\n",
    "plt.ylabel(\"Frequency\")\n",
    "plt.title(\"Consumption Distribution in Assam State\")\n",
    "plt.show()"
   ]
  },
  {
   "cell_type": "code",
   "execution_count": 315,
   "id": "eda54fa4-1baf-426e-8e73-1c83ff43c7db",
   "metadata": {},
   "outputs": [],
   "source": [
    "ASSM_consumption = ASSM.groupby('District')['total_consumption'].sum().reset_index()"
   ]
  },
  {
   "cell_type": "code",
   "execution_count": 316,
   "id": "8f2eac16-6d66-49b7-9d32-951942862bcc",
   "metadata": {},
   "outputs": [
    {
     "name": "stdout",
     "output_type": "stream",
     "text": [
      "           District  total_consumption\n",
      "0       Baksa Assam        1036.230462\n",
      "1     Barpeta Assam        4190.159861\n",
      "2  Bongaigaon Assam        1708.597183\n",
      "3      Cachar Assam         903.331071\n",
      "4      Chirag Assam        1198.844722\n"
     ]
    }
   ],
   "source": [
    "print(ASSM_consumption.head())"
   ]
  },
  {
   "cell_type": "code",
   "execution_count": 317,
   "id": "96c6fc15-5ce6-4e91-b3b4-53e43e987200",
   "metadata": {},
   "outputs": [
    {
     "data": {
      "image/png": "[encoded data removed]",
      "text/plain": [
       "<Figure size 640x480 with 1 Axes>"
      ]
     },
     "metadata": {},
     "output_type": "display_data"
    }
   ],
   "source": [
    "plt.bar(ASSM_consumption['District'], ASSM_consumption['total_consumption'], color='blue', edgecolor='black')\n",
    "plt.xlabel(\"District\")\n",
    "plt.ylabel(\"Total Consumption\")\n",
    "plt.title(\"Total Consumption per District\")\n",
    "plt.xticks(rotation=90)  # Rotate district names for better visibility\n",
    "plt.show()"
   ]
  },
  {
   "cell_type": "markdown",
   "id": "3e5f309f-6305-49ec-8d26-4447fd75f930",
   "metadata": {},
   "source": [
    "# Load Assam district shapefile"
   ]
  },
  {
   "cell_type": "code",
   "execution_count": 318,
   "id": "a635323c-5f06-4fc9-96b5-a185d9ff31f0",
   "metadata": {},
   "outputs": [],
   "source": [
    "data_map = gpd.read_file(\"C:\\\\Users\\\\Bala Vignesh.A\\\\Desktop\\\\ASSAM_DISTRICTS.geojson\")"
   ]
  },
  {
   "cell_type": "markdown",
   "id": "264cea6c-e108-4ca2-970c-d5ba49508fcc",
   "metadata": {},
   "source": [
    "# Merge ASSM_consumption with data_map"
   ]
  },
  {
   "cell_type": "code",
   "execution_count": 319,
   "id": "cad01eee-0cf6-4929-8b87-64d32d08b1db",
   "metadata": {},
   "outputs": [
    {
     "name": "stdout",
     "output_type": "stream",
     "text": [
      "Index(['dtname', 'stname', 'stcode11', 'dtcode11', 'year_stat', 'Shape_Length',\n",
      "       'Shape_Area', 'OBJECTID', 'test', 'Dist_LGD', 'State_LGD', 'geometry'],\n",
      "      dtype='object')\n",
      "Index(['District', 'total_consumption'], dtype='object')\n"
     ]
    }
   ],
   "source": [
    "print(data_map.columns)\n",
    "print(ASSM_consumption.columns)"
   ]
  },
  {
   "cell_type": "code",
   "execution_count": 320,
   "id": "e40dd170-047d-4838-a1a4-996c1f945dd5",
   "metadata": {},
   "outputs": [],
   "source": [
    "data_map['District'] = ASSM_consumption['District']"
   ]
  },
  {
   "cell_type": "code",
   "execution_count": 321,
   "id": "9aba032a-a180-4cee-bbca-d00d0cec082d",
   "metadata": {},
   "outputs": [],
   "source": [
    "data_map_data = data_map.merge(ASSM_consumption, left_on='dtname', right_on='District')"
   ]
  },
  {
   "cell_type": "code",
   "execution_count": 322,
   "id": "3d64d04f-2697-474b-823d-e70e831fb2fb",
   "metadata": {},
   "outputs": [
    {
     "name": "stdout",
     "output_type": "stream",
     "text": [
      "Index(['dtname', 'stname', 'stcode11', 'dtcode11', 'year_stat', 'Shape_Length',\n",
      "       'Shape_Area', 'OBJECTID', 'test', 'Dist_LGD', 'State_LGD', 'geometry',\n",
      "       'District'],\n",
      "      dtype='object')\n"
     ]
    }
   ],
   "source": [
    "print(data_map.columns)"
   ]
  },
  {
   "cell_type": "markdown",
   "id": "a7d52e96-2301-49e0-b92f-ab45bb4dfdff",
   "metadata": {},
   "source": [
    "# Plot the data"
   ]
  },
  {
   "cell_type": "code",
   "execution_count": 323,
   "id": "b2857038-3d12-45cb-b1c4-1c9ee26af61e",
   "metadata": {},
   "outputs": [],
   "source": [
    "import geopandas as gpd\n",
    "import pandas as pd\n",
    "import matplotlib.pyplot as plt"
   ]
  },
  {
   "cell_type": "code",
   "execution_count": 324,
   "id": "f69ad151-42a4-4792-a91e-4f051da5baae",
   "metadata": {},
   "outputs": [],
   "source": [
    "data_map = gpd.read_file(\"C:/Users/Bala Vignesh.A/Desktop/ASSAM_DISTRICTS.geojson\")"
   ]
  },
  {
   "cell_type": "code",
   "execution_count": 325,
   "id": "13d67f42-f383-40c0-b111-9fe15a752864",
   "metadata": {},
   "outputs": [],
   "source": [
    "data_map = data_map.rename(columns={'dtname': 'District'})"
   ]
  },
  {
   "cell_type": "code",
   "execution_count": 332,
   "id": "627bf804-b992-435b-ba85-f7353d908fa6",
   "metadata": {},
   "outputs": [
    {
     "data": {
      "text/plain": [
       "<bound method DataFrame.rename of                    District stname stcode11 dtcode11 year_stat   Shape_Length  \\\n",
       "0                  Tinsukia  ASSAM       18      309    2011_c  487726.067498   \n",
       "1                   Dhemaji  ASSAM       18      308    2011_c  459070.994852   \n",
       "2                 Dibrugarh  ASSAM       18      310    2011_c  509783.046862   \n",
       "3                 Lakhimpur  ASSAM       18      307    2011_c  426714.783079   \n",
       "4                 Sivasagar  ASSAM       18      311    2011_c  309064.056046   \n",
       "5                    Jorhat  ASSAM       18      312    2011_c  395207.912262   \n",
       "6                  Sonitpur  ASSAM       18      306    2011_c  356664.951797   \n",
       "7                  Golaghat  ASSAM       18      313    2011_c  696715.325801   \n",
       "8                  Udalguri  ASSAM       18      326    2011_c  488761.733551   \n",
       "9                   Chirang  ASSAM       18      320    2011_c  316624.721100   \n",
       "10                    Baksa  ASSAM       18      324    2011_c  556608.556109   \n",
       "11                   Nagaon  ASSAM       18      305    2011_c  678381.120910   \n",
       "12                Kokrajhar  ASSAM       18      300    2011_c  448699.756082   \n",
       "13                  Darrang  ASSAM       18      325    2011_c  420435.564906   \n",
       "14                  Barpeta  ASSAM       18      303    2011_c  470876.861858   \n",
       "15                  Nalbari  ASSAM       18      323    2011_c  264815.404683   \n",
       "16                 Morigaon  ASSAM       18      304    2011_c  252250.568965   \n",
       "17                   Kamrup  ASSAM       18      321    2011_c  594730.995816   \n",
       "18               Bongaigaon  ASSAM       18      319    2011_c  328460.289903   \n",
       "19                   Dhubri  ASSAM       18      301    2011_c  553194.161601   \n",
       "20      Kamrup Metropolitan  ASSAM       18      322    2011_c  246445.626968   \n",
       "21                 Goalpara  ASSAM       18      302    2011_c  385196.638030   \n",
       "22               Dima Hasao  ASSAM       18      315    2011_c  565250.669808   \n",
       "23                   Cachar  ASSAM       18      316    2011_c  488057.507468   \n",
       "24                Karimganj  ASSAM       18      317    2011_c  282986.989837   \n",
       "25               Hailakandi  ASSAM       18      318    2011_c  295141.488106   \n",
       "26                Charaideo  ASSAM       18      755    2015_c  261612.066007   \n",
       "27                   Majuli  ASSAM       18      760    2016_c  214771.571417   \n",
       "28                Biswanath  ASSAM       18      756    2015_c  259993.679944   \n",
       "29                    Hojai  ASSAM       18      757    2015_c  286566.025005   \n",
       "30  South Salmara Mancachar  ASSAM       18      758    2015_c  264719.648115   \n",
       "31            Karbi Anglong  ASSAM       18      314    2011_c  903285.076179   \n",
       "32       West Karbi Anglong  ASSAM       18      759    2016_c  488925.477864   \n",
       "\n",
       "      Shape_Area  OBJECTID  test  Dist_LGD  State_LGD  \\\n",
       "0   4.869285e+09       217     0       302         18   \n",
       "1   3.172928e+09       221     0       284         18   \n",
       "2   4.301700e+09       231     0       286         18   \n",
       "3   3.803108e+09       237     0       295         18   \n",
       "4   1.987498e+09       248     0       300         18   \n",
       "5   2.576738e+09       251     0       290         18   \n",
       "6   4.338228e+09       262     0       301         18   \n",
       "7   4.415104e+09       263     0       288         18   \n",
       "8   2.536327e+09       270     1       617         18   \n",
       "9   2.421100e+09       274     0       612         18   \n",
       "10  3.055676e+09       276     1       616         18   \n",
       "11  3.223843e+09       278     0       297         18   \n",
       "12  3.924565e+09       280     0       294         18   \n",
       "13  1.983220e+09       285     1       283         18   \n",
       "14  2.848022e+09       290     1       280         18   \n",
       "15  1.309161e+09       294     0       298         18   \n",
       "16  1.887138e+09       295     0       296         18   \n",
       "17  3.864430e+09       298     0       291         18   \n",
       "18  1.360853e+09       300     0       281         18   \n",
       "19  1.940842e+09       310     1       285         18   \n",
       "20  1.234916e+09       311     0       618         18   \n",
       "21  2.461774e+09       314     1       287         18   \n",
       "22  6.008052e+09       321     0       299         18   \n",
       "23  4.611979e+09       358     0       282         18   \n",
       "24  2.234859e+09       367     0       293         18   \n",
       "25  1.612208e+09       368     1       289         18   \n",
       "26  1.352678e+09       551     0       708         18   \n",
       "27  9.952757e+08       552     0       706         18   \n",
       "28  2.248085e+09       553     0       705         18   \n",
       "29  1.808849e+09       554     0       709         18   \n",
       "30  8.478560e+08       555     0       707         18   \n",
       "31  9.128122e+09       556     0       292         18   \n",
       "32  3.809976e+09       557     0       710         18   \n",
       "\n",
       "                                             geometry  \n",
       "0   POLYGON ((95.97166 27.96254, 95.9712 27.96281,...  \n",
       "1   POLYGON ((95.51451 27.87648, 95.51468 27.8796,...  \n",
       "2   POLYGON ((95.1964 27.70437, 95.19573 27.70474,...  \n",
       "3   POLYGON ((94.26936 27.51557, 94.26818 27.52094...  \n",
       "4   POLYGON ((94.73822 27.2751, 94.73593 27.27537,...  \n",
       "5   POLYGON ((94.39741 26.95124, 94.39664 26.95273...  \n",
       "6   POLYGON ((92.77828 27.02292, 92.76315 27.02741...  \n",
       "7   POLYGON ((93.93765 26.93035, 93.934 26.93094, ...  \n",
       "8   POLYGON ((92.36484 26.93206, 92.36312 26.93464...  \n",
       "9   POLYGON ((90.4178 26.9045, 90.41753 26.90459, ...  \n",
       "10  POLYGON ((91.40819 26.83995, 91.40805 26.84004...  \n",
       "11  POLYGON ((93.30505 26.69636, 93.30396 26.70033...  \n",
       "12  POLYGON ((90.3359 26.8628, 90.33641 26.869, 90...  \n",
       "13  POLYGON ((92.18098 26.66867, 92.18125 26.67023...  \n",
       "14  POLYGON ((91.14544 26.66282, 91.14507 26.6631,...  \n",
       "15  POLYGON ((91.57769 26.57202, 91.5774 26.57228,...  \n",
       "16  POLYGON ((92.41946 26.51461, 92.41903 26.51703...  \n",
       "17  POLYGON ((91.5862 26.52838, 91.58057 26.53097,...  \n",
       "18  POLYGON ((90.84683 26.53093, 90.84325 26.53213...  \n",
       "19  POLYGON ((90.22714 26.38405, 90.22672 26.38509...  \n",
       "20  POLYGON ((91.97842 26.27462, 91.97816 26.27489...  \n",
       "21  MULTIPOLYGON (((90.42001 25.9429, 90.42277 25....  \n",
       "22  POLYGON ((93.00632 25.82649, 93.00601 25.82667...  \n",
       "23  POLYGON ((92.73024 25.14324, 92.72986 25.14329...  \n",
       "24  POLYGON ((92.29878 24.91572, 92.29816 24.91578...  \n",
       "25  POLYGON ((92.59726 24.8791, 92.59616 24.8794, ...  \n",
       "26  POLYGON ((94.96877 27.22464, 94.96785 27.22694...  \n",
       "27  POLYGON ((94.56198 27.18347, 94.56124 27.18374...  \n",
       "28  POLYGON ((93.69768 26.99428, 93.69768 26.99428...  \n",
       "29  POLYGON ((92.88211 26.20788, 92.8818 26.20792,...  \n",
       "30  POLYGON ((90.13215 26.05432, 90.12536 26.05476...  \n",
       "31  POLYGON ((93.70128 26.60732, 93.7009 26.60738,...  \n",
       "32  POLYGON ((92.5223 26.15511, 92.52186 26.15535,...  >"
      ]
     },
     "metadata": {},
     "output_type": "display_data"
    }
   ],
   "source": [
    "display(data_map.rename)"
   ]
  },
  {
   "cell_type": "code",
   "execution_count": 326,
   "id": "db2149f0-4d70-48b7-9744-e0db1b6557e6",
   "metadata": {},
   "outputs": [],
   "source": [
    "ASSM_consumption = pd.read_csv(\"C:\\\\Users\\\\Bala Vignesh.A\\\\Desktop\\\\Assignments\\\\SCMA 632\\\\NSSO68.csv\", low_memory=False)\n"
   ]
  },
  {
   "cell_type": "code",
   "execution_count": 336,
   "id": "43eaf3c3-38c8-499f-9b94-0e1cb71b3aec",
   "metadata": {},
   "outputs": [],
   "source": [
    "ASSM_consumption = ASSM.groupby('District')['total_consumption'].sum().reset_index()"
   ]
  },
  {
   "cell_type": "code",
   "execution_count": 357,
   "id": "1a9de632-81d6-4e5d-9aa7-3cb27a860af9",
   "metadata": {},
   "outputs": [
    {
     "name": "stdout",
     "output_type": "stream",
     "text": [
      "           District  total_consumption\n",
      "0       Baksa Assam        1036.230462\n",
      "1     Barpeta Assam        4190.159861\n",
      "2  Bongaigaon Assam        1708.597183\n",
      "3      Cachar Assam         903.331071\n",
      "4      Chirag Assam        1198.844722\n"
     ]
    }
   ],
   "source": [
    "print(ASSM_consumption.head())"
   ]
  },
  {
   "cell_type": "code",
   "execution_count": 359,
   "id": "9e85d1c7-4daf-4fc4-a197-50b0e53a50e7",
   "metadata": {},
   "outputs": [],
   "source": [
    "data_map = gpd.read_file(\"C:\\\\Users\\\\Bala Vignesh.A\\\\Desktop\\\\ASSAM_DISTRICTS.geojson\")\n",
    "data_map = data_map.rename(columns={'dtname': 'District'})"
   ]
  },
  {
   "cell_type": "code",
   "execution_count": 360,
   "id": "cf631860-f5f6-4c62-8b51-2c1c10910343",
   "metadata": {},
   "outputs": [],
   "source": [
    "data_map_data = data_map.merge(ASSM_consumption, on='District')"
   ]
  },
  {
   "cell_type": "code",
   "execution_count": 361,
   "id": "21b61ac8-c495-4390-a3d6-7cd525fa8aae",
   "metadata": {},
   "outputs": [],
   "source": [
    "data_map_utm = data_map_data.to_crs(epsg=32645)"
   ]
  },
  {
   "cell_type": "code",
   "execution_count": 363,
   "id": "1988b411-fbf5-4266-901e-ede4e5bb5474",
   "metadata": {},
   "outputs": [
    {
     "ename": "ValueError",
     "evalue": "aspect must be finite and positive ",
     "output_type": "error",
     "traceback": [
      "\u001b[1;31m---------------------------------------------------------------------------\u001b[0m",
      "\u001b[1;31mValueError\u001b[0m                                Traceback (most recent call last)",
      "Cell \u001b[1;32mIn[363], line 3\u001b[0m\n\u001b[0;32m      1\u001b[0m plt\u001b[38;5;241m.\u001b[39mfigure(figsize\u001b[38;5;241m=\u001b[39m(\u001b[38;5;241m10\u001b[39m, \u001b[38;5;241m10\u001b[39m))\n\u001b[0;32m      2\u001b[0m plt\u001b[38;5;241m.\u001b[39maxis(\u001b[38;5;124m'\u001b[39m\u001b[38;5;124moff\u001b[39m\u001b[38;5;124m'\u001b[39m)\n\u001b[1;32m----> 3\u001b[0m data_map_data\u001b[38;5;241m.\u001b[39mplot(column\u001b[38;5;241m=\u001b[39m\u001b[38;5;124m'\u001b[39m\u001b[38;5;124mtotal_consumption\u001b[39m\u001b[38;5;124m'\u001b[39m, cmap\u001b[38;5;241m=\u001b[39m\u001b[38;5;124m'\u001b[39m\u001b[38;5;124mviridis\u001b[39m\u001b[38;5;124m'\u001b[39m, legend\u001b[38;5;241m=\u001b[39m\u001b[38;5;28;01mTrue\u001b[39;00m)\n\u001b[0;32m      4\u001b[0m plt\u001b[38;5;241m.\u001b[39mtitle(\u001b[38;5;124m'\u001b[39m\u001b[38;5;124mTotal Consumption by District\u001b[39m\u001b[38;5;124m'\u001b[39m)\n\u001b[0;32m      5\u001b[0m ax \u001b[38;5;241m=\u001b[39m plt\u001b[38;5;241m.\u001b[39mgca()\n",
      "File \u001b[1;32m~\\anaconda3\\Lib\\site-packages\\geopandas\\plotting.py:968\u001b[0m, in \u001b[0;36mGeoplotAccessor.__call__\u001b[1;34m(self, *args, **kwargs)\u001b[0m\n\u001b[0;32m    966\u001b[0m kind \u001b[38;5;241m=\u001b[39m kwargs\u001b[38;5;241m.\u001b[39mpop(\u001b[38;5;124m\"\u001b[39m\u001b[38;5;124mkind\u001b[39m\u001b[38;5;124m\"\u001b[39m, \u001b[38;5;124m\"\u001b[39m\u001b[38;5;124mgeo\u001b[39m\u001b[38;5;124m\"\u001b[39m)\n\u001b[0;32m    967\u001b[0m \u001b[38;5;28;01mif\u001b[39;00m kind \u001b[38;5;241m==\u001b[39m \u001b[38;5;124m\"\u001b[39m\u001b[38;5;124mgeo\u001b[39m\u001b[38;5;124m\"\u001b[39m:\n\u001b[1;32m--> 968\u001b[0m     \u001b[38;5;28;01mreturn\u001b[39;00m plot_dataframe(data, \u001b[38;5;241m*\u001b[39margs, \u001b[38;5;241m*\u001b[39m\u001b[38;5;241m*\u001b[39mkwargs)\n\u001b[0;32m    969\u001b[0m \u001b[38;5;28;01mif\u001b[39;00m kind \u001b[38;5;129;01min\u001b[39;00m \u001b[38;5;28mself\u001b[39m\u001b[38;5;241m.\u001b[39m_pandas_kinds:\n\u001b[0;32m    970\u001b[0m     \u001b[38;5;66;03m# Access pandas plots\u001b[39;00m\n\u001b[0;32m    971\u001b[0m     \u001b[38;5;28;01mreturn\u001b[39;00m PlotAccessor(data)(kind\u001b[38;5;241m=\u001b[39mkind, \u001b[38;5;241m*\u001b[39m\u001b[38;5;241m*\u001b[39mkwargs)\n",
      "File \u001b[1;32m~\\anaconda3\\Lib\\site-packages\\geopandas\\plotting.py:664\u001b[0m, in \u001b[0;36mplot_dataframe\u001b[1;34m(df, column, cmap, color, ax, cax, categorical, legend, scheme, k, vmin, vmax, markersize, figsize, legend_kwds, categories, classification_kwds, missing_kwds, aspect, autolim, **style_kwds)\u001b[0m\n\u001b[0;32m    662\u001b[0m     bounds \u001b[38;5;241m=\u001b[39m df\u001b[38;5;241m.\u001b[39mtotal_bounds\n\u001b[0;32m    663\u001b[0m     y_coord \u001b[38;5;241m=\u001b[39m np\u001b[38;5;241m.\u001b[39mmean([bounds[\u001b[38;5;241m1\u001b[39m], bounds[\u001b[38;5;241m3\u001b[39m]])\n\u001b[1;32m--> 664\u001b[0m     ax\u001b[38;5;241m.\u001b[39mset_aspect(\u001b[38;5;241m1\u001b[39m \u001b[38;5;241m/\u001b[39m np\u001b[38;5;241m.\u001b[39mcos(y_coord \u001b[38;5;241m*\u001b[39m np\u001b[38;5;241m.\u001b[39mpi \u001b[38;5;241m/\u001b[39m \u001b[38;5;241m180\u001b[39m))\n\u001b[0;32m    665\u001b[0m     \u001b[38;5;66;03m# formula ported from R package sp\u001b[39;00m\n\u001b[0;32m    666\u001b[0m     \u001b[38;5;66;03m# https://github.com/edzer/sp/blob/master/R/mapasp.R\u001b[39;00m\n\u001b[0;32m    667\u001b[0m \u001b[38;5;28;01melse\u001b[39;00m:\n\u001b[0;32m    668\u001b[0m     ax\u001b[38;5;241m.\u001b[39mset_aspect(\u001b[38;5;124m\"\u001b[39m\u001b[38;5;124mequal\u001b[39m\u001b[38;5;124m\"\u001b[39m)\n",
      "File \u001b[1;32m~\\anaconda3\\Lib\\site-packages\\matplotlib\\axes\\_base.py:1664\u001b[0m, in \u001b[0;36m_AxesBase.set_aspect\u001b[1;34m(self, aspect, adjustable, anchor, share)\u001b[0m\n\u001b[0;32m   1662\u001b[0m     aspect \u001b[38;5;241m=\u001b[39m \u001b[38;5;28mfloat\u001b[39m(aspect)  \u001b[38;5;66;03m# raise ValueError if necessary\u001b[39;00m\n\u001b[0;32m   1663\u001b[0m     \u001b[38;5;28;01mif\u001b[39;00m aspect \u001b[38;5;241m<\u001b[39m\u001b[38;5;241m=\u001b[39m \u001b[38;5;241m0\u001b[39m \u001b[38;5;129;01mor\u001b[39;00m \u001b[38;5;129;01mnot\u001b[39;00m np\u001b[38;5;241m.\u001b[39misfinite(aspect):\n\u001b[1;32m-> 1664\u001b[0m         \u001b[38;5;28;01mraise\u001b[39;00m \u001b[38;5;167;01mValueError\u001b[39;00m(\u001b[38;5;124m\"\u001b[39m\u001b[38;5;124maspect must be finite and positive \u001b[39m\u001b[38;5;124m\"\u001b[39m)\n\u001b[0;32m   1666\u001b[0m \u001b[38;5;28;01mif\u001b[39;00m share:\n\u001b[0;32m   1667\u001b[0m     axes \u001b[38;5;241m=\u001b[39m {sibling \u001b[38;5;28;01mfor\u001b[39;00m name \u001b[38;5;129;01min\u001b[39;00m \u001b[38;5;28mself\u001b[39m\u001b[38;5;241m.\u001b[39m_axis_names\n\u001b[0;32m   1668\u001b[0m             \u001b[38;5;28;01mfor\u001b[39;00m sibling \u001b[38;5;129;01min\u001b[39;00m \u001b[38;5;28mself\u001b[39m\u001b[38;5;241m.\u001b[39m_shared_axes[name]\u001b[38;5;241m.\u001b[39mget_siblings(\u001b[38;5;28mself\u001b[39m)}\n",
      "\u001b[1;31mValueError\u001b[0m: aspect must be finite and positive "
     ]
    },
    {
     "data": {
      "image/png": "[encoded data removed]",
      "text/plain": [
       "<Figure size 1000x1000 with 1 Axes>"
      ]
     },
     "metadata": {},
     "output_type": "display_data"
    },
    {
     "data": {
      "image/png": "[encoded data removed]",
      "text/plain": [
       "<Figure size 640x480 with 1 Axes>"
      ]
     },
     "metadata": {},
     "output_type": "display_data"
    }
   ],
   "source": [
    "plt.figure(figsize=(10, 10))\n",
    "plt.axis('off')\n",
    "data_map_data.plot(column='total_consumption', cmap='viridis', legend=True)\n",
    "plt.title('Total Consumption by District')\n",
    "ax = plt.gca()\n",
    "ax.set_aspect('equal')"
   ]
  },
  {
   "cell_type": "code",
   "execution_count": null,
   "id": "f7b6e1dd-d7ac-4c40-b148-77f381747105",
   "metadata": {},
   "outputs": [],
   "source": []
  }
 ],
 "metadata": {
  "kernelspec": {
   "display_name": "Python 3 (ipykernel)",
   "language": "python",
   "name": "python3"
  },
  "language_info": {
   "codemirror_mode": {
    "name": "ipython",
    "version": 3
   },
   "file_extension": ".py",
   "mimetype": "text/x-python",
   "name": "python",
   "nbconvert_exporter": "python",
   "pygments_lexer": "ipython3",
   "version": "3.12.4"
  }
 },
 "nbformat": 4,
 "nbformat_minor": 5
}
