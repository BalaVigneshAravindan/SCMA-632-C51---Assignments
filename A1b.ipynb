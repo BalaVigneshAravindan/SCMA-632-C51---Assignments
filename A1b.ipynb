{
 "cells": [
  {
   "cell_type": "code",
   "execution_count": 8,
   "id": "80d3a063-5053-4ab2-a240-6f6773f3cf8c",
   "metadata": {},
   "outputs": [],
   "source": [
    "import pandas as pd"
   ]
  },
  {
   "cell_type": "markdown",
   "id": "1829b037-8095-4632-8b6f-4b813b073b3c",
   "metadata": {},
   "source": [
    "# Load the IPL data into a pandas dataframe"
   ]
  },
  {
   "cell_type": "code",
   "execution_count": 9,
   "id": "a1ec06b5-d08d-4984-a00e-a7e392117b23",
   "metadata": {},
   "outputs": [],
   "source": [
    "data = pd.read_csv('C:\\\\Users\\\\Bala Vignesh.A\\\\Desktop\\\\SCMA 632\\\\Cricket_data.csv')\n"
   ]
  },
  {
   "cell_type": "code",
   "execution_count": 10,
   "id": "463724ba-da15-428a-b08b-e89d8c1b3a69",
   "metadata": {},
   "outputs": [
    {
     "name": "stdout",
     "output_type": "stream",
     "text": [
      "      season       id                                          name  \\\n",
      "0        NaN  1370350          Chennai Super Kings v Gujarat Titans   \n",
      "1        NaN  1370351         Lucknow Super Giants v Mumbai Indians   \n",
      "2        NaN  1370352                                     TBC v TBC   \n",
      "3        NaN  1370353                                     TBC v TBC   \n",
      "4     2023.0  1359544  Royal Challengers Bangalore v Gujarat Titans   \n",
      "...      ...      ...                                           ...   \n",
      "1027  2008.0   336012  Royal Challengers Bangalore v Mumbai Indians   \n",
      "1028  2008.0   336019            Kings XI Punjab v Rajasthan Royals   \n",
      "1029  2008.0   336038           Delhi Daredevils v Rajasthan Royals   \n",
      "1030  2008.0   336039         Chennai Super Kings v Kings XI Punjab   \n",
      "1031  2008.0   336040        Chennai Super Kings v Rajasthan Royals   \n",
      "\n",
      "      short_name                                        description home_team  \\\n",
      "0       CSK v GT  Qualifier 1 (N), Indian Premier League at Chen...       CSK   \n",
      "1       LSG v MI  Eliminator (N), Indian Premier League at Chenn...       LSG   \n",
      "2      TBC v TBC  Qualifier 2 (N), Indian Premier League at Ahme...       TBA   \n",
      "3      TBC v TBC  Final (N), Indian Premier League at Ahmedabad,...       TBA   \n",
      "4       RCB v GT  70th Match (N), Indian Premier League at Benga...       RCB   \n",
      "...          ...                                                ...       ...   \n",
      "1027    RCB v MI  55th match (D/N), Indian Premier League at Ben...       RCB   \n",
      "1028   KXIP v RR  56th match (N), Indian Premier League at Mohal...      KXIP   \n",
      "1029     DC v RR  1st Semi-Final (N), Indian Premier League at M...        DC   \n",
      "1030  CSK v KXIP  2nd Semi-Final (N), Indian Premier League at M...       CSK   \n",
      "1031    CSK v RR  Final (N), Indian Premier League at Mumbai, Ju...       CSK   \n",
      "\n",
      "     away_team toss_won    decision 1st_inning_score  ...  \\\n",
      "0           GT      NaN         NaN              NaN  ...   \n",
      "1           MI      NaN         NaN              NaN  ...   \n",
      "2          TBA      NaN         NaN              NaN  ...   \n",
      "3          TBA      NaN         NaN              NaN  ...   \n",
      "4           GT       GT  BOWL FIRST            197/5  ...   \n",
      "...        ...      ...         ...              ...  ...   \n",
      "1027        MI       MI  BOWL FIRST            122/9  ...   \n",
      "1028        RR       RR  BOWL FIRST            221/3  ...   \n",
      "1029        RR       DC  BOWL FIRST            192/9  ...   \n",
      "1030      KXIP     KXIP   BAT FIRST            112/8  ...   \n",
      "1031        RR       RR  BOWL FIRST            163/5  ...   \n",
      "\n",
      "                                            home_playx1  \\\n",
      "0                                                   NaN   \n",
      "1                                                   NaN   \n",
      "2                                                   NaN   \n",
      "3                                                   NaN   \n",
      "4     Virat Kohli (UKN),Faf du Plessis (UKN),Glenn M...   \n",
      "...                                                 ...   \n",
      "1027  Mark Boucher (BT),Shreevats Goswami (WK),Misba...   \n",
      "1028  Shaun Marsh (BT),James Hopes (AR),Yuvraj Singh...   \n",
      "1029  Gautam Gambhir (BT),Virender Sehwag (BT),Shikh...   \n",
      "1030  Parthiv Patel (WK),Vidyut Sivaramakrishnan (UK...   \n",
      "1031  Parthiv Patel (WK),Vidyut Sivaramakrishnan (UK...   \n",
      "\n",
      "                                            away_playx1  \\\n",
      "0                                                   NaN   \n",
      "1                                                   NaN   \n",
      "2                                                   NaN   \n",
      "3                                                   NaN   \n",
      "4     Wriddhiman Saha (WK),Shubman Gill (UKN),Vijay ...   \n",
      "...                                                 ...   \n",
      "1027  Sanath Jayasuriya (AR),Sachin Tendulkar (BT),R...   \n",
      "1028  Mohammad Kaif (BT),Niraj Patel (UKN),Younis Kh...   \n",
      "1029  Graeme Smith (BT),Swapnil Asnodkar (BT),Sohail...   \n",
      "1030  Shaun Marsh (BT),James Hopes (AR),Kumar Sangak...   \n",
      "1031  Niraj Patel (UKN),Swapnil Asnodkar (BT),Kamran...   \n",
      "\n",
      "                        away_key_batsman                away_key_bowler  \\\n",
      "0                                    NaN                            NaN   \n",
      "1                                    NaN                            NaN   \n",
      "2                                    NaN                            NaN   \n",
      "3                                    NaN                            NaN   \n",
      "4             Shubman Gill,Vijay Shankar         Noor Ahmad,Rashid Khan   \n",
      "...                                  ...                            ...   \n",
      "1027  Sanath Jayasuriya,Sachin Tendulkar  Dilhara Fernando,Dwayne Smith   \n",
      "1028            Niraj Patel,Yusuf Pathan      Shane Watson,Yusuf Pathan   \n",
      "1029           Shane Watson,Yusuf Pathan       Shane Watson,Munaf Patel   \n",
      "1030            Ramesh Powar,Wilkin Mota      Irfan Pathan,Vikram Singh   \n",
      "1031       Yusuf Pathan,Swapnil Asnodkar      Yusuf Pathan,Shane Watson   \n",
      "\n",
      "                                         match_days            umpire1  \\\n",
      "0                                               NaN                NaN   \n",
      "1                                               NaN                NaN   \n",
      "2                                               NaN                NaN   \n",
      "3                                               NaN                NaN   \n",
      "4         21 May 2023 - night match (20-over match)        Nitin Menon   \n",
      "...                                             ...                ...   \n",
      "1027  28 May 2008 - day/night match (20-over match)       Billy Bowden   \n",
      "1028      28 May 2008 - night match (20-over match)  Krishna Hariharan   \n",
      "1029      30 May 2008 - night match (20-over match)       Billy Bowden   \n",
      "1030      31 May 2008 - night match (20-over match)          Asad Rauf   \n",
      "1031      1 June 2008 - night match (20-over match)       Billy Bowden   \n",
      "\n",
      "                umpire2          tv_umpire                   referee  \\\n",
      "0                   NaN                NaN                       NaN   \n",
      "1                   NaN                NaN                       NaN   \n",
      "2                   NaN                NaN                       NaN   \n",
      "3                   NaN                NaN                       NaN   \n",
      "4       Virender Sharma       Tapan Sharma           Javagal Srinath   \n",
      "...                 ...                ...                       ...   \n",
      "1027  Arani Jayaprakash     Billy Doctrove           Sir Clive Lloyd   \n",
      "1028        Steve Davis       Daryl Harper  Srinivas Venkataraghavan   \n",
      "1029      Rudi Koertzen     Billy Doctrove           Javagal Srinath   \n",
      "1030       Daryl Harper  Krishna Hariharan  Srinivas Venkataraghavan   \n",
      "1031      Rudi Koertzen       Daryl Harper           Javagal Srinath   \n",
      "\n",
      "     reserve_umpire  \n",
      "0               NaN  \n",
      "1               NaN  \n",
      "2               NaN  \n",
      "3               NaN  \n",
      "4        VM  Dhokre  \n",
      "...             ...  \n",
      "1027            NaN  \n",
      "1028       MS Mahal  \n",
      "1029            NaN  \n",
      "1030            NaN  \n",
      "1031       MR Singh  \n",
      "\n",
      "[1032 rows x 43 columns]\n"
     ]
    }
   ],
   "source": [
    "print(data)"
   ]
  },
  {
   "cell_type": "code",
   "execution_count": 17,
   "id": "c3f556f3-1a4f-4245-9910-0db638ab7cb0",
   "metadata": {},
   "outputs": [
    {
     "name": "stdout",
     "output_type": "stream",
     "text": [
      "Empty DataFrame\n",
      "Columns: [season, id, name, short_name, description, home_team, away_team, toss_won, decision, 1st_inning_score, 2nd_inning_score, winner, result, start_date, end_date, venue_id, venue_name, home_captain, away_captain, pom, points, super_over, home_overs, home_runs, home_wickets, home_boundaries, away_overs, away_runs, away_wickets, away_boundaries, highlights, home_key_batsman, home_key_bowler, home_playx1, away_playx1, away_key_batsman, away_key_bowler, match_days, umpire1, umpire2, tv_umpire, referee, reserve_umpire]\n",
      "Index: []\n",
      "\n",
      "[0 rows x 43 columns]\n"
     ]
    }
   ],
   "source": [
    "print(ct_data)"
   ]
  },
  {
   "cell_type": "code",
   "execution_count": 11,
   "id": "c36e79a4-84ba-4550-aacf-54e6ffdb80b1",
   "metadata": {},
   "outputs": [
    {
     "data": {
      "text/plain": [
       "0       False\n",
       "1       False\n",
       "2       False\n",
       "3       False\n",
       "4       False\n",
       "        ...  \n",
       "1027    False\n",
       "1028    False\n",
       "1029    False\n",
       "1030    False\n",
       "1031    False\n",
       "Name: home_key_batsman, Length: 1032, dtype: bool"
      ]
     },
     "execution_count": 11,
     "metadata": {},
     "output_type": "execute_result"
    }
   ],
   "source": [
    "(data['home_key_batsman'] == 'Rahul Tewatia')"
   ]
  },
  {
   "cell_type": "code",
   "execution_count": 12,
   "id": "50c02f57-2ff8-49cd-8133-7668359af8d9",
   "metadata": {},
   "outputs": [
    {
     "data": {
      "text/plain": [
       "0       False\n",
       "1       False\n",
       "2       False\n",
       "3       False\n",
       "4       False\n",
       "        ...  \n",
       "1027    False\n",
       "1028    False\n",
       "1029    False\n",
       "1030    False\n",
       "1031    False\n",
       "Name: home_key_bowler, Length: 1032, dtype: bool"
      ]
     },
     "execution_count": 12,
     "metadata": {},
     "output_type": "execute_result"
    }
   ],
   "source": [
    "(data['home_key_bowler'] == 'Rahul Tewatia')"
   ]
  },
  {
   "cell_type": "code",
   "execution_count": 13,
   "id": "e50b4474-aa4a-4bb0-aec5-b6f809fedcfe",
   "metadata": {},
   "outputs": [
    {
     "data": {
      "text/plain": [
       "0       False\n",
       "1       False\n",
       "2       False\n",
       "3       False\n",
       "4       False\n",
       "        ...  \n",
       "1027    False\n",
       "1028    False\n",
       "1029    False\n",
       "1030    False\n",
       "1031    False\n",
       "Name: home_playx1, Length: 1032, dtype: bool"
      ]
     },
     "execution_count": 13,
     "metadata": {},
     "output_type": "execute_result"
    }
   ],
   "source": [
    "(data['home_playx1'] == 'Rahul Tewatia')"
   ]
  },
  {
   "cell_type": "code",
   "execution_count": 14,
   "id": "4880c727-84b9-4000-8909-1e549c69b234",
   "metadata": {},
   "outputs": [
    {
     "data": {
      "text/plain": [
       "0       False\n",
       "1       False\n",
       "2       False\n",
       "3       False\n",
       "4       False\n",
       "        ...  \n",
       "1027    False\n",
       "1028    False\n",
       "1029    False\n",
       "1030    False\n",
       "1031    False\n",
       "Name: away_playx1, Length: 1032, dtype: bool"
      ]
     },
     "execution_count": 14,
     "metadata": {},
     "output_type": "execute_result"
    }
   ],
   "source": [
    "(data['away_playx1'] == 'Rahul Tewatia')"
   ]
  },
  {
   "cell_type": "code",
   "execution_count": 15,
   "id": "c412218b-6b10-44cf-bdf3-a893b45e5f2d",
   "metadata": {},
   "outputs": [
    {
     "data": {
      "text/plain": [
       "0       False\n",
       "1       False\n",
       "2       False\n",
       "3       False\n",
       "4       False\n",
       "        ...  \n",
       "1027    False\n",
       "1028    False\n",
       "1029    False\n",
       "1030    False\n",
       "1031    False\n",
       "Name: away_key_batsman, Length: 1032, dtype: bool"
      ]
     },
     "execution_count": 15,
     "metadata": {},
     "output_type": "execute_result"
    }
   ],
   "source": [
    "(data['away_key_batsman'] == 'Rahul Tewatia')"
   ]
  },
  {
   "cell_type": "code",
   "execution_count": 16,
   "id": "45d5c929-0c8a-4cf2-9cc7-f4d4c022b4d4",
   "metadata": {},
   "outputs": [
    {
     "data": {
      "text/plain": [
       "0       False\n",
       "1       False\n",
       "2       False\n",
       "3       False\n",
       "4       False\n",
       "        ...  \n",
       "1027    False\n",
       "1028    False\n",
       "1029    False\n",
       "1030    False\n",
       "1031    False\n",
       "Name: away_key_bowler, Length: 1032, dtype: bool"
      ]
     },
     "execution_count": 16,
     "metadata": {},
     "output_type": "execute_result"
    }
   ],
   "source": [
    " (data['away_key_bowler'] == 'Rahul Tewatia')"
   ]
  },
  {
   "cell_type": "code",
   "execution_count": 17,
   "id": "deddc934-3222-410e-9683-f529aaafb027",
   "metadata": {},
   "outputs": [
    {
     "name": "stdout",
     "output_type": "stream",
     "text": [
      "     season       id                                            name  \\\n",
      "4    2023.0  1359544    Royal Challengers Bangalore v Gujarat Titans   \n",
      "12   2023.0  1359536            Gujarat Titans v Sunrisers Hyderabad   \n",
      "17   2023.0  1359531                 Mumbai Indians v Gujarat Titans   \n",
      "23   2023.0  1359525           Gujarat Titans v Lucknow Super Giants   \n",
      "26   2023.0  1359522               Rajasthan Royals v Gujarat Titans   \n",
      "..      ...      ...                                             ...   \n",
      "525  2015.0   829741              Rajasthan Royals v Kings XI Punjab   \n",
      "532  2015.0   829755        Kolkata Knight Riders v Rajasthan Royals   \n",
      "592  2014.0   733979        Rajasthan Royals v Kolkata Knight Riders   \n",
      "602  2014.0   733999  Royal Challengers Bangalore v Rajasthan Royals   \n",
      "619  2014.0   734033              Kings XI Punjab v Rajasthan Royals   \n",
      "\n",
      "    short_name                                        description home_team  \\\n",
      "4     RCB v GT  70th Match (N), Indian Premier League at Benga...       RCB   \n",
      "12    GT v SRH  62nd Match (N), Indian Premier League at Ahmed...        GT   \n",
      "17     MI v GT  57th Match (N), Indian Premier League at Mumba...        MI   \n",
      "23    GT v LSG  51st Match (D/N), Indian Premier League at Ahm...        GT   \n",
      "26     RR v GT  48th Match (N), Indian Premier League at Jaipu...        RR   \n",
      "..         ...                                                ...       ...   \n",
      "525  RR v KXIP  18th match (N), Pepsi Indian Premier League at...        RR   \n",
      "532   KKR v RR  25th match (D/N), Pepsi Indian Premier League ...       KKR   \n",
      "592   RR v KKR  25th match (D/N), Pepsi Indian Premier League ...        RR   \n",
      "602   RCB v RR  35th match (N), Pepsi Indian Premier League at...       RCB   \n",
      "619  KXIP v RR  52nd match (N), Pepsi Indian Premier League at...      KXIP   \n",
      "\n",
      "    away_team toss_won    decision 1st_inning_score  ...  \\\n",
      "4          GT       GT  BOWL FIRST            197/5  ...   \n",
      "12        SRH      SRH  BOWL FIRST            188/9  ...   \n",
      "17         GT       GT  BOWL FIRST            218/5  ...   \n",
      "23        LSG      LSG  BOWL FIRST            227/2  ...   \n",
      "26         GT       RR   BAT FIRST              118  ...   \n",
      "..        ...      ...         ...              ...  ...   \n",
      "525      KXIP     KXIP  BOWL FIRST            191/6  ...   \n",
      "532        RR  no toss     no toss              NaN  ...   \n",
      "592       KKR      KKR  BOWL FIRST            170/6  ...   \n",
      "602        RR      RCB   BAT FIRST            190/5  ...   \n",
      "619        RR       RR  BOWL FIRST            179/4  ...   \n",
      "\n",
      "                                           home_playx1  \\\n",
      "4    Virat Kohli (UKN),Faf du Plessis (UKN),Glenn M...   \n",
      "12   Wriddhiman Saha (WK),Shubman Gill (UKN),Sai Su...   \n",
      "17   Ishan Kishan (WK),Rohit Sharma (UKN),Suryakuma...   \n",
      "23   Wriddhiman Saha (WK),Shubman Gill (UKN),Hardik...   \n",
      "26   Yashasvi Jaiswal (UKN),Jos Buttler (UKN),Sanju...   \n",
      "..                                                 ...   \n",
      "525  Ajinkya Rahane (BT),Shane Watson (AR),Deepak H...   \n",
      "532  Azhar Mahmood (UKN),Johan Botha (AR),KC Cariap...   \n",
      "592  Ajinkya Rahane (BT),Karun Nair (BT),Sanju Sams...   \n",
      "602  Virat Kohli (BT),Chris Gayle (AR),Vijay Zol (U...   \n",
      "619  Virender Sehwag (BT),Manan Vohra (BT),Shaun Ma...   \n",
      "\n",
      "                                           away_playx1  \\\n",
      "4    Wriddhiman Saha (WK),Shubman Gill (UKN),Vijay ...   \n",
      "12   Anmolpreet Singh (UKN),Abhishek Sharma (AR),Ai...   \n",
      "17   Wriddhiman Saha (WK),Shubman Gill (UKN),Hardik...   \n",
      "23   Kyle Mayers (AR),Quinton de Kock (WK),Deepak H...   \n",
      "26   Wriddhiman Saha (WK),Shubman Gill (UKN),Hardik...   \n",
      "..                                                 ...   \n",
      "525  Murali Vijay (BT),Virender Sehwag (BT),Shaun M...   \n",
      "532  Ankit Sharma (BL),Rajat Bhatia (AR),Stuart Bin...   \n",
      "592  Robin Uthappa (WK),Gautam Gambhir (BT),Andre R...   \n",
      "602  Ajinkya Rahane (BT),Karun Nair (BT),Shane Wats...   \n",
      "619  Ajinkya Rahane (BT),Karun Nair (BT),Sanju Sams...   \n",
      "\n",
      "                       away_key_batsman                     away_key_bowler  \\\n",
      "4            Shubman Gill,Vijay Shankar              Noor Ahmad,Rashid Khan   \n",
      "12   Heinrich Klaasen,Bhuvneshwar Kumar  Bhuvneshwar Kumar,Fazalhaq Farooqi   \n",
      "17             Rashid Khan,David Miller            Rashid Khan,Mohit Sharma   \n",
      "23          Quinton de Kock,Kyle Mayers              Avesh Khan,Mohsin Khan   \n",
      "26        Wriddhiman Saha,Hardik Pandya              Rashid Khan,Noor Ahmad   \n",
      "..                                  ...                                 ...   \n",
      "525            Shaun Marsh,David Miller           Axar Patel,Sandeep Sharma   \n",
      "532                                 NaN                                 NaN   \n",
      "592        Robin Uthappa,Gautam Gambhir            Sunil Narine,Vinay Kumar   \n",
      "602             Karun Nair,Steven Smith       Kane Richardson,Rahul Tewatia   \n",
      "619           James Faulkner,Brad Hodge      Rahul Tewatia,Vikramjeet Malik   \n",
      "\n",
      "                                          match_days           umpire1  \\\n",
      "4          21 May 2023 - night match (20-over match)       Nitin Menon   \n",
      "12         15 May 2023 - night match (20-over match)      Ulhas Gandhe   \n",
      "17         12 May 2023 - night match (20-over match)       Nitin Menon   \n",
      "23     07 May 2023 - day/night match (20-over match)    Anil Chaudhary   \n",
      "26         05 May 2023 - night match (20-over match)     Saiyed Khalid   \n",
      "..                                               ...               ...   \n",
      "525      21 April 2015 - night match (20-over match)    Marais Erasmus   \n",
      "532  26 April 2015 - day/night match (20-over match)  Rajesh Deshpande   \n",
      "592     5 May 2014 - day/night match (20-over match)       Nigel Llong   \n",
      "602        11 May 2014 - night match (20-over match)        Rod Tucker   \n",
      "619        23 May 2014 - night match (20-over match)  Kumar Dharmasena   \n",
      "\n",
      "                   umpire2           tv_umpire           referee  \\\n",
      "4          Virender Sharma        Tapan Sharma   Javagal Srinath   \n",
      "12   Jayaraman Madanagopal        Akshay Totre       Manu Nayyar   \n",
      "17            Tapan Sharma        Vinod Seshan   Reetinder Sodhi   \n",
      "23            Nand Kishore      Chris Gaffaney     Prakash Bhatt   \n",
      "26         Virender Sharma         Nitin Menon   Javagal Srinath   \n",
      "..                     ...                 ...               ...   \n",
      "525          Sundaram Ravi      Anil Chaudhary    Chinmay Sharma   \n",
      "532    Richard Illingworth     Vineet Kulkarni  Ranjan Madugalle   \n",
      "592                 Nandan      Anil Chaudhary  Ranjan Madugalle   \n",
      "602          Sundaram Ravi  Krishnaraj Srinath      Andy Pycroft   \n",
      "619        Pashchim Pathak     Vineet Kulkarni   Roshan Mahanama   \n",
      "\n",
      "            reserve_umpire  \n",
      "4               VM  Dhokre  \n",
      "12            Mohamed Rafi  \n",
      "17              VM  Dhokre  \n",
      "23        Mohit Krishnadas  \n",
      "26              VM  Dhokre  \n",
      "..                     ...  \n",
      "525     Krishnaraj Srinath  \n",
      "532          Anil Dandekar  \n",
      "592            Nitin Menon  \n",
      "602  KN Ananthapadmanabhan  \n",
      "619           Ulhas Gandhe  \n",
      "\n",
      "[79 rows x 43 columns]\n"
     ]
    }
   ],
   "source": [
    "columns_to_check = ['home_key_batsman', 'home_key_bowler', 'home_playx1', 'away_playx1', 'away_key_batsman', 'away_key_bowler']\n",
    "\n",
    "filter_mask = data[columns_to_check].apply(lambda x: x.str.contains('Rahul Tewatia')).any(axis=1)\n",
    "\n",
    "rahul_tewatia_data = data[filter_mask]\n",
    "\n",
    "print(rahul_tewatia_data)"
   ]
  },
  {
   "cell_type": "code",
   "execution_count": 35,
   "id": "efbdea8d-e5a9-4d90-87c6-4860d5f1e064",
   "metadata": {},
   "outputs": [
    {
     "name": "stdout",
     "output_type": "stream",
     "text": [
      "Number of rows where 'Rahul Tewatia' appears alone: 79\n"
     ]
    }
   ],
   "source": [
    "# Select only the rows that match the filter criteria\n",
    "rahul_tewatia_alone_data = data[filter_mask]\n",
    "\n",
    "# Count the number of rows where 'Rahul Tewatia' appears alone\n",
    "num_alone = rahul_tewatia_alone_data.shape[0]\n",
    "\n",
    "print(f\"Number of rows where 'Rahul Tewatia' appears alone: {num_alone}\")"
   ]
  },
  {
   "cell_type": "code",
   "execution_count": 18,
   "id": "193ade2a-190e-464d-999d-b8d596852af0",
   "metadata": {},
   "outputs": [],
   "source": [
    "columns_to_check = ['home_key_batsman', 'home_key_bowler', 'home_playx1', 'away_playx1', 'away_key_batsman', 'away_key_bowler']"
   ]
  },
  {
   "cell_type": "code",
   "execution_count": 19,
   "id": "c189ffb7-efa4-4469-821c-19d741e2ede0",
   "metadata": {},
   "outputs": [],
   "source": [
    "filter_mask = data[columns_to_check].apply(lambda x: x.str.count('Rahul Tewatia') == 1).any(axis=1)"
   ]
  },
  {
   "cell_type": "code",
   "execution_count": 20,
   "id": "92067543-f61b-4159-a5ac-05cbc977a474",
   "metadata": {},
   "outputs": [
    {
     "name": "stdout",
     "output_type": "stream",
     "text": [
      "Index(['season', 'id', 'name', 'short_name', 'description', 'home_team',\n",
      "       'away_team', 'toss_won', 'decision', '1st_inning_score',\n",
      "       '2nd_inning_score', 'winner', 'result', 'start_date', 'end_date',\n",
      "       'venue_id', 'venue_name', 'home_captain', 'away_captain', 'pom',\n",
      "       'points', 'super_over', 'home_overs', 'home_runs', 'home_wickets',\n",
      "       'home_boundaries', 'away_overs', 'away_runs', 'away_wickets',\n",
      "       'away_boundaries', 'highlights', 'home_key_batsman', 'home_key_bowler',\n",
      "       'home_playx1', 'away_playx1', 'away_key_batsman', 'away_key_bowler',\n",
      "       'match_days', 'umpire1', 'umpire2', 'tv_umpire', 'referee',\n",
      "       'reserve_umpire'],\n",
      "      dtype='object')\n"
     ]
    }
   ],
   "source": [
    "print(data.columns)"
   ]
  },
  {
   "cell_type": "code",
   "execution_count": 21,
   "id": "7e46bfc2-1fd9-4a28-8013-d435dac1f776",
   "metadata": {},
   "outputs": [],
   "source": [
    "data.columns = data.columns.str.strip()"
   ]
  },
  {
   "cell_type": "code",
   "execution_count": 22,
   "id": "5d8a35b0-bbb1-4fbe-9647-5c7930369084",
   "metadata": {},
   "outputs": [
    {
     "name": "stdout",
     "output_type": "stream",
     "text": [
      "Index(['season', 'id', 'name', 'short_name', 'description', 'home_team',\n",
      "       'away_team', 'toss_won', 'decision', '1st_inning_score',\n",
      "       '2nd_inning_score', 'winner', 'result', 'start_date', 'end_date',\n",
      "       'venue_id', 'venue_name', 'home_captain', 'away_captain', 'pom',\n",
      "       'points', 'super_over', 'home_overs', 'home_runs', 'home_wickets',\n",
      "       'home_boundaries', 'away_overs', 'away_runs', 'away_wickets',\n",
      "       'away_boundaries', 'highlights', 'home_key_batsman', 'home_key_bowler',\n",
      "       'home_playx1', 'away_playx1', 'away_key_batsman', 'away_key_bowler',\n",
      "       'match_days', 'umpire1', 'umpire2', 'tv_umpire', 'referee',\n",
      "       'reserve_umpire'],\n",
      "      dtype='object')\n"
     ]
    }
   ],
   "source": [
    "print(data.columns)"
   ]
  },
  {
   "cell_type": "markdown",
   "id": "c209c353-2997-48b0-b634-408a607991d3",
   "metadata": {},
   "source": [
    "# Assuming 'data' is the DataFrame containing the IPL data"
   ]
  },
  {
   "cell_type": "markdown",
   "id": "9d2fd1ce-8051-4751-9894-d8ed02dde9b1",
   "metadata": {},
   "source": [
    "### Create a new DataFrame with the required columns"
   ]
  },
  {
   "cell_type": "code",
   "execution_count": 23,
   "id": "0b6f8255-73f5-4c6f-83a2-c638288660f0",
   "metadata": {},
   "outputs": [],
   "source": [
    "ipl_data = data[['season', 'id', 'name', 'short_name', 'description', 'home_team', 'away_team', 'toss_won', 'decision', '1st_inning_score', '2nd_inning_score', 'winner', 'result', 'start_date', 'end_date', 'venue_id', 'venue_name', 'home_captain', 'away_captain', 'pom', 'points', 'super_over', 'home_overs', 'home_runs', 'home_wickets', 'home_boundaries', 'away_overs', 'away_runs', 'away_wickets', 'away_boundaries', 'highlights', 'home_key_batsman', 'home_key_bowler', 'home_playx1', 'away_playx1', 'away_key_batsman', 'away_key_bowler', 'match_days', 'umpire1', 'umpire2', 'tv_umpire', 'referee', 'reserve_umpire']]\n"
   ]
  },
  {
   "cell_type": "code",
   "execution_count": 51,
   "id": "46e98a8d-3c05-46be-8123-0f6641a49241",
   "metadata": {},
   "outputs": [
    {
     "name": "stdout",
     "output_type": "stream",
     "text": [
      "      season       id                                          name  \\\n",
      "0        NaN  1370350          Chennai Super Kings v Gujarat Titans   \n",
      "1        NaN  1370351         Lucknow Super Giants v Mumbai Indians   \n",
      "2        NaN  1370352                                     TBC v TBC   \n",
      "3        NaN  1370353                                     TBC v TBC   \n",
      "4     2023.0  1359544  Royal Challengers Bangalore v Gujarat Titans   \n",
      "...      ...      ...                                           ...   \n",
      "1027  2008.0   336012  Royal Challengers Bangalore v Mumbai Indians   \n",
      "1028  2008.0   336019            Kings XI Punjab v Rajasthan Royals   \n",
      "1029  2008.0   336038           Delhi Daredevils v Rajasthan Royals   \n",
      "1030  2008.0   336039         Chennai Super Kings v Kings XI Punjab   \n",
      "1031  2008.0   336040        Chennai Super Kings v Rajasthan Royals   \n",
      "\n",
      "      short_name                                        description home_team  \\\n",
      "0       CSK v GT  Qualifier 1 (N), Indian Premier League at Chen...       CSK   \n",
      "1       LSG v MI  Eliminator (N), Indian Premier League at Chenn...       LSG   \n",
      "2      TBC v TBC  Qualifier 2 (N), Indian Premier League at Ahme...       TBA   \n",
      "3      TBC v TBC  Final (N), Indian Premier League at Ahmedabad,...       TBA   \n",
      "4       RCB v GT  70th Match (N), Indian Premier League at Benga...       RCB   \n",
      "...          ...                                                ...       ...   \n",
      "1027    RCB v MI  55th match (D/N), Indian Premier League at Ben...       RCB   \n",
      "1028   KXIP v RR  56th match (N), Indian Premier League at Mohal...      KXIP   \n",
      "1029     DC v RR  1st Semi-Final (N), Indian Premier League at M...        DC   \n",
      "1030  CSK v KXIP  2nd Semi-Final (N), Indian Premier League at M...       CSK   \n",
      "1031    CSK v RR  Final (N), Indian Premier League at Mumbai, Ju...       CSK   \n",
      "\n",
      "     away_team toss_won    decision 1st_inning_score  ...  \\\n",
      "0           GT      NaN         NaN              NaN  ...   \n",
      "1           MI      NaN         NaN              NaN  ...   \n",
      "2          TBA      NaN         NaN              NaN  ...   \n",
      "3          TBA      NaN         NaN              NaN  ...   \n",
      "4           GT       GT  BOWL FIRST            197/5  ...   \n",
      "...        ...      ...         ...              ...  ...   \n",
      "1027        MI       MI  BOWL FIRST            122/9  ...   \n",
      "1028        RR       RR  BOWL FIRST            221/3  ...   \n",
      "1029        RR       DC  BOWL FIRST            192/9  ...   \n",
      "1030      KXIP     KXIP   BAT FIRST            112/8  ...   \n",
      "1031        RR       RR  BOWL FIRST            163/5  ...   \n",
      "\n",
      "                                            home_playx1  \\\n",
      "0                                                   NaN   \n",
      "1                                                   NaN   \n",
      "2                                                   NaN   \n",
      "3                                                   NaN   \n",
      "4     Virat Kohli (UKN),Faf du Plessis (UKN),Glenn M...   \n",
      "...                                                 ...   \n",
      "1027  Mark Boucher (BT),Shreevats Goswami (WK),Misba...   \n",
      "1028  Shaun Marsh (BT),James Hopes (AR),Yuvraj Singh...   \n",
      "1029  Gautam Gambhir (BT),Virender Sehwag (BT),Shikh...   \n",
      "1030  Parthiv Patel (WK),Vidyut Sivaramakrishnan (UK...   \n",
      "1031  Parthiv Patel (WK),Vidyut Sivaramakrishnan (UK...   \n",
      "\n",
      "                                            away_playx1  \\\n",
      "0                                                   NaN   \n",
      "1                                                   NaN   \n",
      "2                                                   NaN   \n",
      "3                                                   NaN   \n",
      "4     Wriddhiman Saha (WK),Shubman Gill (UKN),Vijay ...   \n",
      "...                                                 ...   \n",
      "1027  Sanath Jayasuriya (AR),Sachin Tendulkar (BT),R...   \n",
      "1028  Mohammad Kaif (BT),Niraj Patel (UKN),Younis Kh...   \n",
      "1029  Graeme Smith (BT),Swapnil Asnodkar (BT),Sohail...   \n",
      "1030  Shaun Marsh (BT),James Hopes (AR),Kumar Sangak...   \n",
      "1031  Niraj Patel (UKN),Swapnil Asnodkar (BT),Kamran...   \n",
      "\n",
      "                        away_key_batsman                away_key_bowler  \\\n",
      "0                                    NaN                            NaN   \n",
      "1                                    NaN                            NaN   \n",
      "2                                    NaN                            NaN   \n",
      "3                                    NaN                            NaN   \n",
      "4             Shubman Gill,Vijay Shankar         Noor Ahmad,Rashid Khan   \n",
      "...                                  ...                            ...   \n",
      "1027  Sanath Jayasuriya,Sachin Tendulkar  Dilhara Fernando,Dwayne Smith   \n",
      "1028            Niraj Patel,Yusuf Pathan      Shane Watson,Yusuf Pathan   \n",
      "1029           Shane Watson,Yusuf Pathan       Shane Watson,Munaf Patel   \n",
      "1030            Ramesh Powar,Wilkin Mota      Irfan Pathan,Vikram Singh   \n",
      "1031       Yusuf Pathan,Swapnil Asnodkar      Yusuf Pathan,Shane Watson   \n",
      "\n",
      "                                         match_days            umpire1  \\\n",
      "0                                               NaN                NaN   \n",
      "1                                               NaN                NaN   \n",
      "2                                               NaN                NaN   \n",
      "3                                               NaN                NaN   \n",
      "4         21 May 2023 - night match (20-over match)        Nitin Menon   \n",
      "...                                             ...                ...   \n",
      "1027  28 May 2008 - day/night match (20-over match)       Billy Bowden   \n",
      "1028      28 May 2008 - night match (20-over match)  Krishna Hariharan   \n",
      "1029      30 May 2008 - night match (20-over match)       Billy Bowden   \n",
      "1030      31 May 2008 - night match (20-over match)          Asad Rauf   \n",
      "1031      1 June 2008 - night match (20-over match)       Billy Bowden   \n",
      "\n",
      "                umpire2          tv_umpire                   referee  \\\n",
      "0                   NaN                NaN                       NaN   \n",
      "1                   NaN                NaN                       NaN   \n",
      "2                   NaN                NaN                       NaN   \n",
      "3                   NaN                NaN                       NaN   \n",
      "4       Virender Sharma       Tapan Sharma           Javagal Srinath   \n",
      "...                 ...                ...                       ...   \n",
      "1027  Arani Jayaprakash     Billy Doctrove           Sir Clive Lloyd   \n",
      "1028        Steve Davis       Daryl Harper  Srinivas Venkataraghavan   \n",
      "1029      Rudi Koertzen     Billy Doctrove           Javagal Srinath   \n",
      "1030       Daryl Harper  Krishna Hariharan  Srinivas Venkataraghavan   \n",
      "1031      Rudi Koertzen       Daryl Harper           Javagal Srinath   \n",
      "\n",
      "     reserve_umpire  \n",
      "0               NaN  \n",
      "1               NaN  \n",
      "2               NaN  \n",
      "3               NaN  \n",
      "4        VM  Dhokre  \n",
      "...             ...  \n",
      "1027            NaN  \n",
      "1028       MS Mahal  \n",
      "1029            NaN  \n",
      "1030            NaN  \n",
      "1031       MR Singh  \n",
      "\n",
      "[1032 rows x 43 columns]\n"
     ]
    }
   ],
   "source": [
    "print(ipl_data)"
   ]
  },
  {
   "cell_type": "markdown",
   "id": "3f9ce5b6-b356-4dbc-98e8-8d4bba563d52",
   "metadata": {},
   "source": [
    "# Extract the batsman, ball, runs, and wickets per player per match"
   ]
  },
  {
   "cell_type": "code",
   "execution_count": 24,
   "id": "c55cb1af-7e71-4451-8716-31f153b12bfa",
   "metadata": {},
   "outputs": [],
   "source": [
    "ipl_data_batting = ipl_data[['season', 'id', 'name', 'short_name', 'description', 'home_team', 'away_team', 'toss_won', 'decision', '1st_inning_score', '2nd_inning_score', 'winner', 'result', 'start_date', 'end_date', 'venue_id', 'venue_name', 'home_captain', 'away_captain', 'pom', 'points', 'super_over', 'home_overs', 'home_runs', 'home_wickets', 'home_boundaries', 'home_key_batsman', 'match_days', 'umpire1', 'umpire2', 'tv_umpire', 'referee', 'reserve_umpire']].rename(columns={'home_key_batsman': 'Player'})\n",
    "ipl_data_bowling = ipl_data[['season', 'id', 'name', 'short_name', 'description', 'home_team', 'away_team', 'toss_won', 'decision', '1st_inning_score', '2nd_inning_score', 'winner', 'result', 'start_date', 'end_date', 'venue_id', 'venue_name', 'home_captain', 'away_captain', 'pom', 'points', 'super_over', 'home_overs', 'home_runs', 'home_wickets', 'home_boundaries', 'home_key_bowler', 'match_days', 'umpire1', 'umpire2', 'tv_umpire', 'referee', 'reserve_umpire']].rename(columns={'home_key_bowler': 'Player'})\n",
    "ipl_data_batting['Runs'] = ipl_data_batting['home_runs']\n",
    "ipl_data_bowling['Wickets'] = ipl_data_bowling['home_wickets']\n",
    "ipl_data_batting['Balls'] = ipl_data_batting['home_overs'] * 6\n",
    "ipl_data_bowling['Balls'] = ipl_data_bowling['home_overs'] * 6"
   ]
  },
  {
   "cell_type": "markdown",
   "id": "e35a25ce-10eb-4780-b954-0b95fbb9f718",
   "metadata": {},
   "source": [
    "# Combine the batting and bowling data"
   ]
  },
  {
   "cell_type": "code",
   "execution_count": 26,
   "id": "10e8cd1f-b92a-4aa1-b5c3-b7bfb45f60e8",
   "metadata": {},
   "outputs": [],
   "source": [
    "ipl_data_player = pd.concat([ipl_data_batting, ipl_data_bowling], axis=0)\n"
   ]
  },
  {
   "cell_type": "markdown",
   "id": "528fe508-8653-43e7-9fb8-c9bf3724827d",
   "metadata": {},
   "source": [
    "# Group by IPL round, player, and player type, and calculate total runs and wickets"
   ]
  },
  {
   "cell_type": "code",
   "execution_count": 27,
   "id": "a3941b31-2eda-491d-8c99-5367bc7feefa",
   "metadata": {},
   "outputs": [],
   "source": [
    "ipl_data_grouped = ipl_data_player.groupby(['season', 'Player']).agg({'Runs': 'sum', 'Wickets': 'sum', 'Balls': 'sum'}).reset_index()"
   ]
  },
  {
   "cell_type": "markdown",
   "id": "3e6525ef-9f25-4a56-8256-9915ffa20d03",
   "metadata": {},
   "source": [
    "# Find the top three run-getters and top three wicket-takers in each IPL round"
   ]
  },
  {
   "cell_type": "code",
   "execution_count": 29,
   "id": "591d02ed-7743-4f14-88f1-7b65911e29b9",
   "metadata": {},
   "outputs": [],
   "source": [
    "top_run_getters = ipl_data_grouped.groupby('season').apply(lambda x: x.nlargest(3, 'Runs')).reset_index(drop=True)\n",
    "top_wicket_takers = ipl_data_grouped.groupby('season').apply(lambda x: x.nlargest(3, 'Wickets')).reset_index(drop=True)"
   ]
  },
  {
   "cell_type": "markdown",
   "id": "4530f71c-f878-4cd9-a82a-2bc84d9f4020",
   "metadata": {},
   "source": [
    "# Print the results"
   ]
  },
  {
   "cell_type": "code",
   "execution_count": 30,
   "id": "997c0ef2-2243-4e82-8ac4-3b1a468610aa",
   "metadata": {},
   "outputs": [
    {
     "name": "stdout",
     "output_type": "stream",
     "text": [
      "Top Run-Getters in Each IPL Round:\n",
      "    season                           Player   Runs  Wickets  Balls\n",
      "0   2008.0    Gautam Gambhir,Shikhar Dhawan  692.0      0.0  450.6\n",
      "1   2008.0     Shaun Marsh,Kumar Sangakkara  356.0      0.0  235.8\n",
      "2   2008.0    Graeme Smith,Swapnil Asnodkar  307.0      0.0  205.2\n",
      "3   2009.0          Matthew Hayden,MS Dhoni  482.0      0.0  342.6\n",
      "4   2009.0        Yuvraj Singh,Irfan Pathan  291.0      0.0  240.0\n",
      "5   2009.0      AB de Villiers,David Warner  243.0      0.0  213.6\n",
      "6   2010.0     Ambati Rayudu,Saurabh Tiwary  390.0      0.0  240.0\n",
      "7   2010.0        Murali Vijay,Albie Morkel  246.0      0.0  120.0\n",
      "8   2010.0     Jacques Kallis,Robin Uthappa  204.0      0.0  111.0\n",
      "9   2011.0      Michael Hussey,Murali Vijay  325.0      0.0  240.0\n",
      "10  2011.0   Ambati Rayudu,Sachin Tendulkar  283.0      0.0  240.0\n",
      "11  2011.0       Shaun Marsh,Dinesh Karthik  282.0      0.0  240.0\n",
      "12  2012.0  Gautam Gambhir,Brendon McCullum  498.0      0.0  360.0\n",
      "13  2012.0          Faf du Plessis,MS Dhoni  368.0      0.0  240.0\n",
      "14  2012.0       David Hussey,Azhar Mahmood  357.0      0.0  240.0\n",
      "15  2013.0      Michael Hussey,Suresh Raina  578.0      0.0  357.0\n",
      "16  2013.0          Chris Gayle,Virat Kohli  488.0      0.0  343.8\n",
      "17  2013.0      Ajinkya Rahane,Rahul Dravid  337.0      0.0  222.0\n",
      "18  2014.0            Suresh Raina,MS Dhoni  379.0      0.0  240.0\n",
      "19  2014.0      Yuvraj Singh,AB de Villiers  376.0      0.0  240.0\n",
      "20  2014.0    Robin Uthappa,Shakib Al Hasan  351.0      0.0  228.0\n",
      "21  2015.0        Brendon McCullum,MS Dhoni  401.0      0.0  240.0\n",
      "22  2015.0      David Warner,Shikhar Dhawan  368.0      0.0  240.0\n",
      "23  2015.0     Lendl Simmons,Kieron Pollard  353.0      0.0  240.0\n",
      "24  2016.0       AB de Villiers,Virat Kohli  475.0      0.0  240.0\n",
      "25  2016.0     Gautam Gambhir,Manish Pandey  370.0      0.0  240.0\n",
      "26  2016.0      Rohit Sharma,Kieron Pollard  349.0      0.0  216.0\n",
      "27  2017.0      Steven Smith,Ajinkya Rahane  369.0      0.0  237.0\n",
      "28  2017.0        Hashim Amla,Glenn Maxwell  348.0      0.0  205.8\n",
      "29  2017.0        Nitish Rana,Parthiv Patel  339.0      0.0  227.4\n",
      "30  2018.0        Chris Lynn,Dinesh Karthik  474.0      0.0  348.0\n",
      "31  2018.0        Shane Watson,Suresh Raina  385.0      0.0  229.8\n",
      "32  2018.0      Suryakumar Yadav,Evin Lewis  375.0      0.0  240.0\n",
      "33  2019.0      Jonny Bairstow,David Warner  529.0      0.0  309.0\n",
      "34  2019.0        Nitish Rana,Andre Russell  386.0      0.0  236.4\n",
      "35  2019.0      Shreyas Iyer,Shikhar Dhawan  353.0      0.0  236.4\n",
      "36  2020.0          KL Rahul,Mayank Agarwal  368.0      0.0  240.0\n",
      "37  2020.0       AB de Villiers,Aaron Finch  325.0      0.0  240.0\n",
      "38  2020.0         Shubman Gill,Eoin Morgan  294.0      0.0  228.0\n",
      "39  2021.0     Devdutt Padikkal,Virat Kohli  337.0      0.0  217.8\n",
      "40  2021.0             KL Rahul,Chris Gayle  311.0      0.0  224.4\n",
      "41  2021.0         Nitish Rana,Shubman Gill  272.0      0.0  229.2\n",
      "42  2022.0         Shreyas Iyer,Nitish Rana  379.0      0.0  236.4\n",
      "43  2022.0         Jos Buttler,Sanju Samson  378.0      0.0  228.6\n",
      "44  2022.0       David Warner,Rovman Powell  357.0      0.0  234.0\n",
      "45  2023.0     Devon Conway,Ruturaj Gaikwad  478.0      0.0  334.8\n",
      "46  2023.0     Glenn Maxwell,Faf du Plessis  407.0      0.0  240.0\n",
      "47  2023.0       Virat Kohli,Faf du Plessis  369.0      0.0  217.2\n",
      "\n",
      "Top Wicket-Takers in Each IPL Round:\n",
      "    season                                Player  Runs  Wickets  Balls\n",
      "0   2008.0             Praveen Kumar,Zaheer Khan   0.0     18.0  235.2\n",
      "1   2008.0          Farveez Maharoof,Amit Mishra   0.0     10.0   96.6\n",
      "2   2008.0            Piyush Chawla,Irfan Pathan   0.0     10.0  120.0\n",
      "3   2009.0            Anil Kumble,Jacques Kallis   0.0     17.0  236.4\n",
      "4   2009.0      Lakshmipathy Balaji,Albie Morkel   0.0     14.0  240.0\n",
      "5   2009.0                RP Singh,Venugopal Rao   0.0     13.0  240.0\n",
      "6   2010.0           Zaheer Khan,Harbhajan Singh   0.0     17.0  349.8\n",
      "7   2010.0          Doug Bollinger,Shadab Jakati   0.0     16.0  240.0\n",
      "8   2010.0                 RP Singh,Pragyan Ojha   0.0     16.0  224.4\n",
      "9   2011.0             Rahul Sharma,Yuvraj Singh   0.0     16.0  240.0\n",
      "10  2011.0                Johan Botha,Amit Singh   0.0     13.0  224.4\n",
      "11  2011.0            Munaf Patel,Lasith Malinga   0.0     11.0  235.2\n",
      "12  2012.0                Dale Steyn,Amit Mishra   0.0     14.0  230.4\n",
      "13  2012.0               Umesh Yadav,Varun Aaron   0.0     14.0  234.0\n",
      "14  2012.0             Morne Morkel,Irfan Pathan   0.0     13.0  240.0\n",
      "15  2013.0          Sandeep Sharma,Piyush Chawla   0.0     13.0  240.0\n",
      "16  2013.0      Bhuvneshwar Kumar,Mitchell Marsh   0.0     10.0  115.8\n",
      "17  2013.0        Bhuvneshwar Kumar,Rahul Sharma   0.0     10.0  114.0\n",
      "18  2014.0       Yuzvendra Chahal,Mitchell Starc   0.0     12.0  223.8\n",
      "19  2014.0       Marchant de Lange,Shreyas Gopal   0.0     10.0  115.8\n",
      "20  2014.0            Piyush Chawla,Sunil Narine   0.0     10.0  109.2\n",
      "21  2015.0             Ashish Nehra,Dwayne Bravo   0.0     16.0  240.0\n",
      "22  2015.0   Lasith Malinga,Mitchell McClenaghan   0.0     15.0  240.0\n",
      "23  2015.0        Harbhajan Singh,Lasith Malinga   0.0     12.0  235.8\n",
      "24  2016.0           Mohit Sharma,Sandeep Sharma   0.0     11.0  230.4\n",
      "25  2016.0       Ravichandran Ashwin,Ashok Dinda   0.0     11.0  240.0\n",
      "26  2016.0  Harbhajan Singh,Mitchell McClenaghan   0.0     10.0   97.8\n",
      "27  2017.0            Jasprit Bumrah,Karn Sharma   0.0     14.0  240.0\n",
      "28  2017.0     Aniket Choudhary,Yuzvendra Chahal   0.0     10.0  114.0\n",
      "29  2017.0         Bhuvneshwar Kumar,Rashid Khan   0.0     10.0  240.0\n",
      "30  2018.0        Andrew Tye,Ravichandran Ashwin   0.0     17.0  210.6\n",
      "31  2018.0         Mayank Markande,Hardik Pandya   0.0     14.0  231.0\n",
      "32  2018.0            Sunil Narine,Piyush Chawla   0.0     12.0  224.4\n",
      "33  2019.0            Ben Stokes,Dhawal Kulkarni   0.0     16.0  240.0\n",
      "34  2019.0             Sam Curran,Mohammed Shami   0.0     13.0  228.0\n",
      "35  2019.0          Yuzvendra Chahal,Umesh Yadav   0.0     12.0  150.0\n",
      "36  2020.0            Jofra Archer,Rahul Tewatia   0.0     25.0  356.4\n",
      "37  2020.0          Anrich Nortje,Marcus Stoinis   0.0     16.0  240.0\n",
      "38  2020.0         Abhishek Sharma,Vijay Shankar   0.0     10.0  116.4\n",
      "39  2021.0              Jason Holder,Rashid Khan   0.0     16.0  240.0\n",
      "40  2021.0         Shardul Thakur,Josh Hazlewood   0.0     11.0  240.0\n",
      "41  2021.0           Fabian Allen,Murugan Ashwin   0.0     10.0  116.4\n",
      "42  2022.0            Kagiso Rabada,Rahul Chahar   0.0     17.0  240.0\n",
      "43  2022.0             Andre Russell,Tim Southee   0.0     14.0  240.0\n",
      "44  2022.0        Lockie Ferguson,Mohammed Shami   0.0     14.0  240.0\n",
      "45  2023.0           Mohammed Shami,Mohit Sharma   0.0     15.0  240.0\n",
      "46  2023.0     Matheesha Pathirana,Deepak Chahar   0.0     12.0  224.4\n",
      "47  2023.0                    Adam Zampa,KM Asif   0.0     10.0   61.8\n"
     ]
    }
   ],
   "source": [
    "print(\"Top Run-Getters in Each IPL Round:\")\n",
    "print(top_run_getters)\n",
    "print(\"\\nTop Wicket-Takers in Each IPL Round:\")\n",
    "print(top_wicket_takers)"
   ]
  },
  {
   "cell_type": "code",
   "execution_count": 32,
   "id": "be3e14ef-c829-4d2d-bf0f-cc4b7b5da750",
   "metadata": {},
   "outputs": [],
   "source": [
    "import scipy.stats as stats\n",
    "import matplotlib.pyplot as plt"
   ]
  },
  {
   "cell_type": "markdown",
   "id": "e1787c37-70d3-4b46-8471-0f15ecece379",
   "metadata": {},
   "source": [
    "# Extract the top three batsmen and bowlers in the last three IPL tournaments"
   ]
  },
  {
   "cell_type": "code",
   "execution_count": 33,
   "id": "0db7e96b-df32-45fc-a82b-92967889bb7d",
   "metadata": {},
   "outputs": [
    {
     "name": "stdout",
     "output_type": "stream",
     "text": [
      "Top Run-Getters in Each IPL Round:\n"
     ]
    }
   ],
   "source": [
    "print(\"Top Run-Getters in Each IPL Round:\")\n"
   ]
  },
  {
   "cell_type": "code",
   "execution_count": 67,
   "id": "f33828af-76eb-4d90-93b6-37d5b9571937",
   "metadata": {},
   "outputs": [
    {
     "name": "stdout",
     "output_type": "stream",
     "text": [
      "    season                           Player   Runs  Wickets  Balls\n",
      "0   2008.0    Gautam Gambhir,Shikhar Dhawan  692.0      0.0  450.6\n",
      "1   2008.0     Shaun Marsh,Kumar Sangakkara  356.0      0.0  235.8\n",
      "2   2008.0    Graeme Smith,Swapnil Asnodkar  307.0      0.0  205.2\n",
      "3   2009.0          Matthew Hayden,MS Dhoni  482.0      0.0  342.6\n",
      "4   2009.0        Yuvraj Singh,Irfan Pathan  291.0      0.0  240.0\n",
      "5   2009.0      AB de Villiers,David Warner  243.0      0.0  213.6\n",
      "6   2010.0     Ambati Rayudu,Saurabh Tiwary  390.0      0.0  240.0\n",
      "7   2010.0        Murali Vijay,Albie Morkel  246.0      0.0  120.0\n",
      "8   2010.0     Jacques Kallis,Robin Uthappa  204.0      0.0  111.0\n",
      "9   2011.0      Michael Hussey,Murali Vijay  325.0      0.0  240.0\n",
      "10  2011.0   Ambati Rayudu,Sachin Tendulkar  283.0      0.0  240.0\n",
      "11  2011.0       Shaun Marsh,Dinesh Karthik  282.0      0.0  240.0\n",
      "12  2012.0  Gautam Gambhir,Brendon McCullum  498.0      0.0  360.0\n",
      "13  2012.0          Faf du Plessis,MS Dhoni  368.0      0.0  240.0\n",
      "14  2012.0       David Hussey,Azhar Mahmood  357.0      0.0  240.0\n",
      "15  2013.0      Michael Hussey,Suresh Raina  578.0      0.0  357.0\n",
      "16  2013.0          Chris Gayle,Virat Kohli  488.0      0.0  343.8\n",
      "17  2013.0      Ajinkya Rahane,Rahul Dravid  337.0      0.0  222.0\n",
      "18  2014.0            Suresh Raina,MS Dhoni  379.0      0.0  240.0\n",
      "19  2014.0      Yuvraj Singh,AB de Villiers  376.0      0.0  240.0\n",
      "20  2014.0    Robin Uthappa,Shakib Al Hasan  351.0      0.0  228.0\n",
      "21  2015.0        Brendon McCullum,MS Dhoni  401.0      0.0  240.0\n",
      "22  2015.0      David Warner,Shikhar Dhawan  368.0      0.0  240.0\n",
      "23  2015.0     Lendl Simmons,Kieron Pollard  353.0      0.0  240.0\n",
      "24  2016.0       AB de Villiers,Virat Kohli  475.0      0.0  240.0\n",
      "25  2016.0     Gautam Gambhir,Manish Pandey  370.0      0.0  240.0\n",
      "26  2016.0      Rohit Sharma,Kieron Pollard  349.0      0.0  216.0\n",
      "27  2017.0      Steven Smith,Ajinkya Rahane  369.0      0.0  237.0\n",
      "28  2017.0        Hashim Amla,Glenn Maxwell  348.0      0.0  205.8\n",
      "29  2017.0        Nitish Rana,Parthiv Patel  339.0      0.0  227.4\n",
      "30  2018.0        Chris Lynn,Dinesh Karthik  474.0      0.0  348.0\n",
      "31  2018.0        Shane Watson,Suresh Raina  385.0      0.0  229.8\n",
      "32  2018.0      Suryakumar Yadav,Evin Lewis  375.0      0.0  240.0\n",
      "33  2019.0      Jonny Bairstow,David Warner  529.0      0.0  309.0\n",
      "34  2019.0        Nitish Rana,Andre Russell  386.0      0.0  236.4\n",
      "35  2019.0      Shreyas Iyer,Shikhar Dhawan  353.0      0.0  236.4\n",
      "36  2020.0          KL Rahul,Mayank Agarwal  368.0      0.0  240.0\n",
      "37  2020.0       AB de Villiers,Aaron Finch  325.0      0.0  240.0\n",
      "38  2020.0         Shubman Gill,Eoin Morgan  294.0      0.0  228.0\n",
      "39  2021.0     Devdutt Padikkal,Virat Kohli  337.0      0.0  217.8\n",
      "40  2021.0             KL Rahul,Chris Gayle  311.0      0.0  224.4\n",
      "41  2021.0         Nitish Rana,Shubman Gill  272.0      0.0  229.2\n",
      "42  2022.0         Shreyas Iyer,Nitish Rana  379.0      0.0  236.4\n",
      "43  2022.0         Jos Buttler,Sanju Samson  378.0      0.0  228.6\n",
      "44  2022.0       David Warner,Rovman Powell  357.0      0.0  234.0\n",
      "45  2023.0     Devon Conway,Ruturaj Gaikwad  478.0      0.0  334.8\n",
      "46  2023.0     Glenn Maxwell,Faf du Plessis  407.0      0.0  240.0\n",
      "47  2023.0       Virat Kohli,Faf du Plessis  369.0      0.0  217.2\n"
     ]
    }
   ],
   "source": [
    "print(top_run_getters)"
   ]
  },
  {
   "cell_type": "code",
   "execution_count": 34,
   "id": "e6f16776-4536-4f72-8507-0f90291b59e7",
   "metadata": {},
   "outputs": [
    {
     "name": "stdout",
     "output_type": "stream",
     "text": [
      "   season                         Player   Runs  Wickets  Balls\n",
      "0  2008.0  Gautam Gambhir,Shikhar Dhawan  692.0      0.0  450.6\n",
      "1  2008.0   Shaun Marsh,Kumar Sangakkara  356.0      0.0  235.8\n",
      "2  2008.0  Graeme Smith,Swapnil Asnodkar  307.0      0.0  205.2\n"
     ]
    }
   ],
   "source": [
    "print(top_run_getters.head(3))"
   ]
  },
  {
   "cell_type": "code",
   "execution_count": 35,
   "id": "dd866e96-2885-4924-a890-7e1d55150989",
   "metadata": {},
   "outputs": [
    {
     "name": "stdout",
     "output_type": "stream",
     "text": [
      "\n",
      "Top Wicket-Takers in Each IPL Round:\n"
     ]
    }
   ],
   "source": [
    "print(\"\\nTop Wicket-Takers in Each IPL Round:\")"
   ]
  },
  {
   "cell_type": "code",
   "execution_count": 36,
   "id": "3bcd4b37-c4af-4717-91ea-6fee02ebe111",
   "metadata": {},
   "outputs": [
    {
     "name": "stdout",
     "output_type": "stream",
     "text": [
      "    season                                Player  Runs  Wickets  Balls\n",
      "0   2008.0             Praveen Kumar,Zaheer Khan   0.0     18.0  235.2\n",
      "1   2008.0          Farveez Maharoof,Amit Mishra   0.0     10.0   96.6\n",
      "2   2008.0            Piyush Chawla,Irfan Pathan   0.0     10.0  120.0\n",
      "3   2009.0            Anil Kumble,Jacques Kallis   0.0     17.0  236.4\n",
      "4   2009.0      Lakshmipathy Balaji,Albie Morkel   0.0     14.0  240.0\n",
      "5   2009.0                RP Singh,Venugopal Rao   0.0     13.0  240.0\n",
      "6   2010.0           Zaheer Khan,Harbhajan Singh   0.0     17.0  349.8\n",
      "7   2010.0          Doug Bollinger,Shadab Jakati   0.0     16.0  240.0\n",
      "8   2010.0                 RP Singh,Pragyan Ojha   0.0     16.0  224.4\n",
      "9   2011.0             Rahul Sharma,Yuvraj Singh   0.0     16.0  240.0\n",
      "10  2011.0                Johan Botha,Amit Singh   0.0     13.0  224.4\n",
      "11  2011.0            Munaf Patel,Lasith Malinga   0.0     11.0  235.2\n",
      "12  2012.0                Dale Steyn,Amit Mishra   0.0     14.0  230.4\n",
      "13  2012.0               Umesh Yadav,Varun Aaron   0.0     14.0  234.0\n",
      "14  2012.0             Morne Morkel,Irfan Pathan   0.0     13.0  240.0\n",
      "15  2013.0          Sandeep Sharma,Piyush Chawla   0.0     13.0  240.0\n",
      "16  2013.0      Bhuvneshwar Kumar,Mitchell Marsh   0.0     10.0  115.8\n",
      "17  2013.0        Bhuvneshwar Kumar,Rahul Sharma   0.0     10.0  114.0\n",
      "18  2014.0       Yuzvendra Chahal,Mitchell Starc   0.0     12.0  223.8\n",
      "19  2014.0       Marchant de Lange,Shreyas Gopal   0.0     10.0  115.8\n",
      "20  2014.0            Piyush Chawla,Sunil Narine   0.0     10.0  109.2\n",
      "21  2015.0             Ashish Nehra,Dwayne Bravo   0.0     16.0  240.0\n",
      "22  2015.0   Lasith Malinga,Mitchell McClenaghan   0.0     15.0  240.0\n",
      "23  2015.0        Harbhajan Singh,Lasith Malinga   0.0     12.0  235.8\n",
      "24  2016.0           Mohit Sharma,Sandeep Sharma   0.0     11.0  230.4\n",
      "25  2016.0       Ravichandran Ashwin,Ashok Dinda   0.0     11.0  240.0\n",
      "26  2016.0  Harbhajan Singh,Mitchell McClenaghan   0.0     10.0   97.8\n",
      "27  2017.0            Jasprit Bumrah,Karn Sharma   0.0     14.0  240.0\n",
      "28  2017.0     Aniket Choudhary,Yuzvendra Chahal   0.0     10.0  114.0\n",
      "29  2017.0         Bhuvneshwar Kumar,Rashid Khan   0.0     10.0  240.0\n",
      "30  2018.0        Andrew Tye,Ravichandran Ashwin   0.0     17.0  210.6\n",
      "31  2018.0         Mayank Markande,Hardik Pandya   0.0     14.0  231.0\n",
      "32  2018.0            Sunil Narine,Piyush Chawla   0.0     12.0  224.4\n",
      "33  2019.0            Ben Stokes,Dhawal Kulkarni   0.0     16.0  240.0\n",
      "34  2019.0             Sam Curran,Mohammed Shami   0.0     13.0  228.0\n",
      "35  2019.0          Yuzvendra Chahal,Umesh Yadav   0.0     12.0  150.0\n",
      "36  2020.0            Jofra Archer,Rahul Tewatia   0.0     25.0  356.4\n",
      "37  2020.0          Anrich Nortje,Marcus Stoinis   0.0     16.0  240.0\n",
      "38  2020.0         Abhishek Sharma,Vijay Shankar   0.0     10.0  116.4\n",
      "39  2021.0              Jason Holder,Rashid Khan   0.0     16.0  240.0\n",
      "40  2021.0         Shardul Thakur,Josh Hazlewood   0.0     11.0  240.0\n",
      "41  2021.0           Fabian Allen,Murugan Ashwin   0.0     10.0  116.4\n",
      "42  2022.0            Kagiso Rabada,Rahul Chahar   0.0     17.0  240.0\n",
      "43  2022.0             Andre Russell,Tim Southee   0.0     14.0  240.0\n",
      "44  2022.0        Lockie Ferguson,Mohammed Shami   0.0     14.0  240.0\n",
      "45  2023.0           Mohammed Shami,Mohit Sharma   0.0     15.0  240.0\n",
      "46  2023.0     Matheesha Pathirana,Deepak Chahar   0.0     12.0  224.4\n",
      "47  2023.0                    Adam Zampa,KM Asif   0.0     10.0   61.8\n"
     ]
    }
   ],
   "source": [
    "print(top_wicket_takers)"
   ]
  },
  {
   "cell_type": "code",
   "execution_count": 74,
   "id": "42f48ea0-a888-41a1-9a50-7c0d2167ef24",
   "metadata": {},
   "outputs": [
    {
     "name": "stdout",
     "output_type": "stream",
     "text": [
      "   season                        Player  Runs  Wickets  Balls\n",
      "0  2008.0     Praveen Kumar,Zaheer Khan   0.0     18.0  235.2\n",
      "1  2008.0  Farveez Maharoof,Amit Mishra   0.0     10.0   96.6\n",
      "2  2008.0    Piyush Chawla,Irfan Pathan   0.0     10.0  120.0\n"
     ]
    }
   ],
   "source": [
    "print(top_wicket_takers.head(3))"
   ]
  },
  {
   "cell_type": "markdown",
   "id": "5cc648f3-3265-438e-ac3b-a138e36cb274",
   "metadata": {},
   "source": [
    "# Calculate the performance metrics (e.g., runs, wickets, boundaries)\n"
   ]
  },
  {
   "cell_type": "code",
   "execution_count": 37,
   "id": "22966216-6b2f-4c47-8828-7dd08d373a1a",
   "metadata": {},
   "outputs": [
    {
     "name": "stdout",
     "output_type": "stream",
     "text": [
      "Index(['season', 'id', 'name', 'short_name', 'description', 'home_team',\n",
      "       'away_team', 'toss_won', 'decision', '1st_inning_score',\n",
      "       '2nd_inning_score', 'winner', 'result', 'start_date', 'end_date',\n",
      "       'venue_id', 'venue_name', 'home_captain', 'away_captain', 'pom',\n",
      "       'points', 'super_over', 'home_overs', 'home_runs', 'home_wickets',\n",
      "       'home_boundaries', 'away_overs', 'away_runs', 'away_wickets',\n",
      "       'away_boundaries', 'highlights', 'home_key_batsman', 'home_key_bowler',\n",
      "       'home_playx1', 'away_playx1', 'away_key_batsman', 'away_key_bowler',\n",
      "       'match_days', 'umpire1', 'umpire2', 'tv_umpire', 'referee',\n",
      "       'reserve_umpire'],\n",
      "      dtype='object')\n"
     ]
    }
   ],
   "source": [
    "print(rahul_tewatia_data.columns)"
   ]
  },
  {
   "cell_type": "code",
   "execution_count": 38,
   "id": "e2965f49-9d78-451b-8041-fc1fe7c84479",
   "metadata": {},
   "outputs": [],
   "source": [
    "rahul_tewatia_performance = rahul_tewatia_data.groupby('season')[['home_runs', 'home_wickets', 'home_boundaries', 'away_runs', 'away_wickets', 'away_boundaries']].sum()"
   ]
  },
  {
   "cell_type": "markdown",
   "id": "ad7a3e8a-82a1-4dd3-ab8f-13fc021fa730",
   "metadata": {},
   "source": [
    "# Calculate the average performance metrics"
   ]
  },
  {
   "cell_type": "code",
   "execution_count": 39,
   "id": "2b35e9fa-e242-46eb-b82a-c1ca993b9fdd",
   "metadata": {},
   "outputs": [],
   "source": [
    "average_performance = rahul_tewatia_performance.mean()"
   ]
  },
  {
   "cell_type": "markdown",
   "id": "4f078dbe-7266-49fa-ae8e-b6ab8ec898f7",
   "metadata": {},
   "source": [
    "# Print the relationship between performance and salary"
   ]
  },
  {
   "cell_type": "code",
   "execution_count": 40,
   "id": "f9a3107b-ba61-4716-bcd2-08a54eda3222",
   "metadata": {},
   "outputs": [
    {
     "name": "stdout",
     "output_type": "stream",
     "text": [
      "Relationship between Rahul Tewatia's performance and salary:\n",
      "Salary: 9 crore\n",
      "Average runs:  2878.777777777778\n",
      "Average wickets:  101.11111111111111\n",
      "Average boundaries:  359.1111111111111\n"
     ]
    }
   ],
   "source": [
    "print(\"Relationship between Rahul Tewatia's performance and salary:\")\n",
    "print(\"Salary: 9 crore\")\n",
    "print(\"Average runs: \", average_performance['home_runs'] + average_performance['away_runs'])\n",
    "print(\"Average wickets: \", average_performance['home_wickets'] + average_performance['away_wickets'])\n",
    "print(\"Average boundaries: \", average_performance['home_boundaries'] + average_performance['away_boundaries'])"
   ]
  },
  {
   "cell_type": "markdown",
   "id": "05505283-0e06-4b21-bf88-ba431b3e6dd4",
   "metadata": {},
   "source": [
    "###This output shows the average performance of Rahul Tewatia in matches where his salary is 9 crore. The average runs scored by Tewatia in these matches is approximately 2878.78, the average wickets taken is approximately 101.11, and the average boundaries hit is approximately 359.11.\r\n",
    "\r\n",
    "This information can help in understanding the relationship between Tewatia's performance and his salary. If his performance is consistently high, it could indicate that he is being paid a fair salary. However, if his performance is low compared to his salary, it could suggest that he is overpaid. Further analysis would be needed to make a definitive conclusio\n",
    "n."
   ]
  },
  {
   "cell_type": "code",
   "execution_count": 69,
   "id": "b4ee136c-88b4-445a-9d25-ce7346948de2",
   "metadata": {},
   "outputs": [],
   "source": [
    "import scipy.stats as stats\n",
    "import matplotlib.pyplot as plt\n",
    "import numpy as np"
   ]
  },
  {
   "cell_type": "code",
   "execution_count": 92,
   "id": "a0fd27bf-8261-457f-84a8-f559b7ca5745",
   "metadata": {},
   "outputs": [],
   "source": [
    "last_three_years = ipl_data_player[(ipl_data_player['season'] >= 2022) & (ipl_data_player['season'] <= 2024)]\n",
    "performance_metrics = last_three_years.groupby('Player').agg({'Runs': 'sum', 'Wickets': 'sum'})"
   ]
  },
  {
   "cell_type": "code",
   "execution_count": 93,
   "id": "3dfcaea7-8a3d-4384-b5d5-0031485ad1e5",
   "metadata": {},
   "outputs": [],
   "source": [
    "ipl_data_grouped = ipl_data_player.groupby(['season', 'Player']).agg({'Runs': 'sum', 'Wickets': 'sum', 'Balls': 'sum'}).reset_index()"
   ]
  },
  {
   "cell_type": "code",
   "execution_count": 95,
   "id": "843157cd-4832-41cd-87ca-d2d09fedf486",
   "metadata": {},
   "outputs": [],
   "source": [
    "df = pd.DataFrame(data)"
   ]
  },
  {
   "cell_type": "code",
   "execution_count": 94,
   "id": "a596a24f-ed14-4edb-bd35-316b89fbe5dd",
   "metadata": {},
   "outputs": [],
   "source": [
    "data = {\n",
    "    'Player': [\n",
    "        'Abhishek Porel', 'Anrich Nortje', 'Axar Patel', 'David Warner', 'Ishant Sharma',\n",
    "        'Kuldeep Yadav', 'Lalit Yadav', 'Lungi Ngidi', 'Mitchell Marsh', 'Mukesh Kumar',\n",
    "        'Pravin Dubey', 'Prithvi Shaw', 'Rishabh Pant', 'Khaleel Ahmed', 'Vicky Ostwal',\n",
    "        'Yash Dhull', 'Ajay Mandal', 'Ajinkya Rahane', 'Deepak Chahar', 'Devon Conway',\n",
    "        'Maheesh Theekshana', 'Matheesha Pathirana', 'Mitchell Santner', 'Moeen Ali',\n",
    "        'MS Dhoni', 'Mukesh Choudhary', 'Nishant Sindhu', 'Prashant Solanki',\n",
    "        'Rajvardhan Hangargekar', 'Ravindra Jadeja', 'Ruturaj Gaikwad', 'Shaik Rasheed',\n",
    "        'Shivam Dube', 'Simarjeet Singh', 'Tushar Deshpande', 'Abhinav Sadarangani',\n",
    "        'B. Sai Sudharsan', 'Darshan Nalkande', 'David Miller', 'Jayant Yadav',\n",
    "        'Joshua Little', 'Kane Williamson', 'Matthew Wade', 'Mohammad Shami', 'Mohit Sharma',\n",
    "        'Noor Ahmad', 'R. Sai Kishore', 'Rahul Tewatia', 'Rashid Khan', 'Shubman Gill',\n",
    "        'Vijay Shankar', 'Shreyas Iyer', 'Nitish Rana', 'Venkatesh Iyer', 'Andre Russell',\n",
    "        'Sunil Narine', 'Harshit Rana', 'Varun Chakravarthy', 'Anukul Roy', 'Rinku Singh',\n",
    "        'Rahmanullah Gurbaz', 'Amit Mishra', 'Ayush Badoni', 'Deepak Hooda', 'Devdutt Padikkal (T)',\n",
    "        'K. Gowtham', 'KL Rahul', 'Krunal Pandya', 'Kyle Mayers', 'Marcus Stoinis',\n",
    "        'Mark Wood', 'Mayank Yadav', 'Mohsin Khan', 'Naveen Ul Haq', 'Nicholas Pooran',\n",
    "        'Prerak Mankad', 'Quinton De Kock', 'Ravi Bishnoi', 'Yash Thakur', 'Akash Madhwal',\n",
    "        'Arjun Tendulkar', 'Dewald Brevis', 'Ishan Kishan', 'Hardik Pandya (T)', 'Jason Behrendorff',\n",
    "        'Jasprit Bumrah', 'Kumar Kartikeya Singh', 'Tilak Varma', 'Nehal Wadhera',\n",
    "        'Piyush Chawla', 'Rohit Sharma', 'Romario Shepherd (T)', 'Shams Mulani', 'Surya Kumar Yadav',\n",
    "        'Tim David', 'Vishnu Vinod', 'Arshdeep Singh', 'Atharva Taide', 'Harpreet  Brar',\n",
    "        'Harpreet Bhatia', 'Jitesh Sharma', 'Jonny Bairstow', 'Kagiso Rabada', 'Liam Livingstone',\n",
    "        'Nathan Ellis', 'Prabhsimran Singh', 'Rahul Chahar', 'Rishi Dhawan', 'Sam Curran',\n",
    "        'Shikhar Dhawan', 'Shivam  Singh', 'Sikandar Raza', 'Vidwath Kaverappa', 'Adam Zampa',\n",
    "        'Avesh Khan (T)', 'Dhruv Jurel', 'Donovan Ferreira', 'Jos Buttler', 'Kuldeep  Sen',\n",
    "        'Kunal Rathore', 'Navdeep Saini', 'Prasidh Krishna', 'R. Ashwin', 'Riyan Parag',\n",
    "        'Sandeep Sharma', 'Sanju Samson', 'Shimron Hetmyer', 'Trent Boult', 'Yashaswi Jaiswal',\n",
    "        'Yuzvendra Chahal', 'Akash Deep', 'Anuj Rawat', 'Dinesh  Karthik', 'Faf Du Plessis',\n",
    "        'Glenn Maxwell', 'Himanshu Sharma', 'Karn Sharma', 'Mahipal Lomror', 'Manoj Bhandage',\n",
    "        'Mayank Dagar (T)', 'Mohammed Siraj', 'Rajan Kumar', 'Rajat Patidar', 'Virat Kohli',\n",
    "        'Vyshak Vijay Kumar', 'Will Jacks', 'Cameron Green (T)', 'Abdul Samad', 'Abhishek Sharma',\n",
    "        'Aiden Markram', 'Anmolpreet Singh', 'Bhuvneshwar Kumar', 'Fazalhaq Farooqi',\n",
    "        'Glenn Phillips', 'Heinrich Klaasen', 'Marco Jansen', 'Mayank Agarwal', 'Mayank Markande',\n",
    "        'Nitish Kumar Reddy', 'Rahul Tripathi', 'Sanvir  Singh', 'Shahbaz Ahamad (T)', 'T. Natarajan',\n",
    "        'Umran Malik', 'Upendra Singh Yadav', 'Washington Sundar'\n",
    "    ],\n",
    "    'Salary': [\n",
    "        '20 lakh', '6.5 crore', '9 crore', '6.25 crore', '50 lakh', '2 crore', '65 lakh', '5 crore', '6.5 crore', '5.5 crore',\n",
    "        '50 lakh', '7.5 crore', '16 crore', '5.25 crore', '20 lakh', '50 lakh', '20 lakh', '50 lakh', '14 crore', '1 crore',\n",
    "        '70 lakh', '20 lakh', '1.9 crore', '8 crore', '12 crore', '20 lakh', '60 lakh', '1.2 crore', '1.5 crore', '16 crore',\n",
    "        '6 crore', '20 lakh', '4 crore', '20 lakh', '20 lakh', '2.6 crore', '20 lakh', '20 lakh', '3 crore', '1.7 crore',\n",
    "        '4.4 crore', '2 crore', '2.4 crore', '6.25 crore', '50 lakhs', '30 lakh', '3 crore', '9 crore', '15 crore', '7 crore',\n",
    "        '1.4 crore', '12.25 crore', '8 crore', '8 crore', '12 crore', '6 crore', '20 lakh', '8 crore', '20 lakh', '55 lakh',\n",
    "        '50 lakh', '50 lakh', '20 lakh', '5.75 crore', '7.75 crore', '90 lakh', '17 crore', '8.25 crore', '50 lakh', '9.2 crore',\n",
    "        '7.5 crore', '20 lakh', '20 lakh', '50 lakh', '16 crore', '20 lakh', '6.75 Crore', '4 crore', '45 lakh', '20 lakh',\n",
    "        '30 lakh', '3 crore', '15.25 crore', '15 crore', '50 lakh', '12 crore', '20 lakh', '1.70 crore', '20 lakh', '50 lakh',\n",
    "        '16 Crore', '50 lakh', '20 lakh', '8 crore', '8.25 Crore', '20 lakh', '4 crore', '20 lakh', '3.8 crore', '40 lakh',\n",
    "        '20 lakh', '6.75 crore', '9.25 crore', '11.5 crore', '75 lakh', '60 lakh', '5.25 crore', '55 lakh', '18.50 crore',\n",
    "        '8.25 crore', '20 lakh', '50 lakh', '20 lakh', '1.5 crore', '10 crore', '20 lakh', '50 lakh', '10 crore', '20 lakh',\n",
    "        '20 lakh', '2.6 crore', '10 crore', '5 crore', '3.8 crore', '50 lakh', '14 crore', '8.5 crore', '8 crore', '4 crore',\n",
    "        '6.5 crore', '20 lakh', '3.4 crore', '5.5 crore', '7 crore', '11 crore', '20 lakh', '50 lakh', '95 lakh', '20 lakh',\n",
    "        '1.8 crore', '7 crore', '70 lakh', '20 lakh', '15 crore', '20 lakh', '3.2 crore', '17.5 crore', '4 crore', '6.5 crore',\n",
    "        '2.6 crore', '20 lakh', '4.2 crore', '50 lakh', '1.5 crore', '5.25 crore', '4.2 crore', '8.25 crore', '50 lakh',\n",
    "        '20 lakh', '8.5 crore', '20 lakh', '2.4 crore', '3.2 crore', '4 crore', '25 lakh', '8.75 crore'\n",
    "    ]\n",
    "}\n"
   ]
  },
  {
   "cell_type": "code",
   "execution_count": 98,
   "id": "b48929cf-cd6b-4efb-a319-d5faacc21078",
   "metadata": {},
   "outputs": [],
   "source": [
    "player_salary = pd.DataFrame(data)"
   ]
  },
  {
   "cell_type": "code",
   "execution_count": 99,
   "id": "e8184aa9-8efc-4a67-bcf0-88843d2164f0",
   "metadata": {},
   "outputs": [],
   "source": [
    "player_salary['Salary'] = player_salary['Salary'].str.replace('s', '').str.strip()"
   ]
  },
  {
   "cell_type": "code",
   "execution_count": 100,
   "id": "46e11329-dbf0-496b-9a41-f3fc1b423693",
   "metadata": {},
   "outputs": [],
   "source": [
    "def convert_salary(salary):\n",
    "    salary = salary.replace(',', '')\n",
    "    if 'lakh' in salary.lower():\n",
    "        value = float(salary.replace(' lakh', '').replace(' ', ''))\n",
    "        return int(value * 100000)\n",
    "    elif 'crore' in salary.lower():\n",
    "        value = float(salary.lower().replace('crore', '').replace(' ', ''))\n",
    "        return int(value * 10000000)\n",
    "    else:\n",
    "        return int(float(salary))"
   ]
  },
  {
   "cell_type": "code",
   "execution_count": 101,
   "id": "a68a2332-76a4-4c1f-a0e3-87f25ac7a719",
   "metadata": {},
   "outputs": [],
   "source": [
    "player_salary['Salary'] = player_salary['Salary'].apply(convert_salary)"
   ]
  },
  {
   "cell_type": "code",
   "execution_count": 106,
   "id": "6638194b-1e05-40f6-a6a9-d87463a07bc9",
   "metadata": {},
   "outputs": [
    {
     "name": "stdout",
     "output_type": "stream",
     "text": [
      "                  Player      Salary\n",
      "0         Abhishek Porel     20 lakh\n",
      "1          Anrich Nortje   6.5 crore\n",
      "2             Axar Patel     9 crore\n",
      "3           David Warner  6.25 crore\n",
      "4          Ishant Sharma     50 lakh\n",
      "..                   ...         ...\n",
      "161   Shahbaz Ahamad (T)   2.4 crore\n",
      "162         T. Natarajan   3.2 crore\n",
      "163          Umran Malik     4 crore\n",
      "164  Upendra Singh Yadav     25 lakh\n",
      "165    Washington Sundar  8.75 crore\n",
      "\n",
      "[166 rows x 2 columns]\n"
     ]
    }
   ],
   "source": [
    "salaries = pd.DataFrame({\n",
    "    'Player': [\n",
    "        'Abhishek Porel', 'Anrich Nortje', 'Axar Patel', 'David Warner', 'Ishant Sharma', 'Kuldeep Yadav', 'Lalit Yadav', 'Lungi Ngidi', 'Mitchell Marsh', \n",
    "        'Mukesh Kumar', 'Pravin Dubey', 'Prithvi Shaw', 'Rishabh Pant', 'Khaleel Ahmed', 'Vicky Ostwal', 'Yash Dhull', 'Ajay Mandal', 'Ajinkya Rahane', \n",
    "        'Deepak Chahar', 'Devon Conway', 'Maheesh Theekshana', 'Matheesha Pathirana', 'Mitchell Santner', 'Moeen Ali', 'MS Dhoni', 'Mukesh Choudhary', \n",
    "        'Nishant Sindhu', 'Prashant Solanki', 'Rajvardhan Hangargekar', 'Ravindra Jadeja', 'Ruturaj Gaikwad', 'Shaik Rasheed', 'Shivam Dube', 'Simarjeet Singh', \n",
    "        'Tushar Deshpande', 'Abhinav Sadarangani', 'B. Sai Sudharsan', 'Darshan Nalkande', 'David Miller', 'Jayant Yadav', 'Joshua Little', 'Kane Williamson', \n",
    "        'Matthew Wade', 'Mohammad Shami', 'Mohit Sharma', 'Noor Ahmad', 'R. Sai Kishore', 'Rahul Tewatia', 'Rashid Khan', 'Shubman Gill', 'Vijay Shankar', \n",
    "        'Shreyas Iyer', 'Nitish Rana', 'Venkatesh Iyer', 'Andre Russell', 'Sunil Narine', 'Harshit Rana', 'Varun Chakravarthy', 'Anukul Roy', 'Rinku Singh', \n",
    "        'Rahmanullah Gurbaz', 'Amit Mishra', 'Ayush Badoni', 'Deepak Hooda', 'Devdutt Padikkal (T)', 'K. Gowtham', 'KL Rahul', 'Krunal Pandya', 'Kyle Mayers', \n",
    "        'Marcus Stoinis', 'Mark Wood', 'Mayank Yadav', 'Mohsin Khan', 'Naveen Ul Haq', 'Nicholas Pooran', 'Prerak Mankad', 'Quinton De Kock', 'Ravi Bishnoi', \n",
    "        'Yash Thakur', 'Akash Madhwal', 'Arjun Tendulkar', 'Dewald Brevis', 'Ishan Kishan', 'Hardik Pandya (T)', 'Jason Behrendorff', 'Jasprit Bumrah', \n",
    "        'Kumar Kartikeya Singh', 'Tilak Varma', 'Nehal Wadhera', 'Piyush Chawla', 'Rohit Sharma', 'Romario Shepherd (T)', 'Shams Mulani', 'Surya Kumar Yadav', \n",
    "        'Tim David', 'Vishnu Vinod', 'Arshdeep Singh', 'Atharva Taide', 'Harpreet Brar', 'Harpreet Bhatia', 'Jitesh Sharma', 'Jonny Bairstow', 'Kagiso Rabada', \n",
    "        'Liam Livingstone', 'Nathan Ellis', 'Prabhsimran Singh', 'Rahul Chahar', 'Rishi Dhawan', 'Sam Curran', 'Shikhar Dhawan', 'Shivam Singh', 'Sikandar Raza', \n",
    "        'Vidwath Kaverappa', 'Adam Zampa', 'Avesh Khan (T)', 'Dhruv Jurel', 'Donovan Ferreira', 'Jos Buttler', 'Kuldeep Sen', 'Kunal Rathore', 'Navdeep Saini', \n",
    "        'Prasidh Krishna', 'R. Ashwin', 'Riyan Parag', 'Sandeep Sharma', 'Sanju Samson', 'Shimron Hetmyer', 'Trent Boult', 'Yashaswi Jaiswal', 'Yuzvendra Chahal', \n",
    "        'Akash Deep', 'Anuj Rawat', 'Dinesh Karthik', 'Faf Du Plessis', 'Glenn Maxwell', 'Himanshu Sharma', 'Karn Sharma', 'Mahipal Lomror', 'Manoj Bhandage', \n",
    "        'Mayank Dagar (T)', 'Mohammed Siraj', 'Rajan Kumar', 'Rajat Patidar', 'Virat Kohli', 'Vyshak Vijay Kumar', 'Will Jacks', 'Cameron Green (T)', 'Abdul Samad', \n",
    "        'Abhishek Sharma', 'Aiden Markram', 'Anmolpreet Singh', 'Bhuvneshwar Kumar', 'Fazalhaq Farooqi', 'Glenn Phillips', 'Heinrich Klaasen', 'Marco Jansen', \n",
    "        'Mayank Agarwal', 'Mayank Markande', 'Nitish Kumar Reddy', 'Rahul Tripathi', 'Sanvir Singh', 'Shahbaz Ahamad (T)', 'T. Natarajan', 'Umran Malik', \n",
    "        'Upendra Singh Yadav', 'Washington Sundar'\n",
    "    ], \n",
    "    'Salary': [\n",
    "        '20 lakh', '6.5 crore', '9 crore', '6.25 crore', '50 lakh', '2 crore', '65 lakh', '5 crore', '6.5 crore', '5.5 crore', '50 lakh', '7.5 crore', '16 crore', \n",
    "        '5.25 crore', '20 lakh', '50 lakh', '20 lakh', '50 lakh', '14 crore', '1 crore', '70 lakh', '20 lakh', '1.9 crore', '8 crore', '12 crore', '20 lakh', \n",
    "        '60 lakh', '1.2 crore', '1.5 crore', '16 crore', '6 crore', '20 lakh', '4 crore', '20 lakh', '20 lakh', '2.6 crore', '20 lakh', '20 lakh', '3 crore', \n",
    "        '1.7 crore', '4.4 crore', '2 crore', '2.4 crore', '6.25 crore', '50 lakhs', '30 lakh', '3 crore', '9 crore', '15 crore', '7 crore', '1.4 crore', '12.25 crore', \n",
    "        '8 crore', '8 crore', '12 crore', '6 crore', '20 lakh', '8 crore', '20 lakh', '55 lakh', '50 lakh', '50 lakh', '20 lakh', '5.75 crore', '7.75 crore', \n",
    "        '90 lakh', '17 crore', '8.25 crore', '50 lakh', '9.2 crore', '7.5 crore', '20 lakh', '20 lakh', '50 lakh', '16 crore', '20 lakh', '6.75 Crore', '4 crore', \n",
    "        '45 lakh', '20 lakh', '30 lakh', '3 crore', '15.25 crore', '15 crore', '50 lakh', '12 crore', '20 lakh', '1.70 crore', '20 lakh', '50 lakh', '16 Crore', \n",
    "        '50 lakh', '20 lakh', '8 crore', '8.25 Crore', '20 lakh', '4 crore', '20 lakh', '3.8 crore', '40 lakh', '20 lakh', '6.75 crore', '9.25 crore', '11.5 crore', \n",
    "        '75 lakh', '60 lakh', '5.25 crore', '55 lakh', '18.50 crore', '8.25 crore', '20 lakh', '50 lakh', '20 lakh', '1.5 crore', '10 crore', '20 lakh', '50 lakh', \n",
    "        '10 crore', '20 lakh', '20 lakh', '2.6 crore', '10 crore', '5 crore', '3.8 crore', '50 lakh', '14 crore', '8.5 crore', '8 crore', '4 crore', '6.5 crore', \n",
    "        '20 lakh', '3.4 crore', '5.5 crore', '7 crore', '11 crore', '20 lakh', '50 lakh', '95 lakh', '20 lakh', '1.8 crore', '7 crore', '70 lakh', '20 lakh', '15 crore', \n",
    "        '20 lakh', '3.2 crore', '17.5 crore', '4 crore', '6.5 crore', '2.6 crore', '20 lakh', '4.2 crore', '50 lakh', '1.5 crore', '5.25 crore', '4.2 crore', \n",
    "        '8.25 crore', '50 lakh', '20 lakh', '8.5 crore', '20 lakh', '2.4 crore', '3.2 crore', '4 crore', '25 lakh', '8.75 crore'\n",
    "    ]\n",
    "})\n",
    "\n",
    "print(salaries)"
   ]
  },
  {
   "cell_type": "code",
   "execution_count": 107,
   "id": "e18dfa86-c3d5-488b-b025-f3d5bef045a8",
   "metadata": {},
   "outputs": [],
   "source": [
    "performance_metrics = pd.concat([performance_metrics, salaries], axis=1)"
   ]
  },
  {
   "cell_type": "code",
   "execution_count": 108,
   "id": "d0af7470-f57c-4345-aa76-ab2f1e402a92",
   "metadata": {},
   "outputs": [
    {
     "name": "stdout",
     "output_type": "stream",
     "text": [
      "                                   Runs  Wickets               Player  \\\n",
      "Abdul Samad,Mayank Agarwal        131.0      0.0                  NaN   \n",
      "Abhishek Sharma,Romario Shepherd  157.0      0.0                  NaN   \n",
      "Adam Zampa,KM Asif                  0.0     10.0                  NaN   \n",
      "Adam Zampa,Ravichandran Ashwin      0.0      5.0                  NaN   \n",
      "Aiden Markram,Heinrich Klaasen    166.0      0.0                  NaN   \n",
      "...                                 ...      ...                  ...   \n",
      "161                                 NaN      NaN   Shahbaz Ahamad (T)   \n",
      "162                                 NaN      NaN         T. Natarajan   \n",
      "163                                 NaN      NaN          Umran Malik   \n",
      "164                                 NaN      NaN  Upendra Singh Yadav   \n",
      "165                                 NaN      NaN    Washington Sundar   \n",
      "\n",
      "                                      Salary  \n",
      "Abdul Samad,Mayank Agarwal               NaN  \n",
      "Abhishek Sharma,Romario Shepherd         NaN  \n",
      "Adam Zampa,KM Asif                       NaN  \n",
      "Adam Zampa,Ravichandran Ashwin           NaN  \n",
      "Aiden Markram,Heinrich Klaasen           NaN  \n",
      "...                                      ...  \n",
      "161                                2.4 crore  \n",
      "162                                3.2 crore  \n",
      "163                                  4 crore  \n",
      "164                                  25 lakh  \n",
      "165                               8.75 crore  \n",
      "\n",
      "[420 rows x 4 columns]\n"
     ]
    }
   ],
   "source": [
    "print(performance_metrics)"
   ]
  },
  {
   "cell_type": "code",
   "execution_count": 86,
   "id": "67e4049d-66c8-48a2-981f-2914ece63b66",
   "metadata": {},
   "outputs": [],
   "source": [
    "def neg_binom_log_likelihood(params, x):\n",
    "    k, p = params\n",
    "    ll = np.sum(nbinom.logpmf(x, k, p))\n",
    "    return -ll\n"
   ]
  },
  {
   "cell_type": "code",
   "execution_count": 87,
   "id": "bfad2c40-d754-4120-b72b-67385e7debc2",
   "metadata": {},
   "outputs": [],
   "source": [
    "top_run_getters = ipl_data_grouped.groupby('season').apply(lambda x: x.nlargest(3, 'Runs')).reset_index(drop=True)\n",
    "top_wicket_takers = ipl_data_grouped.groupby('season').apply(lambda x: x.nlargest(3, 'Wickets')).reset_index(drop=True)"
   ]
  },
  {
   "cell_type": "markdown",
   "id": "a90b14b8-8076-4484-bb92-0c67153d2bca",
   "metadata": {},
   "source": [
    "# Fit distributions to the runs scored and wickets taken data"
   ]
  },
  {
   "cell_type": "code",
   "execution_count": 88,
   "id": "c189dc6f-e311-4b12-8e91-9e41230e1751",
   "metadata": {},
   "outputs": [],
   "source": [
    "from scipy.stats import norm, poisson, nbinom\n",
    "from scipy.optimize import minimize"
   ]
  },
  {
   "cell_type": "code",
   "execution_count": 89,
   "id": "8d06c7c4-a204-4fd4-8462-4cc686443b22",
   "metadata": {},
   "outputs": [
    {
     "name": "stdout",
     "output_type": "stream",
     "text": [
      "Fitting norm distribution to runs scored data...\n",
      "Normal distribution parameters: 374.625, 87.09468626156247\n",
      "\n",
      "Fitting norm distribution to wickets taken data...\n",
      "Normal distribution parameters: 13.333333333333334, 3.009245014211298\n",
      "\n",
      "Fitting poisson distribution to runs scored data...\n",
      "Poisson distribution parameter (lambda): 374.625\n",
      "\n",
      "Fitting poisson distribution to wickets taken data...\n",
      "Poisson distribution parameter (lambda): 13.333333333333334\n",
      "\n",
      "Fitting nbinom distribution to runs scored data...\n",
      "Negative binomial distribution parameters: 21.287372978675116, 0.053767876175308676\n",
      "\n",
      "Fitting nbinom distribution to wickets taken data...\n",
      "Negative binomial distribution parameters: 957.602609938167, 0.9862885906054499\n",
      "\n"
     ]
    }
   ],
   "source": [
    "distributions = ['norm', 'poisson', 'nbinom']\n",
    "\n",
    "for dist in distributions:\n",
    "    print(f\"Fitting {dist} distribution to runs scored data...\")\n",
    "    if dist == 'norm':\n",
    "        params = norm.fit(top_run_getters['Runs'])\n",
    "        print(f\"Normal distribution parameters: {params[0]}, {params[1]}\")\n",
    "    elif dist == 'poisson':\n",
    "        # Poisson parameter (lambda) is the mean of the data\n",
    "        params = [top_run_getters['Runs'].mean()]\n",
    "        print(f\"Poisson distribution parameter (lambda): {params[0]}\")\n",
    "    elif dist == 'nbinom':\n",
    "        x = top_run_getters['Runs']\n",
    "        init_params = [1, 0.5]  # initial guess for k and p\n",
    "        res = minimize(neg_binom_log_likelihood, init_params, method=\"Nelder-Mead\", args=(x,))\n",
    "        k, p = res.x\n",
    "        params = (k, p)\n",
    "        print(f\"Negative binomial distribution parameters: {params[0]}, {params[1]}\")\n",
    "    print()\n",
    "\n",
    "    print(f\"Fitting {dist} distribution to wickets taken data...\")\n",
    "    if dist == 'norm':\n",
    "        params = norm.fit(top_wicket_takers['Wickets'])\n",
    "        print(f\"Normal distribution parameters: {params[0]}, {params[1]}\")\n",
    "    elif dist == 'poisson':\n",
    "        # Poisson parameter (lambda) is the mean of the data\n",
    "        params = [top_wicket_takers['Wickets'].mean()]\n",
    "        print(f\"Poisson distribution parameter (lambda): {params[0]}\")\n",
    "    elif dist == 'nbinom':\n",
    "        x = top_wicket_takers['Wickets']\n",
    "        init_params = [1, 0.5]  # initial guess for k and p\n",
    "        res = minimize(neg_binom_log_likelihood, init_params, method=\"Nelder-Mead\", args=(x,))\n",
    "        k, p = res.x\n",
    "        params = (k, p)\n",
    "        print(f\"Negative binomial distribution parameters: {params[0]}, {params[1]}\")\n",
    "    print()"
   ]
  },
  {
   "cell_type": "markdown",
   "id": "3d57cd9d-86bc-4788-9bed-144fb7bf5cd9",
   "metadata": {},
   "source": [
    "# Significant Difference Between the Salaries of the Top 10 Batsmen and Top Wicket-Taking Bowlers Over the Last Three Years"
   ]
  },
  {
   "cell_type": "code",
   "execution_count": 124,
   "id": "845ba8a6-e0e5-4a6c-a3fc-4b66a802fdb7",
   "metadata": {},
   "outputs": [],
   "source": [
    "from scipy.stats import ttest_ind"
   ]
  },
  {
   "cell_type": "code",
   "execution_count": 125,
   "id": "fa591b2c-6e96-481c-9d16-88a75c4f67e2",
   "metadata": {},
   "outputs": [],
   "source": [
    "salaries = pd.DataFrame({\n",
    "    'Player': [\n",
    "        'Abhishek Porel', 'Anrich Nortje', 'Axar Patel', 'David Warner', 'Ishant Sharma', 'Kuldeep Yadav', 'Lalit Yadav', 'Lungi Ngidi', 'Mitchell Marsh', \n",
    "        'Mukesh Kumar', 'Pravin Dubey', 'Prithvi Shaw', 'Rishabh Pant', 'Khaleel Ahmed', 'Vicky Ostwal', 'Yash Dhull', 'Ajay Mandal', 'Ajinkya Rahane', \n",
    "        'Deepak Chahar', 'Devon Conway', 'Maheesh Theekshana', 'Matheesha Pathirana', 'Mitchell Santner', 'Moeen Ali', 'MS Dhoni', 'Mukesh Choudhary', \n",
    "        'Nishant Sindhu', 'Prashant Solanki', 'Rajvardhan Hangargekar', 'Ravindra Jadeja', 'Ruturaj Gaikwad', 'Shaik Rasheed', 'Shivam Dube', 'Simarjeet Singh', \n",
    "        'Tushar Deshpande', 'Abhinav Sadarangani', 'B. Sai Sudharsan', 'Darshan Nalkande', 'David Miller', 'Jayant Yadav', 'Joshua Little', 'Kane Williamson', \n",
    "        'Matthew Wade', 'Mohammad Shami', 'Mohit Sharma', 'Noor Ahmad', 'R. Sai Kishore', 'Rahul Tewatia', 'Rashid Khan', 'Shubman Gill', 'Vijay Shankar', \n",
    "        'Shreyas Iyer', 'Nitish Rana', 'Venkatesh Iyer', 'Andre Russell', 'Sunil Narine', 'Harshit Rana', 'Varun Chakravarthy', 'Anukul Roy', 'Rinku Singh', \n",
    "        'Rahmanullah Gurbaz', 'Amit Mishra', 'Ayush Badoni', 'Deepak Hooda', 'Devdutt Padikkal (T)', 'K. Gowtham', 'KL Rahul', 'Krunal Pandya', 'Kyle Mayers', \n",
    "        'Marcus Stoinis', 'Mark Wood', 'Mayank Yadav', 'Mohsin Khan', 'Naveen Ul Haq', 'Nicholas Pooran', 'Prerak Mankad', 'Quinton De Kock', 'Ravi Bishnoi', \n",
    "        'Yash Thakur', 'Akash Madhwal', 'Arjun Tendulkar', 'Dewald Brevis', 'Ishan Kishan', 'Hardik Pandya (T)', 'Jason Behrendorff', 'Jasprit Bumrah', \n",
    "        'Kumar Kartikeya Singh', 'Tilak Varma', 'Nehal Wadhera', 'Piyush Chawla', 'Rohit Sharma', 'Romario Shepherd (T)', 'Shams Mulani', 'Surya Kumar Yadav', \n",
    "        'Tim David', 'Vishnu Vinod', 'Arshdeep Singh', 'Atharva Taide', 'Harpreet Brar', 'Harpreet Bhatia', 'Jitesh Sharma', 'Jonny Bairstow', 'Kagiso Rabada', \n",
    "        'Liam Livingstone', 'Nathan Ellis', 'Prabhsimran Singh', 'Rahul Chahar', 'Rishi Dhawan', 'Sam Curran', 'Shikhar Dhawan', 'Shivam Singh', 'Sikandar Raza', \n",
    "        'Vidwath Kaverappa', 'Adam Zampa', 'Avesh Khan (T)', 'Dhruv Jurel', 'Donovan Ferreira', 'Jos Buttler', 'Kuldeep Sen', 'Kunal Rathore', 'Navdeep Saini', \n",
    "        'Prasidh Krishna', 'R. Ashwin', 'Riyan Parag', 'Sandeep Sharma', 'Sanju Samson', 'Shimron Hetmyer', 'Trent Boult', 'Yashaswi Jaiswal', 'Yuzvendra Chahal', \n",
    "        'Akash Deep', 'Anuj Rawat', 'Dinesh Karthik', 'Faf Du Plessis', 'Glenn Maxwell', 'Himanshu Sharma', 'Karn Sharma', 'Mahipal Lomror', 'Manoj Bhandage', \n",
    "        'Mayank Dagar (T)', 'Mohammed Siraj', 'Rajan Kumar', 'Rajat Patidar', 'Virat Kohli', 'Vyshak Vijay Kumar', 'Will Jacks', 'Cameron Green (T)', 'Abdul Samad', \n",
    "        'Abhishek Sharma', 'Aiden Markram', 'Anmolpreet Singh', 'Bhuvneshwar Kumar', 'Fazalhaq Farooqi', 'Glenn Phillips', 'Heinrich Klaasen', 'Marco Jansen', \n",
    "        'Mayank Agarwal', 'Mayank Markande', 'Nitish Kumar Reddy', 'Rahul Tripathi', 'Sanvir Singh', 'Shahbaz Ahamad (T)', 'T. Natarajan', 'Umran Malik', \n",
    "        'Upendra Singh Yadav', 'Washington Sundar'\n",
    "    ], \n",
    "    'Salary': [\n",
    "        '20 lakh', '6.5 crore', '9 crore', '6.25 crore', '50 lakh', '2 crore', '65 lakh', '5 crore', '6.5 crore', '5.5 crore', '50 lakh', '7.5 crore', '16 crore', \n",
    "        '5.25 crore', '20 lakh', '50 lakh', '20 lakh', '50 lakh', '14 crore', '1 crore', '70 lakh', '20 lakh', '1.9 crore', '8 crore', '12 crore', '20 lakh', \n",
    "        '60 lakh', '1.2 crore', '1.5 crore', '16 crore', '6 crore', '20 lakh', '4 crore', '20 lakh', '20 lakh', '2.6 crore', '20 lakh', '20 lakh', '3 crore', \n",
    "        '1.7 crore', '4.4 crore', '2 crore', '2.4 crore', '6.25 crore', '50 lakhs', '30 lakh', '3 crore', '9 crore', '15 crore', '7 crore', '1.4 crore', '12.25 crore', \n",
    "        '8 crore', '8 crore', '12 crore', '6 crore', '20 lakh', '8 crore', '20 lakh', '55 lakh', '50 lakh', '50 lakh', '20 lakh', '5.75 crore', '7.75 crore', \n",
    "        '90 lakh', '17 crore', '8.25 crore', '50 lakh', '9.2 crore', '7.5 crore', '20 lakh', '20 lakh', '50 lakh', '16 crore', '20 lakh', '6.75 Crore', '4 crore', \n",
    "        '45 lakh', '20 lakh', '30 lakh', '3 crore', '15.25 crore', '15 crore', '50 lakh', '12 crore', '20 lakh', '1.70 crore', '20 lakh', '50 lakh', '16 Crore', \n",
    "        '50 lakh', '20 lakh', '8 crore', '8.25 Crore', '20 lakh', '4 crore', '20 lakh', '3.8 crore', '40 lakh', '20 lakh', '6.75 crore', '9.25 crore', '11.5 crore', \n",
    "        '75 lakh', '60 lakh', '5.25 crore', '55 lakh', '18.50 crore', '8.25 crore', '20 lakh', '50 lakh', '20 lakh', '1.5 crore', '10 crore', '20 lakh', '50 lakh', \n",
    "        '10 crore', '20 lakh', '20 lakh', '2.6 crore', '10 crore', '5 crore', '3.8 crore', '50 lakh', '14 crore', '8.5 crore', '8 crore', '4 crore', '6.5 crore', \n",
    "        '20 lakh', '3.4 crore', '5.5 crore', '7 crore', '11 crore', '20 lakh', '50 lakh', '95 lakh', '20 lakh', '1.8 crore', '7 crore', '70 lakh', '20 lakh', '15 crore', \n",
    "        '20 lakh', '3.2 crore', '17.5 crore', '4 crore', '6.5 crore', '2.6 crore', '20 lakh', '4.2 crore', '50 lakh', '1.5 crore', '5.25 crore', '4.2 crore', \n",
    "        '8.25 crore', '50 lakh', '20 lakh', '8.5 crore', '20 lakh', '2.4 crore', '3.2 crore', '4 crore', '25 lakh', '8.75 crore'\n",
    "    ]\n",
    "})"
   ]
  },
  {
   "cell_type": "code",
   "execution_count": 129,
   "id": "b229b808-03eb-4649-8b1c-b8d09c426ca1",
   "metadata": {},
   "outputs": [],
   "source": [
    "player_salary = pd.DataFrame(data)"
   ]
  },
  {
   "cell_type": "code",
   "execution_count": 130,
   "id": "6bf0a9b3-8fbb-401e-a4b2-a669adf90465",
   "metadata": {},
   "outputs": [],
   "source": [
    "player_salary['Salary'] = player_salary['Salary'].str.replace('s', '').str.strip()"
   ]
  },
  {
   "cell_type": "code",
   "execution_count": 131,
   "id": "b6f3d357-5c12-440b-9bd7-e4ef80a902e6",
   "metadata": {},
   "outputs": [],
   "source": [
    "def convert_salary(salary):\n",
    "    salary = salary.replace(',', '')\n",
    "    if 'lakh' in salary.lower():\n",
    "        value = float(salary.replace(' lakh', '').replace(' ', ''))\n",
    "        return int(value * 100000)\n",
    "    elif 'crore' in salary.lower():\n",
    "        value = float(salary.lower().replace('crore', '').replace(' ', ''))\n",
    "        return int(value * 10000000)\n",
    "    else:\n",
    "        return int(float(salary))"
   ]
  },
  {
   "cell_type": "code",
   "execution_count": 132,
   "id": "be37ac07-bc02-4869-a3bb-adec677f3c85",
   "metadata": {},
   "outputs": [],
   "source": [
    "player_salary['Salary'] = player_salary['Salary'].apply(convert_salary)"
   ]
  },
  {
   "cell_type": "code",
   "execution_count": 142,
   "id": "762dab4a-b995-4cc7-bced-c84b0121eccb",
   "metadata": {},
   "outputs": [],
   "source": [
    "top_10_batsmen = performance_metrics.nlargest(10, 'Runs')\n",
    "top_10_bowlers = performance_metrics.nlargest(10, 'Wickets')"
   ]
  },
  {
   "cell_type": "code",
   "execution_count": 143,
   "id": "67a7f62a-c8d3-4e79-ab94-082dd6312db0",
   "metadata": {},
   "outputs": [],
   "source": [
    "batsmen = ['David Warner', 'Prithvi Shaw', 'Rishabh Pant', 'Ajinkya Rahane', 'Devon Conway', \n",
    "           'Mitchell Marsh', 'Venkatesh Iyer', 'Nitish Rana', 'Shubman Gill', 'Vijay Shankar',\n",
    "           'Shreyas Iyer', 'Rahmanullah Gurbaz', 'Nicholas Pooran', 'Quinton De Kock', \n",
    "           'Virat Kohli', 'Faf Du Plessis', 'Glenn Maxwell', 'Shikhar Dhawan', 'Mayank Agarwal',\n",
    "           'Jos Buttler', 'Sanju Samson', 'Rohit Sharma', 'Suryakumar Yadav']\n",
    "\n",
    "bowlers = ['Anrich Nortje', 'Ishant Sharma', 'Kuldeep Yadav', 'Lungi Ngidi', 'Khaleel Ahmed',\n",
    "           'Mukesh Kumar', 'Mohammad Shami', 'Mohit Sharma', 'Rashid Khan', 'Jayant Yadav', \n",
    "           'Ravi Bishnoi', 'Jasprit Bumrah', 'Piyush Chawla', 'Arshdeep Singh', 'Kagiso Rabada',\n",
    "           'Rahul Chahar', 'Umran Malik', 'Yuzvendra Chahal', 'Harshal Patel', 'Mohammed Siraj']\n"
   ]
  },
  {
   "cell_type": "code",
   "execution_count": 144,
   "id": "892a4dad-e3e8-43f8-9d0e-c3436d5d243a",
   "metadata": {},
   "outputs": [
    {
     "name": "stdout",
     "output_type": "stream",
     "text": [
      "t-statistic: nan\n",
      "p-value: nan\n"
     ]
    }
   ],
   "source": [
    "t_stat, p_value = ttest_ind(salaries_batsmen['Salary'], salaries_bowlers['Salary'])\n",
    "print(f\"t-statistic: {t_stat}\")\n",
    "print(f\"p-value: {p_value}\")\n"
   ]
  },
  {
   "cell_type": "code",
   "execution_count": 145,
   "id": "65afd5bc-271e-40ee-8f08-1363b61c2c02",
   "metadata": {},
   "outputs": [
    {
     "name": "stdout",
     "output_type": "stream",
     "text": [
      "There is no significant difference in salaries between the top 10 batsmen and top 10 bowlers.\n"
     ]
    }
   ],
   "source": [
    "if p_value < 0.05:\n",
    "    print(\"There is a significant difference in salaries between the top 10 batsmen and top 10 bowlers.\")\n",
    "else:\n",
    "    print(\"There is no significant difference in salaries between the top 10 batsmen and top 10 bowlers.\")"
   ]
  }
 ],
 "metadata": {
  "kernelspec": {
   "display_name": "Python 3 (ipykernel)",
   "language": "python",
   "name": "python3"
  },
  "language_info": {
   "codemirror_mode": {
    "name": "ipython",
    "version": 3
   },
   "file_extension": ".py",
   "mimetype": "text/x-python",
   "name": "python",
   "nbconvert_exporter": "python",
   "pygments_lexer": "ipython3",
   "version": "3.11.7"
  }
 },
 "nbformat": 4,
 "nbformat_minor": 5
}
