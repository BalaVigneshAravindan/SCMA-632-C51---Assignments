{
 "cells": [
  {
   "cell_type": "code",
   "execution_count": 1,
   "id": "95de83fa-7f7d-4c03-99dd-f13d61f5020b",
   "metadata": {},
   "outputs": [],
   "source": [
    "import yfinance as yf\n",
    "import pandas as pd\n",
    "import numpy as np\n",
    "import matplotlib.pyplot as plt\n",
    "from statsmodels.tsa.seasonal import seasonal_decompose\n",
    "from statsmodels.tsa.holtwinters import SimpleExpSmoothing, Holt, ExponentialSmoothing\n",
    "from statsmodels.tsa.arima.model import ARIMA\n",
    "from sklearn.model_selection import train_test_split\n",
    "from sklearn.ensemble import RandomForestRegressor\n",
    "from sklearn.tree import DecisionTreeRegressor\n",
    "from keras.models import Sequential\n",
    "from keras.layers import LSTM, Dense"
   ]
  },
  {
   "cell_type": "markdown",
   "id": "e3edce74-a938-42f8-a733-e34ab689dbc8",
   "metadata": {},
   "source": [
    "# Download data from Yahoo Finance"
   ]
  },
  {
   "cell_type": "code",
   "execution_count": 2,
   "id": "70b0e71e-4a81-4dcb-b9b9-4ea489ceec7b",
   "metadata": {},
   "outputs": [
    {
     "name": "stderr",
     "output_type": "stream",
     "text": [
      "[*********************100%%**********************]  1 of 1 completed\n"
     ]
    }
   ],
   "source": [
    "data = yf.download('AAPL', start='2010-01-01', end='2024-07-19')"
   ]
  },
  {
   "cell_type": "code",
   "execution_count": 3,
   "id": "f2f12caa-4865-450c-9451-ebd692c71fa7",
   "metadata": {},
   "outputs": [
    {
     "data": {
      "text/html": [
       "<div>\n",
       "<style scoped>\n",
       "    .dataframe tbody tr th:only-of-type {\n",
       "        vertical-align: middle;\n",
       "    }\n",
       "\n",
       "    .dataframe tbody tr th {\n",
       "        vertical-align: top;\n",
       "    }\n",
       "\n",
       "    .dataframe thead th {\n",
       "        text-align: right;\n",
       "    }\n",
       "</style>\n",
       "<table border=\"1\" class=\"dataframe\">\n",
       "  <thead>\n",
       "    <tr style=\"text-align: right;\">\n",
       "      <th></th>\n",
       "      <th>Open</th>\n",
       "      <th>High</th>\n",
       "      <th>Low</th>\n",
       "      <th>Close</th>\n",
       "      <th>Adj Close</th>\n",
       "      <th>Volume</th>\n",
       "    </tr>\n",
       "    <tr>\n",
       "      <th>Date</th>\n",
       "      <th></th>\n",
       "      <th></th>\n",
       "      <th></th>\n",
       "      <th></th>\n",
       "      <th></th>\n",
       "      <th></th>\n",
       "    </tr>\n",
       "  </thead>\n",
       "  <tbody>\n",
       "    <tr>\n",
       "      <th>2010-01-04</th>\n",
       "      <td>7.622500</td>\n",
       "      <td>7.660714</td>\n",
       "      <td>7.585000</td>\n",
       "      <td>7.643214</td>\n",
       "      <td>6.461977</td>\n",
       "      <td>493729600</td>\n",
       "    </tr>\n",
       "    <tr>\n",
       "      <th>2010-01-05</th>\n",
       "      <td>7.664286</td>\n",
       "      <td>7.699643</td>\n",
       "      <td>7.616071</td>\n",
       "      <td>7.656429</td>\n",
       "      <td>6.473148</td>\n",
       "      <td>601904800</td>\n",
       "    </tr>\n",
       "    <tr>\n",
       "      <th>2010-01-06</th>\n",
       "      <td>7.656429</td>\n",
       "      <td>7.686786</td>\n",
       "      <td>7.526786</td>\n",
       "      <td>7.534643</td>\n",
       "      <td>6.370184</td>\n",
       "      <td>552160000</td>\n",
       "    </tr>\n",
       "    <tr>\n",
       "      <th>2010-01-07</th>\n",
       "      <td>7.562500</td>\n",
       "      <td>7.571429</td>\n",
       "      <td>7.466071</td>\n",
       "      <td>7.520714</td>\n",
       "      <td>6.358407</td>\n",
       "      <td>477131200</td>\n",
       "    </tr>\n",
       "    <tr>\n",
       "      <th>2010-01-08</th>\n",
       "      <td>7.510714</td>\n",
       "      <td>7.571429</td>\n",
       "      <td>7.466429</td>\n",
       "      <td>7.570714</td>\n",
       "      <td>6.400681</td>\n",
       "      <td>447610800</td>\n",
       "    </tr>\n",
       "    <tr>\n",
       "      <th>...</th>\n",
       "      <td>...</td>\n",
       "      <td>...</td>\n",
       "      <td>...</td>\n",
       "      <td>...</td>\n",
       "      <td>...</td>\n",
       "      <td>...</td>\n",
       "    </tr>\n",
       "    <tr>\n",
       "      <th>2024-07-12</th>\n",
       "      <td>228.919998</td>\n",
       "      <td>232.639999</td>\n",
       "      <td>228.679993</td>\n",
       "      <td>230.539993</td>\n",
       "      <td>230.539993</td>\n",
       "      <td>53008200</td>\n",
       "    </tr>\n",
       "    <tr>\n",
       "      <th>2024-07-15</th>\n",
       "      <td>236.479996</td>\n",
       "      <td>237.229996</td>\n",
       "      <td>233.089996</td>\n",
       "      <td>234.399994</td>\n",
       "      <td>234.399994</td>\n",
       "      <td>62631300</td>\n",
       "    </tr>\n",
       "    <tr>\n",
       "      <th>2024-07-16</th>\n",
       "      <td>235.000000</td>\n",
       "      <td>236.270004</td>\n",
       "      <td>232.330002</td>\n",
       "      <td>234.820007</td>\n",
       "      <td>234.820007</td>\n",
       "      <td>43234300</td>\n",
       "    </tr>\n",
       "    <tr>\n",
       "      <th>2024-07-17</th>\n",
       "      <td>229.449997</td>\n",
       "      <td>231.460007</td>\n",
       "      <td>226.639999</td>\n",
       "      <td>228.880005</td>\n",
       "      <td>228.880005</td>\n",
       "      <td>57345900</td>\n",
       "    </tr>\n",
       "    <tr>\n",
       "      <th>2024-07-18</th>\n",
       "      <td>230.279999</td>\n",
       "      <td>230.440002</td>\n",
       "      <td>222.270004</td>\n",
       "      <td>224.179993</td>\n",
       "      <td>224.179993</td>\n",
       "      <td>65964400</td>\n",
       "    </tr>\n",
       "  </tbody>\n",
       "</table>\n",
       "<p>3659 rows × 6 columns</p>\n",
       "</div>"
      ],
      "text/plain": [
       "                  Open        High         Low       Close   Adj Close  \\\n",
       "Date                                                                     \n",
       "2010-01-04    7.622500    7.660714    7.585000    7.643214    6.461977   \n",
       "2010-01-05    7.664286    7.699643    7.616071    7.656429    6.473148   \n",
       "2010-01-06    7.656429    7.686786    7.526786    7.534643    6.370184   \n",
       "2010-01-07    7.562500    7.571429    7.466071    7.520714    6.358407   \n",
       "2010-01-08    7.510714    7.571429    7.466429    7.570714    6.400681   \n",
       "...                ...         ...         ...         ...         ...   \n",
       "2024-07-12  228.919998  232.639999  228.679993  230.539993  230.539993   \n",
       "2024-07-15  236.479996  237.229996  233.089996  234.399994  234.399994   \n",
       "2024-07-16  235.000000  236.270004  232.330002  234.820007  234.820007   \n",
       "2024-07-17  229.449997  231.460007  226.639999  228.880005  228.880005   \n",
       "2024-07-18  230.279999  230.440002  222.270004  224.179993  224.179993   \n",
       "\n",
       "               Volume  \n",
       "Date                   \n",
       "2010-01-04  493729600  \n",
       "2010-01-05  601904800  \n",
       "2010-01-06  552160000  \n",
       "2010-01-07  477131200  \n",
       "2010-01-08  447610800  \n",
       "...               ...  \n",
       "2024-07-12   53008200  \n",
       "2024-07-15   62631300  \n",
       "2024-07-16   43234300  \n",
       "2024-07-17   57345900  \n",
       "2024-07-18   65964400  \n",
       "\n",
       "[3659 rows x 6 columns]"
      ]
     },
     "metadata": {},
     "output_type": "display_data"
    }
   ],
   "source": [
    "display(data)"
   ]
  },
  {
   "cell_type": "markdown",
   "id": "2c994346-1e23-4495-94d1-f73e356e7d6e",
   "metadata": {},
   "source": [
    "# Clean the data"
   ]
  },
  {
   "cell_type": "code",
   "execution_count": 78,
   "id": "1729c8f6-50d9-4666-b4dd-f08a7e62f69a",
   "metadata": {},
   "outputs": [],
   "source": [
    "data.dropna(inplace=True)\n",
    "data.reset_index(inplace=True)"
   ]
  },
  {
   "cell_type": "markdown",
   "id": "a75eaa55-fd0f-4bc4-8597-738a7bd3e39e",
   "metadata": {},
   "source": [
    "# Check for outliers"
   ]
  },
  {
   "cell_type": "code",
   "execution_count": 79,
   "id": "7b1039b2-1a40-45dc-90ce-ac6afbbba84c",
   "metadata": {},
   "outputs": [],
   "source": [
    "Q1 = data['Close'].quantile(0.25)\n",
    "Q3 = data['Close'].quantile(0.75)\n",
    "IQR = Q3 - Q1\n",
    "lower_bound = Q1 - 1.5 * IQR\n",
    "upper_bound = Q3 + 1.5 * IQR\n",
    "outliers = data[(data['Close'] < lower_bound) | (data['Close'] > upper_bound)]\n",
    "data = data[(data['Close'] >= lower_bound) & (data['Close'] <= upper_bound)]"
   ]
  },
  {
   "cell_type": "markdown",
   "id": "ef799015-0af7-4801-a8d4-614108afa06a",
   "metadata": {},
   "source": [
    "# Interpolate missing values"
   ]
  },
  {
   "cell_type": "code",
   "execution_count": 80,
   "id": "fbc53807-5cb2-4819-840d-2ac82813ba96",
   "metadata": {},
   "outputs": [],
   "source": [
    "data.interpolate(method='linear', inplace=True)"
   ]
  },
  {
   "cell_type": "markdown",
   "id": "3dca7da2-a871-44e0-ae09-6b77126df101",
   "metadata": {},
   "source": [
    "# Plot line graph"
   ]
  },
  {
   "cell_type": "code",
   "execution_count": 81,
   "id": "c122757b-6b30-4013-bb36-99f67fddaa63",
   "metadata": {},
   "outputs": [
    {
     "data": {
      "image/png": "[encoded data removed]",
      "text/plain": [
       "<Figure size 640x480 with 1 Axes>"
      ]
     },
     "metadata": {},
     "output_type": "display_data"
    }
   ],
   "source": [
    "plt.plot(data['Close'])\n",
    "plt.title('AAPL Stock Price')\n",
    "plt.xlabel('Date')\n",
    "plt.ylabel('Price')\n",
    "plt.show()\n"
   ]
  },
  {
   "cell_type": "markdown",
   "id": "734a53f0-3af3-465c-b553-b0112ade8cd8",
   "metadata": {},
   "source": [
    "# Create test and train data set"
   ]
  },
  {
   "cell_type": "code",
   "execution_count": 82,
   "id": "fec42540-1134-457d-b108-2839961632c5",
   "metadata": {},
   "outputs": [],
   "source": [
    "X = data.drop(['Close'], axis=1)\n",
    "y = data['Close']\n",
    "X_train, X_test, y_train, y_test = train_test_split(X, y, test_size=0.2, random_state=42)"
   ]
  },
  {
   "cell_type": "markdown",
   "id": "f2979628-49b5-4ee1-a1df-e0f8f2459f5b",
   "metadata": {},
   "source": [
    "# Convert data to monthly"
   ]
  },
  {
   "cell_type": "code",
   "execution_count": 83,
   "id": "e4571696-445f-495f-8ff8-c54517ec4774",
   "metadata": {},
   "outputs": [
    {
     "data": {
      "text/plain": [
       "Index(['Date', 'Open', 'High', 'Low', 'Close', 'Adj Close', 'Volume'], dtype='object')"
      ]
     },
     "metadata": {},
     "output_type": "display_data"
    }
   ],
   "source": [
    "display(data.columns)"
   ]
  },
  {
   "cell_type": "code",
   "execution_count": 84,
   "id": "79030a5f-1c3a-4b58-a0d8-f13e05d8832c",
   "metadata": {},
   "outputs": [],
   "source": [
    "data['Date'] = pd.to_datetime(data['Date'])"
   ]
  },
  {
   "cell_type": "code",
   "execution_count": 85,
   "id": "de98d0b3-0aa1-4e25-87ba-63d4f0d5a0d6",
   "metadata": {},
   "outputs": [],
   "source": [
    "data.set_index('Date', inplace=True)"
   ]
  },
  {
   "cell_type": "code",
   "execution_count": 86,
   "id": "1eeda0ea-b934-45a6-9a5d-d34f60f8c625",
   "metadata": {},
   "outputs": [],
   "source": [
    "data_monthly = data.resample('ME').mean()"
   ]
  },
  {
   "cell_type": "markdown",
   "id": "79fe5e7c-8261-43a7-b752-a3a175bf9c74",
   "metadata": {},
   "source": [
    "# Decompose time series into components using additive and multiplicative models"
   ]
  },
  {
   "cell_type": "code",
   "execution_count": 87,
   "id": "c341d21a-75d0-400e-add1-b5c29c098da8",
   "metadata": {},
   "outputs": [],
   "source": [
    "decomposition_additive = seasonal_decompose(data_monthly['Close'], model='additive')\n",
    "decomposition_multiplicative = seasonal_decompose(data_monthly['Close'], model='multiplicative')"
   ]
  },
  {
   "cell_type": "markdown",
   "id": "4f589449-28fe-4589-a3e0-e41e72a6fdc4",
   "metadata": {},
   "source": [
    "# Univariate Forecasting - Conventional Models/Statistical Models\r\n",
    "# Fit a Holt Winters model to the data and forecast for the next year\r\n"
   ]
  },
  {
   "cell_type": "code",
   "execution_count": 88,
   "id": "0f21ca85-8062-4c2e-83dd-bd4875fbba93",
   "metadata": {},
   "outputs": [],
   "source": [
    "model_hw = ExponentialSmoothing(data_monthly['Close'], seasonal_periods=12, trend='add', seasonal='add')\n",
    "model_hw_fit = model_hw.fit()\n",
    "forecast_hw = model_hw_fit.forecast(steps=12)"
   ]
  },
  {
   "cell_type": "markdown",
   "id": "5146fcc3-b202-47ff-9861-ba76f4669233",
   "metadata": {},
   "source": [
    "# Fit an ARIMA model to the daily data and do a diagnostic check validity of the model"
   ]
  },
  {
   "cell_type": "code",
   "execution_count": 89,
   "id": "b6327f32-9fd4-43a8-bd5e-d5837c36c68b",
   "metadata": {},
   "outputs": [
    {
     "name": "stderr",
     "output_type": "stream",
     "text": [
      "C:\\Users\\Bala Vignesh.A\\anaconda3\\Lib\\site-packages\\statsmodels\\tsa\\base\\tsa_model.py:473: ValueWarning: A date index has been provided, but it has no associated frequency information and so will be ignored when e.g. forecasting.\n",
      "  self._init_dates(dates, freq)\n",
      "C:\\Users\\Bala Vignesh.A\\anaconda3\\Lib\\site-packages\\statsmodels\\tsa\\base\\tsa_model.py:473: ValueWarning: A date index has been provided, but it has no associated frequency information and so will be ignored when e.g. forecasting.\n",
      "  self._init_dates(dates, freq)\n",
      "C:\\Users\\Bala Vignesh.A\\anaconda3\\Lib\\site-packages\\statsmodels\\tsa\\base\\tsa_model.py:473: ValueWarning: A date index has been provided, but it has no associated frequency information and so will be ignored when e.g. forecasting.\n",
      "  self._init_dates(dates, freq)\n"
     ]
    },
    {
     "name": "stdout",
     "output_type": "stream",
     "text": [
      "                               SARIMAX Results                                \n",
      "==============================================================================\n",
      "Dep. Variable:                  Close   No. Observations:                 3655\n",
      "Model:                 ARIMA(1, 1, 1)   Log Likelihood               -6786.366\n",
      "Date:                Sun, 14 Jul 2024   AIC                          13578.733\n",
      "Time:                        19:38:34   BIC                          13597.343\n",
      "Sample:                             0   HQIC                         13585.360\n",
      "                               - 3655                                         \n",
      "Covariance Type:                  opg                                         \n",
      "==============================================================================\n",
      "                 coef    std err          z      P>|z|      [0.025      0.975]\n",
      "------------------------------------------------------------------------------\n",
      "ar.L1          0.4259      0.264      1.613      0.107      -0.092       0.943\n",
      "ma.L1         -0.4504      0.262     -1.720      0.085      -0.964       0.063\n",
      "sigma2         2.4027      0.022    108.048      0.000       2.359       2.446\n",
      "===================================================================================\n",
      "Ljung-Box (L1) (Q):                   0.00   Jarque-Bera (JB):             19062.85\n",
      "Prob(Q):                              0.99   Prob(JB):                         0.00\n",
      "Heteroskedasticity (H):              85.95   Skew:                             0.25\n",
      "Prob(H) (two-sided):                  0.00   Kurtosis:                        14.18\n",
      "===================================================================================\n",
      "\n",
      "Warnings:\n",
      "[1] Covariance matrix calculated using the outer product of gradients (complex-step).\n"
     ]
    }
   ],
   "source": [
    "model_arima = ARIMA(data['Close'], order=(1,1,1))\n",
    "model_arima_fit = model_arima.fit()\n",
    "print(model_arima_fit.summary())\n"
   ]
  },
  {
   "cell_type": "markdown",
   "id": "96f67cb6-6f3d-4cb1-9109-fb37bc05a96a",
   "metadata": {},
   "source": [
    "# Fit a SARIMA model to the daily data"
   ]
  },
  {
   "cell_type": "code",
   "execution_count": 90,
   "id": "ff81dd63-2a8c-4fb8-8209-5142758d7fb2",
   "metadata": {},
   "outputs": [
    {
     "name": "stderr",
     "output_type": "stream",
     "text": [
      "C:\\Users\\Bala Vignesh.A\\anaconda3\\Lib\\site-packages\\statsmodels\\tsa\\base\\tsa_model.py:473: ValueWarning: A date index has been provided, but it has no associated frequency information and so will be ignored when e.g. forecasting.\n",
      "  self._init_dates(dates, freq)\n",
      "C:\\Users\\Bala Vignesh.A\\anaconda3\\Lib\\site-packages\\statsmodels\\tsa\\base\\tsa_model.py:473: ValueWarning: A date index has been provided, but it has no associated frequency information and so will be ignored when e.g. forecasting.\n",
      "  self._init_dates(dates, freq)\n",
      "C:\\Users\\Bala Vignesh.A\\anaconda3\\Lib\\site-packages\\statsmodels\\tsa\\base\\tsa_model.py:473: ValueWarning: A date index has been provided, but it has no associated frequency information and so will be ignored when e.g. forecasting.\n",
      "  self._init_dates(dates, freq)\n"
     ]
    },
    {
     "name": "stdout",
     "output_type": "stream",
     "text": [
      "                                    SARIMAX Results                                     \n",
      "========================================================================================\n",
      "Dep. Variable:                            Close   No. Observations:                 3655\n",
      "Model:             ARIMA(1, 1, 1)x(1, 1, 1, 12)   Log Likelihood               -6796.598\n",
      "Date:                          Sun, 14 Jul 2024   AIC                          13603.197\n",
      "Time:                                  19:38:40   BIC                          13634.198\n",
      "Sample:                                       0   HQIC                         13614.239\n",
      "                                         - 3655                                         \n",
      "Covariance Type:                            opg                                         \n",
      "==============================================================================\n",
      "                 coef    std err          z      P>|z|      [0.025      0.975]\n",
      "------------------------------------------------------------------------------\n",
      "ar.L1          0.4614      0.239      1.929      0.054      -0.007       0.930\n",
      "ma.L1         -0.4867      0.237     -2.056      0.040      -0.951      -0.023\n",
      "ar.S.L12      -0.0207      0.009     -2.242      0.025      -0.039      -0.003\n",
      "ma.S.L12      -0.9996      0.031    -32.525      0.000      -1.060      -0.939\n",
      "sigma2         2.4009      0.074     32.437      0.000       2.256       2.546\n",
      "===================================================================================\n",
      "Ljung-Box (L1) (Q):                   0.01   Jarque-Bera (JB):             18612.82\n",
      "Prob(Q):                              0.92   Prob(JB):                         0.00\n",
      "Heteroskedasticity (H):              86.21   Skew:                             0.20\n",
      "Prob(H) (two-sided):                  0.00   Kurtosis:                        14.07\n",
      "===================================================================================\n",
      "\n",
      "Warnings:\n",
      "[1] Covariance matrix calculated using the outer product of gradients (complex-step).\n"
     ]
    }
   ],
   "source": [
    "model_sarima = ARIMA(data['Close'], order=(1,1,1), seasonal_order=(1,1,1,12))\n",
    "model_sarima_fit = model_sarima.fit()\n",
    "print(model_sarima_fit.summary())"
   ]
  },
  {
   "cell_type": "markdown",
   "id": "4c184995-f9c8-46f8-9465-bb39948a8fb3",
   "metadata": {},
   "source": [
    "# Forecast the series for the next three months"
   ]
  },
  {
   "cell_type": "code",
   "execution_count": 91,
   "id": "69ad8cc8-f6a6-41a8-acf4-6ada570fbd86",
   "metadata": {},
   "outputs": [
    {
     "name": "stderr",
     "output_type": "stream",
     "text": [
      "C:\\Users\\Bala Vignesh.A\\anaconda3\\Lib\\site-packages\\statsmodels\\tsa\\base\\tsa_model.py:836: ValueWarning: No supported index is available. Prediction results will be given with an integer index beginning at `start`.\n",
      "  return get_prediction_index(\n",
      "C:\\Users\\Bala Vignesh.A\\anaconda3\\Lib\\site-packages\\statsmodels\\tsa\\base\\tsa_model.py:836: FutureWarning: No supported index is available. In the next version, calling this method in a model without a supported index will result in an exception.\n",
      "  return get_prediction_index(\n"
     ]
    }
   ],
   "source": [
    "forecast_arima = model_arima_fit.forecast(steps=90)\n"
   ]
  },
  {
   "cell_type": "markdown",
   "id": "d3cf672e-63dc-4c7b-9e00-7cfb9b9e39da",
   "metadata": {},
   "source": [
    "# Fit the ARIMA to the monthly series"
   ]
  },
  {
   "cell_type": "code",
   "execution_count": 92,
   "id": "d821e118-aecf-4238-a558-60d457074be5",
   "metadata": {},
   "outputs": [
    {
     "name": "stdout",
     "output_type": "stream",
     "text": [
      "                               SARIMAX Results                                \n",
      "==============================================================================\n",
      "Dep. Variable:                  Close   No. Observations:                  175\n",
      "Model:                 ARIMA(1, 1, 1)   Log Likelihood                -543.648\n",
      "Date:                Sun, 14 Jul 2024   AIC                           1093.296\n",
      "Time:                        19:38:40   BIC                           1102.773\n",
      "Sample:                    01-31-2010   HQIC                          1097.140\n",
      "                         - 07-31-2024                                         \n",
      "Covariance Type:                  opg                                         \n",
      "==============================================================================\n",
      "                 coef    std err          z      P>|z|      [0.025      0.975]\n",
      "------------------------------------------------------------------------------\n",
      "ar.L1          0.0365      0.131      0.278      0.781      -0.220       0.293\n",
      "ma.L1          0.3209      0.137      2.343      0.019       0.052       0.589\n",
      "sigma2        30.2707      2.040     14.837      0.000      26.272      34.269\n",
      "===================================================================================\n",
      "Ljung-Box (L1) (Q):                   0.11   Jarque-Bera (JB):                76.14\n",
      "Prob(Q):                              0.75   Prob(JB):                         0.00\n",
      "Heteroskedasticity (H):              82.75   Skew:                             0.11\n",
      "Prob(H) (two-sided):                  0.00   Kurtosis:                         6.23\n",
      "===================================================================================\n",
      "\n",
      "Warnings:\n",
      "[1] Covariance matrix calculated using the outer product of gradients (complex-step).\n"
     ]
    }
   ],
   "source": [
    "model_arima_monthly = ARIMA(data_monthly['Close'], order=(1,1,1))\n",
    "model_arima_monthly_fit = model_arima_monthly.fit()\n",
    "print(model_arima_monthly_fit.summary())\n"
   ]
  }
 ],
 "metadata": {
  "kernelspec": {
   "display_name": "Python 3 (ipykernel)",
   "language": "python",
   "name": "python3"
  },
  "language_info": {
   "codemirror_mode": {
    "name": "ipython",
    "version": 3
   },
   "file_extension": ".py",
   "mimetype": "text/x-python",
   "name": "python",
   "nbconvert_exporter": "python",
   "pygments_lexer": "ipython3",
   "version": "3.12.4"
  }
 },
 "nbformat": 4,
 "nbformat_minor": 5
}
