{
 "cells": [
  {
   "cell_type": "code",
   "execution_count": 3,
   "id": "3ab35a28-3413-4b78-87e3-3b23f81a51fa",
   "metadata": {},
   "outputs": [],
   "source": [
    "import pandas as pd\n",
    "import numpy as np\n",
    "import category_encoders as ce\n",
    "from sklearn.cluster import KMeans\n",
    "from sklearn.preprocessing import StandardScaler\n"
   ]
  },
  {
   "cell_type": "code",
   "execution_count": 4,
   "id": "9952e077-9852-4471-a7f4-d162528c813c",
   "metadata": {},
   "outputs": [],
   "source": [
    "df = pd.read_csv(\"C:\\\\Users\\\\Bala Vignesh.A\\\\Desktop\\\\SCMA 632\\\\Survey (1).csv\")"
   ]
  },
  {
   "cell_type": "code",
   "execution_count": 6,
   "id": "a172ceb6-0b15-447f-8f1b-cc5439d74d00",
   "metadata": {},
   "outputs": [
    {
     "name": "stdout",
     "output_type": "stream",
     "text": [
      "Index(['City', 'Sex', 'Age', 'Occupation', 'Monthly Household Income',\n",
      "       'Income', 'Planning to Buy a new house', 'Time Frame',\n",
      "       'Reasons for buying a house', 'what type of House', 'Number of rooms',\n",
      "       'Size of House', 'Budget', 'Finished/Semi Finished',\n",
      "       'Influence Decision', 'Maintainance', 'EMI', '1.Proximity to city',\n",
      "       '2.Proximity to schools', '3. Proximity to transport',\n",
      "       '4. Proximity to work place', '5. Proximity to shopping',\n",
      "       '1. Gym/Pool/Sports facility', '2. Parking space', '3.Power back-up',\n",
      "       '4.Water supply', '5.Security', '1. Exterior look ', '2. Unit size',\n",
      "       '3. Interior design and branded components',\n",
      "       '4. Layout plan (Integrated etc.)', '5. View from apartment',\n",
      "       '1. Price', '2. Booking amount', '3. Equated Monthly Instalment (EMI)',\n",
      "       '4. Maintenance charges', '5. Availability of loan',\n",
      "       '1. Builder reputation', '2. Appreciation potential',\n",
      "       '3. Profile of neighbourhood', '4. Availability of domestic help',\n",
      "       'Time', 'Size', 'Budgets', 'Maintainances', 'EMI.1', 'ages', 'sex',\n",
      "       'Finished/Semi Finished.1', 'Influence Decision.1'],\n",
      "      dtype='object')\n"
     ]
    }
   ],
   "source": [
    "print(df.columns)"
   ]
  },
  {
   "cell_type": "code",
   "execution_count": 9,
   "id": "12592f38-613d-42f4-9de7-89cb9d89967d",
   "metadata": {},
   "outputs": [],
   "source": [
    "df['Sex'] = np.nan"
   ]
  },
  {
   "cell_type": "code",
   "execution_count": 10,
   "id": "071c9386-2edc-4534-b3bc-169b55bdf399",
   "metadata": {},
   "outputs": [],
   "source": [
    "cols = ['City', 'Sex', 'Occupation', 'Monthly Household Income',\n",
    "       'Income', 'Planning to Buy a new house', 'Time Frame',\n",
    "       'Reasons for buying a house', 'what type of House', 'Number of rooms',\n",
    "       'Size of House', 'Budget', 'Finished/Semi Finished',\n",
    "       'Influence Decision', 'Maintainance', 'EMI', '1.Proximity to city',\n",
    "       '2.Proximity to schools', '3. Proximity to transport',\n",
    "       '4. Proximity to work place', '5. Proximity to shopping',\n",
    "       '1. Gym/Pool/Sports facility', '2. Parking space', '3.Power back-up',\n",
    "       '4.Water supply', '5.Security', '1. Exterior look ', '2. Unit size',\n",
    "       '3. Interior design and branded components',\n",
    "       '4. Layout plan (Integrated etc.)', '5. View from apartment',\n",
    "       '1. Price', '2. Booking amount', '3. Equated Monthly Instalment (EMI)',\n",
    "       '4. Maintenance charges', '5. Availability of loan',\n",
    "       '1. Builder reputation', '2. Appreciation potential',\n",
    "       '3. Profile of neighbourhood', '4. Availability of domestic help',\n",
    "       'Time', 'Size', 'Budgets', 'Maintainances', 'EMI.1', 'ages', 'sex',\n",
    "       'Finished/Semi Finished.1', 'Influence Decision.1']\n",
    "if all(col in df.columns for col in cols):\n",
    "    encoder = ce.OrdinalEncoder(cols=cols)\n",
    "    df_encoded = encoder.fit_transform(df)\n",
    "else:\n",
    "    print(\"The following columns are missing from the DataFrame:\")\n",
    "    for col in cols:\n",
    "        if col not in df.columns:\n",
    "            print(col)"
   ]
  },
  {
   "cell_type": "markdown",
   "id": "ad9a94b4-8884-4a34-90bb-7db6307a1773",
   "metadata": {},
   "source": [
    "# Preprocess the data"
   ]
  },
  {
   "cell_type": "code",
   "execution_count": 11,
   "id": "4797ed27-2dab-4f3b-85af-9ff4452c4dcb",
   "metadata": {},
   "outputs": [],
   "source": [
    "encoder = ce.OrdinalEncoder(cols=['City', 'Sex', 'Occupation', 'Monthly Household Income',\n",
    "       'Income', 'Planning to Buy a new house', 'Time Frame',\n",
    "       'Reasons for buying a house', 'what type of House', 'Number of rooms',\n",
    "       'Size of House', 'Budget', 'Finished/Semi Finished',\n",
    "       'Influence Decision', 'Maintainance', 'EMI', '1.Proximity to city',\n",
    "       '2.Proximity to schools', '3. Proximity to transport',\n",
    "       '4. Proximity to work place', '5. Proximity to shopping',\n",
    "       '1. Gym/Pool/Sports facility', '2. Parking space', '3.Power back-up',\n",
    "       '4.Water supply', '5.Security', '1. Exterior look ', '2. Unit size',\n",
    "       '3. Interior design and branded components',\n",
    "       '4. Layout plan (Integrated etc.)', '5. View from apartment',\n",
    "       '1. Price', '2. Booking amount', '3. Equated Monthly Instalment (EMI)',\n",
    "       '4. Maintenance charges', '5. Availability of loan',\n",
    "       '1. Builder reputation', '2. Appreciation potential',\n",
    "       '3. Profile of neighbourhood', '4. Availability of domestic help',\n",
    "       'Time', 'Size', 'Budgets', 'Maintainances', 'EMI.1', 'ages', 'sex',\n",
    "       'Finished/Semi Finished.1', 'Influence Decision.1'])\n",
    "df_encoded = encoder.fit_transform(df)\n"
   ]
  },
  {
   "cell_type": "markdown",
   "id": "b25ec289-d57e-42cd-bb8c-8c3c8e5c7e54",
   "metadata": {},
   "source": [
    "# Select background variables"
   ]
  },
  {
   "cell_type": "code",
   "execution_count": 13,
   "id": "38471af1-fd7a-4743-befd-78d77c5b6047",
   "metadata": {},
   "outputs": [],
   "source": [
    "background_vars = df_encoded.iloc[:, -20:]"
   ]
  },
  {
   "cell_type": "markdown",
   "id": "9646db99-1c88-4fe3-ac3f-c3da983073fc",
   "metadata": {},
   "source": [
    "# Scale the data"
   ]
  },
  {
   "cell_type": "code",
   "execution_count": 14,
   "id": "447b2a2a-ad68-407c-b043-99bfb87d47bb",
   "metadata": {},
   "outputs": [],
   "source": [
    "scaler = StandardScaler()\n",
    "background_vars_scaled = scaler.fit_transform(background_vars)"
   ]
  },
  {
   "cell_type": "markdown",
   "id": "150bbbe0-b9a9-4ee3-9b29-9509efb8cc7d",
   "metadata": {},
   "source": [
    "# Determine the optimal number of clusters using the elbow method"
   ]
  },
  {
   "cell_type": "code",
   "execution_count": 15,
   "id": "ada39418-310a-4945-aba3-22c301a32782",
   "metadata": {},
   "outputs": [
    {
     "name": "stderr",
     "output_type": "stream",
     "text": [
      "C:\\Users\\Bala Vignesh.A\\anaconda3\\Lib\\site-packages\\sklearn\\cluster\\_kmeans.py:1412: FutureWarning: The default value of `n_init` will change from 10 to 'auto' in 1.4. Set the value of `n_init` explicitly to suppress the warning\n",
      "  super()._check_params_vs_input(X, default_n_init=10)\n",
      "C:\\Users\\Bala Vignesh.A\\anaconda3\\Lib\\site-packages\\sklearn\\cluster\\_kmeans.py:1436: UserWarning: KMeans is known to have a memory leak on Windows with MKL, when there are less chunks than available threads. You can avoid it by setting the environment variable OMP_NUM_THREADS=1.\n",
      "  warnings.warn(\n",
      "C:\\Users\\Bala Vignesh.A\\anaconda3\\Lib\\site-packages\\sklearn\\cluster\\_kmeans.py:1412: FutureWarning: The default value of `n_init` will change from 10 to 'auto' in 1.4. Set the value of `n_init` explicitly to suppress the warning\n",
      "  super()._check_params_vs_input(X, default_n_init=10)\n",
      "C:\\Users\\Bala Vignesh.A\\anaconda3\\Lib\\site-packages\\sklearn\\cluster\\_kmeans.py:1436: UserWarning: KMeans is known to have a memory leak on Windows with MKL, when there are less chunks than available threads. You can avoid it by setting the environment variable OMP_NUM_THREADS=1.\n",
      "  warnings.warn(\n",
      "C:\\Users\\Bala Vignesh.A\\anaconda3\\Lib\\site-packages\\sklearn\\cluster\\_kmeans.py:1412: FutureWarning: The default value of `n_init` will change from 10 to 'auto' in 1.4. Set the value of `n_init` explicitly to suppress the warning\n",
      "  super()._check_params_vs_input(X, default_n_init=10)\n",
      "C:\\Users\\Bala Vignesh.A\\anaconda3\\Lib\\site-packages\\sklearn\\cluster\\_kmeans.py:1436: UserWarning: KMeans is known to have a memory leak on Windows with MKL, when there are less chunks than available threads. You can avoid it by setting the environment variable OMP_NUM_THREADS=1.\n",
      "  warnings.warn(\n",
      "C:\\Users\\Bala Vignesh.A\\anaconda3\\Lib\\site-packages\\sklearn\\cluster\\_kmeans.py:1412: FutureWarning: The default value of `n_init` will change from 10 to 'auto' in 1.4. Set the value of `n_init` explicitly to suppress the warning\n",
      "  super()._check_params_vs_input(X, default_n_init=10)\n",
      "C:\\Users\\Bala Vignesh.A\\anaconda3\\Lib\\site-packages\\sklearn\\cluster\\_kmeans.py:1436: UserWarning: KMeans is known to have a memory leak on Windows with MKL, when there are less chunks than available threads. You can avoid it by setting the environment variable OMP_NUM_THREADS=1.\n",
      "  warnings.warn(\n",
      "C:\\Users\\Bala Vignesh.A\\anaconda3\\Lib\\site-packages\\sklearn\\cluster\\_kmeans.py:1412: FutureWarning: The default value of `n_init` will change from 10 to 'auto' in 1.4. Set the value of `n_init` explicitly to suppress the warning\n",
      "  super()._check_params_vs_input(X, default_n_init=10)\n",
      "C:\\Users\\Bala Vignesh.A\\anaconda3\\Lib\\site-packages\\sklearn\\cluster\\_kmeans.py:1436: UserWarning: KMeans is known to have a memory leak on Windows with MKL, when there are less chunks than available threads. You can avoid it by setting the environment variable OMP_NUM_THREADS=1.\n",
      "  warnings.warn(\n",
      "C:\\Users\\Bala Vignesh.A\\anaconda3\\Lib\\site-packages\\sklearn\\cluster\\_kmeans.py:1412: FutureWarning: The default value of `n_init` will change from 10 to 'auto' in 1.4. Set the value of `n_init` explicitly to suppress the warning\n",
      "  super()._check_params_vs_input(X, default_n_init=10)\n",
      "C:\\Users\\Bala Vignesh.A\\anaconda3\\Lib\\site-packages\\sklearn\\cluster\\_kmeans.py:1436: UserWarning: KMeans is known to have a memory leak on Windows with MKL, when there are less chunks than available threads. You can avoid it by setting the environment variable OMP_NUM_THREADS=1.\n",
      "  warnings.warn(\n",
      "C:\\Users\\Bala Vignesh.A\\anaconda3\\Lib\\site-packages\\sklearn\\cluster\\_kmeans.py:1412: FutureWarning: The default value of `n_init` will change from 10 to 'auto' in 1.4. Set the value of `n_init` explicitly to suppress the warning\n",
      "  super()._check_params_vs_input(X, default_n_init=10)\n",
      "C:\\Users\\Bala Vignesh.A\\anaconda3\\Lib\\site-packages\\sklearn\\cluster\\_kmeans.py:1436: UserWarning: KMeans is known to have a memory leak on Windows with MKL, when there are less chunks than available threads. You can avoid it by setting the environment variable OMP_NUM_THREADS=1.\n",
      "  warnings.warn(\n",
      "C:\\Users\\Bala Vignesh.A\\anaconda3\\Lib\\site-packages\\sklearn\\cluster\\_kmeans.py:1412: FutureWarning: The default value of `n_init` will change from 10 to 'auto' in 1.4. Set the value of `n_init` explicitly to suppress the warning\n",
      "  super()._check_params_vs_input(X, default_n_init=10)\n",
      "C:\\Users\\Bala Vignesh.A\\anaconda3\\Lib\\site-packages\\sklearn\\cluster\\_kmeans.py:1436: UserWarning: KMeans is known to have a memory leak on Windows with MKL, when there are less chunks than available threads. You can avoid it by setting the environment variable OMP_NUM_THREADS=1.\n",
      "  warnings.warn(\n",
      "C:\\Users\\Bala Vignesh.A\\anaconda3\\Lib\\site-packages\\sklearn\\cluster\\_kmeans.py:1412: FutureWarning: The default value of `n_init` will change from 10 to 'auto' in 1.4. Set the value of `n_init` explicitly to suppress the warning\n",
      "  super()._check_params_vs_input(X, default_n_init=10)\n",
      "C:\\Users\\Bala Vignesh.A\\anaconda3\\Lib\\site-packages\\sklearn\\cluster\\_kmeans.py:1436: UserWarning: KMeans is known to have a memory leak on Windows with MKL, when there are less chunks than available threads. You can avoid it by setting the environment variable OMP_NUM_THREADS=1.\n",
      "  warnings.warn(\n",
      "C:\\Users\\Bala Vignesh.A\\anaconda3\\Lib\\site-packages\\sklearn\\cluster\\_kmeans.py:1412: FutureWarning: The default value of `n_init` will change from 10 to 'auto' in 1.4. Set the value of `n_init` explicitly to suppress the warning\n",
      "  super()._check_params_vs_input(X, default_n_init=10)\n",
      "C:\\Users\\Bala Vignesh.A\\anaconda3\\Lib\\site-packages\\sklearn\\cluster\\_kmeans.py:1436: UserWarning: KMeans is known to have a memory leak on Windows with MKL, when there are less chunks than available threads. You can avoid it by setting the environment variable OMP_NUM_THREADS=1.\n",
      "  warnings.warn(\n"
     ]
    }
   ],
   "source": [
    "wcss = []\n",
    "for k in range(1, 11):\n",
    "    kmeans = KMeans(n_clusters=k, random_state=42)\n",
    "    kmeans.fit(background_vars_scaled)\n",
    "    wcss.append(kmeans.inertia_)"
   ]
  },
  {
   "cell_type": "code",
   "execution_count": 17,
   "id": "34b9ad03-e259-4cd1-8528-42d94ffe0b87",
   "metadata": {},
   "outputs": [],
   "source": [
    "import matplotlib.pyplot as plt"
   ]
  },
  {
   "cell_type": "code",
   "execution_count": 18,
   "id": "456ed473-281f-4ff2-b689-5e59e311354e",
   "metadata": {},
   "outputs": [
    {
     "data": {
      "image/png": "[encoded data removed]",
      "text/plain": [
       "<Figure size 640x480 with 1 Axes>"
      ]
     },
     "metadata": {},
     "output_type": "display_data"
    }
   ],
   "source": [
    "plt.plot(range(1, 11), wcss)\n",
    "plt.title('Elbow Method')\n",
    "plt.xlabel('Number of clusters')\n",
    "plt.ylabel('WCSS')\n",
    "plt.show()"
   ]
  },
  {
   "cell_type": "markdown",
   "id": "582b7c8b-41a5-4695-8e7a-1c2ba11fae32",
   "metadata": {},
   "source": [
    "# Perform K-means clustering with 3 clusters"
   ]
  },
  {
   "cell_type": "code",
   "execution_count": 19,
   "id": "5b08ba8c-0d0b-4c08-b1c8-0d0852bb5509",
   "metadata": {},
   "outputs": [
    {
     "name": "stderr",
     "output_type": "stream",
     "text": [
      "C:\\Users\\Bala Vignesh.A\\anaconda3\\Lib\\site-packages\\sklearn\\cluster\\_kmeans.py:1412: FutureWarning: The default value of `n_init` will change from 10 to 'auto' in 1.4. Set the value of `n_init` explicitly to suppress the warning\n",
      "  super()._check_params_vs_input(X, default_n_init=10)\n",
      "C:\\Users\\Bala Vignesh.A\\anaconda3\\Lib\\site-packages\\sklearn\\cluster\\_kmeans.py:1436: UserWarning: KMeans is known to have a memory leak on Windows with MKL, when there are less chunks than available threads. You can avoid it by setting the environment variable OMP_NUM_THREADS=1.\n",
      "  warnings.warn(\n"
     ]
    }
   ],
   "source": [
    "kmeans = KMeans(n_clusters=3, random_state=42)\n",
    "clusters = kmeans.fit_predict(background_vars_scaled)"
   ]
  },
  {
   "cell_type": "markdown",
   "id": "8d30c9a4-73f9-41e3-92bf-0ad26498536c",
   "metadata": {},
   "source": [
    "# Add the cluster labels to the original dataset"
   ]
  },
  {
   "cell_type": "code",
   "execution_count": 20,
   "id": "f9d90800-d3f4-42b4-bb94-2b7f2d59b473",
   "metadata": {},
   "outputs": [],
   "source": [
    "df['Cluster'] = clusters\n"
   ]
  },
  {
   "cell_type": "markdown",
   "id": "3e7161fa-5430-4dcd-b7e7-e6895fd16654",
   "metadata": {},
   "source": [
    "# Analyze and interpret clusters"
   ]
  },
  {
   "cell_type": "code",
   "execution_count": 23,
   "id": "b177f9c5-8600-46e7-8d36-df2564f5bb70",
   "metadata": {},
   "outputs": [
    {
     "name": "stdout",
     "output_type": "stream",
     "text": [
      "         Sex         Income  1.Proximity to city  2.Proximity to schools  \\\n",
      "Cluster                                                                    \n",
      "0        NaN  185526.315789             4.052632                3.894737   \n",
      "1        NaN   75000.000000             3.700000                3.500000   \n",
      "2        NaN   55000.000000             3.142857                2.952381   \n",
      "\n",
      "         3. Proximity to transport  4. Proximity to work place  \\\n",
      "Cluster                                                          \n",
      "0                         4.157895                    3.842105   \n",
      "1                         4.000000                    3.966667   \n",
      "2                         4.095238                    3.666667   \n",
      "\n",
      "         5. Proximity to shopping  1. Gym/Pool/Sports facility  \\\n",
      "Cluster                                                          \n",
      "0                        3.052632                     4.052632   \n",
      "1                        2.566667                     2.966667   \n",
      "2                        2.333333                     2.904762   \n",
      "\n",
      "         2. Parking space  3.Power back-up  ...  2. Appreciation potential  \\\n",
      "Cluster                                     ...                              \n",
      "0                3.842105         3.736842  ...                   4.315789   \n",
      "1                3.566667         3.366667  ...                   4.266667   \n",
      "2                3.190476         3.476190  ...                   3.904762   \n",
      "\n",
      "         3. Profile of neighbourhood  4. Availability of domestic help  \\\n",
      "Cluster                                                                  \n",
      "0                           4.473684                          3.789474   \n",
      "1                           3.833333                          3.000000   \n",
      "2                           3.285714                          2.761905   \n",
      "\n",
      "             Time         Size     Budgets  Maintainances         EMI.1  \\\n",
      "Cluster                                                                   \n",
      "0        7.421053  1894.736842  117.763158   71578.947368  72105.263158   \n",
      "1        7.500000   946.666667   52.333333   31004.000000  42666.666667   \n",
      "2        7.000000   666.666667   32.500000   17619.047619  27500.000000   \n",
      "\n",
      "              ages  Cluster  \n",
      "Cluster                      \n",
      "0        53.236842      0.0  \n",
      "1        44.383333      1.0  \n",
      "2        36.190476      2.0  \n",
      "\n",
      "[3 rows x 33 columns]\n"
     ]
    }
   ],
   "source": [
    "def numeric_mean(group):\n",
    "    return group.select_dtypes(include=[np.number]).mean()\n",
    "\n",
    "print(df.groupby('Cluster').apply(numeric_mean))"
   ]
  },
  {
   "cell_type": "markdown",
   "id": "b6b8a22e-8119-4b29-b02a-c368d87b520b",
   "metadata": {},
   "source": [
    "# Visualize the clusters"
   ]
  },
  {
   "cell_type": "code",
   "execution_count": 37,
   "id": "69244fc4-c00a-4d35-9b81-02358e7f8674",
   "metadata": {},
   "outputs": [],
   "source": [
    "import pandas as pd\n",
    "from sklearn.cluster import KMeans\n"
   ]
  },
  {
   "cell_type": "code",
   "execution_count": 38,
   "id": "2cb6ef72-e5fa-471d-a59a-12125aeb9c34",
   "metadata": {},
   "outputs": [],
   "source": [
    "from sklearn.preprocessing import StandardScaler\n"
   ]
  },
  {
   "cell_type": "code",
   "execution_count": 40,
   "id": "85a1a095-3ea6-43ca-8aca-07db2b4e3681",
   "metadata": {},
   "outputs": [],
   "source": [
    "def extract_median_age(age_range):\n",
    "    ages = age_range.split('-')\n",
    "    return np.median([int(age) for age in ages])\n"
   ]
  },
  {
   "cell_type": "code",
   "execution_count": 42,
   "id": "0b987df0-d41d-4167-b833-7e30fef86fd2",
   "metadata": {},
   "outputs": [],
   "source": [
    "def extract_median_age(age_range):\n",
    "    if age_range == '>60':\n",
    "        return 65  # assume the median age for '>60' is 65\n",
    "    elif '-' in age_range:\n",
    "        ages = age_range.split('-')\n",
    "        return np.median([int(age) for age in ages])\n",
    "    else:\n",
    "        return int(age_range) "
   ]
  },
  {
   "cell_type": "code",
   "execution_count": 43,
   "id": "c489b35c-30a6-4e45-b92a-7e65624f986d",
   "metadata": {},
   "outputs": [],
   "source": [
    "df['Age'] = df['Age'].apply(extract_median_age)"
   ]
  },
  {
   "cell_type": "markdown",
   "id": "7bac988c-e054-40c9-b5ca-df4c3dd10147",
   "metadata": {},
   "source": [
    "# Perform KMeans clustering on the preprocessed 'Age' column"
   ]
  },
  {
   "cell_type": "code",
   "execution_count": 44,
   "id": "1a8f18c5-a01e-4782-b512-5c0760ecbc5a",
   "metadata": {},
   "outputs": [
    {
     "name": "stderr",
     "output_type": "stream",
     "text": [
      "C:\\Users\\Bala Vignesh.A\\anaconda3\\Lib\\site-packages\\sklearn\\cluster\\_kmeans.py:1412: FutureWarning: The default value of `n_init` will change from 10 to 'auto' in 1.4. Set the value of `n_init` explicitly to suppress the warning\n",
      "  super()._check_params_vs_input(X, default_n_init=10)\n",
      "C:\\Users\\Bala Vignesh.A\\anaconda3\\Lib\\site-packages\\sklearn\\cluster\\_kmeans.py:1436: UserWarning: KMeans is known to have a memory leak on Windows with MKL, when there are less chunks than available threads. You can avoid it by setting the environment variable OMP_NUM_THREADS=1.\n",
      "  warnings.warn(\n"
     ]
    }
   ],
   "source": [
    "kmeans = KMeans(n_clusters=5)\n",
    "cluster_labels = kmeans.fit_predict(df[['Age']])"
   ]
  },
  {
   "cell_type": "markdown",
   "id": "6e1a0660-1d0c-414e-9730-7ed678ad565b",
   "metadata": {},
   "source": [
    "# Create a new DataFrame with the cluster labels and ages"
   ]
  },
  {
   "cell_type": "code",
   "execution_count": 45,
   "id": "67c872b3-74d5-4cb1-94cb-b5bee7d33ef3",
   "metadata": {},
   "outputs": [],
   "source": [
    "cluster_df = pd.DataFrame({'Cluster': cluster_labels, 'Age': df['Age']})"
   ]
  },
  {
   "cell_type": "markdown",
   "id": "1d2527d2-0582-4197-82a6-2d6473e7ac87",
   "metadata": {},
   "source": [
    "# Group the data by cluster and calculate the mean age for each cluster"
   ]
  },
  {
   "cell_type": "code",
   "execution_count": 46,
   "id": "c10f8804-3104-4794-9361-8378dfc7410f",
   "metadata": {},
   "outputs": [],
   "source": [
    "cluster_means = cluster_df.groupby('Cluster')['Age'].mean()"
   ]
  },
  {
   "cell_type": "markdown",
   "id": "dc401fff-34d1-41c9-a680-9b29c2f710d5",
   "metadata": {},
   "source": [
    "# Create a bar plot to visualize the results"
   ]
  },
  {
   "cell_type": "code",
   "execution_count": 47,
   "id": "52503247-1fd8-48ff-9749-db482fff8060",
   "metadata": {},
   "outputs": [
    {
     "data": {
      "image/png": "[encoded data removed]",
      "text/plain": [
       "<Figure size 800x600 with 1 Axes>"
      ]
     },
     "metadata": {},
     "output_type": "display_data"
    }
   ],
   "source": [
    "plt.figure(figsize=(8, 6))\n",
    "sns.barplot(x=cluster_means.index, y=cluster_means.values)\n",
    "plt.xlabel('Cluster')\n",
    "plt.ylabel('Mean Age')\n",
    "plt.title('Distribution of Ages by Cluster')\n",
    "plt.show()"
   ]
  }
 ],
 "metadata": {
  "kernelspec": {
   "display_name": "Python 3 (ipykernel)",
   "language": "python",
   "name": "python3"
  },
  "language_info": {
   "codemirror_mode": {
    "name": "ipython",
    "version": 3
   },
   "file_extension": ".py",
   "mimetype": "text/x-python",
   "name": "python",
   "nbconvert_exporter": "python",
   "pygments_lexer": "ipython3",
   "version": "3.11.7"
  }
 },
 "nbformat": 4,
 "nbformat_minor": 5
}
