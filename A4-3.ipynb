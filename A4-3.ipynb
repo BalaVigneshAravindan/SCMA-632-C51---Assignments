{
 "cells": [
  {
   "cell_type": "code",
   "execution_count": 1,
   "id": "0af99028-c913-4e46-b8a7-46be8203cc03",
   "metadata": {},
   "outputs": [],
   "source": [
    "import pandas as pd\n",
    "from sklearn.manifold import MDS\n",
    "import matplotlib.pyplot as plt\n"
   ]
  },
  {
   "cell_type": "markdown",
   "id": "b189d906-f5ea-4a1f-b03d-1c36ade6d471",
   "metadata": {},
   "source": [
    "Load the ice cream dataset"
   ]
  },
  {
   "cell_type": "code",
   "execution_count": 2,
   "id": "4fdb71e1-efa6-4bbc-b4da-e965a5ee384e",
   "metadata": {},
   "outputs": [],
   "source": [
    "df = pd.read_csv(\"C:\\\\Users\\\\Bala Vignesh.A\\\\Desktop\\\\SCMA 632\\\\icecream.csv\")"
   ]
  },
  {
   "cell_type": "markdown",
   "id": "d14168cb-6122-4c4c-b7f3-2fc886373129",
   "metadata": {},
   "source": [
    "Calculate the dissimilarity matrix using Euclidean distance"
   ]
  },
  {
   "cell_type": "code",
   "execution_count": 3,
   "id": "707f74f9-be8a-42b5-8044-487303c93958",
   "metadata": {},
   "outputs": [],
   "source": [
    "from scipy.spatial.distance import pdist, squareform\n",
    "dissimilarity_matrix = squareform(pdist(df.iloc[:, 1:], metric='euclidean'))"
   ]
  },
  {
   "cell_type": "markdown",
   "id": "c833b3c3-0bc5-46d3-92c5-c72efa0da2ed",
   "metadata": {},
   "source": [
    "Apply MDS"
   ]
  },
  {
   "cell_type": "code",
   "execution_count": 4,
   "id": "1daddb26-2d3e-4190-85cf-9459c8c44ce1",
   "metadata": {},
   "outputs": [
    {
     "name": "stderr",
     "output_type": "stream",
     "text": [
      "C:\\Users\\Bala Vignesh.A\\anaconda3\\Lib\\site-packages\\sklearn\\manifold\\_mds.py:298: FutureWarning: The default value of `normalized_stress` will change to `'auto'` in version 1.4. To suppress this warning, manually set the value of `normalized_stress`.\n",
      "  warnings.warn(\n"
     ]
    }
   ],
   "source": [
    "mds = MDS(n_components=2, dissimilarity='precomputed')\n",
    "coords = mds.fit_transform(dissimilarity_matrix)"
   ]
  },
  {
   "cell_type": "markdown",
   "id": "88b5fc20-9d35-4e8d-baf4-d933392f5e8f",
   "metadata": {},
   "source": [
    "Create a DataFrame with the MDS coordinates"
   ]
  },
  {
   "cell_type": "code",
   "execution_count": 5,
   "id": "6ecd0ee2-f6b5-49b5-a791-01b0cf1ad1ea",
   "metadata": {},
   "outputs": [],
   "source": [
    "mds_df = pd.DataFrame(coords, columns=['Dim1', 'Dim2'], index=df['Brand'])"
   ]
  },
  {
   "cell_type": "markdown",
   "id": "4df88cdb-c154-406a-86af-c7fc5dbb2c2c",
   "metadata": {},
   "source": [
    "Plot the MDS configuration"
   ]
  },
  {
   "cell_type": "code",
   "execution_count": 6,
   "id": "6c00badc-58ce-4c0b-b160-ee64d0131d07",
   "metadata": {},
   "outputs": [
    {
     "name": "stderr",
     "output_type": "stream",
     "text": [
      "C:\\Users\\Bala Vignesh.A\\AppData\\Local\\Temp\\ipykernel_13500\\3113101167.py:4: FutureWarning: Series.__getitem__ treating keys as positions is deprecated. In a future version, integer keys will always be treated as labels (consistent with DataFrame behavior). To access a value by position, use `ser.iloc[pos]`\n",
      "  plt.annotate(brand, (mds_df['Dim1'][i], mds_df['Dim2'][i]))\n"
     ]
    },
    {
     "data": {
      "image/png": "[encoded data removed]",
      "text/plain": [
       "<Figure size 800x800 with 1 Axes>"
      ]
     },
     "metadata": {},
     "output_type": "display_data"
    }
   ],
   "source": [
    "plt.figure(figsize=(8, 8))\n",
    "plt.scatter(mds_df['Dim1'], mds_df['Dim2'])\n",
    "for i, brand in enumerate(mds_df.index):\n",
    "    plt.annotate(brand, (mds_df['Dim1'][i], mds_df['Dim2'][i]))\n",
    "plt.xlabel('Dim1')\n",
    "plt.ylabel('Dim2')\n",
    "plt.title('MDS Configuration')\n",
    "plt.show()"
   ]
  },
  {
   "cell_type": "markdown",
   "id": "9804b874-96ca-4ce7-95fe-b7f740b3825f",
   "metadata": {},
   "source": [
    "Interpret the results"
   ]
  },
  {
   "cell_type": "code",
   "execution_count": 7,
   "id": "89268215-e13e-4293-aaba-c991642f3f50",
   "metadata": {},
   "outputs": [
    {
     "name": "stdout",
     "output_type": "stream",
     "text": [
      "MDS Configuration:\n",
      "             Dim1      Dim2\n",
      "Brand                      \n",
      "Amul     0.659460  2.876275\n",
      "Nandini -1.134603 -0.896596\n",
      "Vadilal  1.023049 -0.045556\n",
      "Vijaya   1.235250 -2.142342\n",
      "Dodla   -0.464925  0.614876\n",
      "Hatson   1.487560 -0.580568\n",
      "Arun     1.049272  0.699705\n",
      "Joy     -1.280116 -2.263110\n",
      "Kwality -0.737499  2.596534\n",
      "KVAFSU  -1.837447 -0.859218\n"
     ]
    }
   ],
   "source": [
    "print(\"MDS Configuration:\")\n",
    "print(mds_df)"
   ]
  },
  {
   "cell_type": "markdown",
   "id": "a868a1fd-5bfb-4533-96e9-f1a2a15aca5e",
   "metadata": {},
   "source": [
    "Stress value"
   ]
  },
  {
   "cell_type": "code",
   "execution_count": 9,
   "id": "0c8a28eb-e143-4efe-a6ef-24eeb69be150",
   "metadata": {},
   "outputs": [
    {
     "name": "stdout",
     "output_type": "stream",
     "text": [
      "Stress value: 15.419100235449024\n"
     ]
    }
   ],
   "source": [
    "stress = mds.stress_\n",
    "print(\"Stress value:\", stress)"
   ]
  }
 ],
 "metadata": {
  "kernelspec": {
   "display_name": "Python 3 (ipykernel)",
   "language": "python",
   "name": "python3"
  },
  "language_info": {
   "codemirror_mode": {
    "name": "ipython",
    "version": 3
   },
   "file_extension": ".py",
   "mimetype": "text/x-python",
   "name": "python",
   "nbconvert_exporter": "python",
   "pygments_lexer": "ipython3",
   "version": "3.11.7"
  }
 },
 "nbformat": 4,
 "nbformat_minor": 5
}
