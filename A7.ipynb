{
 "cells": [
  {
   "cell_type": "code",
   "execution_count": 1,
   "id": "2e1de684-03e3-4d32-8b49-bad043e30e0a",
   "metadata": {},
   "outputs": [],
   "source": [
    "import streamlit as st\n",
    "import pandas as pd\n",
    "import matplotlib.pyplot as plt"
   ]
  },
  {
   "cell_type": "markdown",
   "id": "dadf96d3-429c-47ae-bda0-970ef42afa6a",
   "metadata": {},
   "source": [
    "# Title of the application"
   ]
  },
  {
   "cell_type": "code",
   "execution_count": 3,
   "id": "e9a3fad0-f777-4699-8ded-733e16453933",
   "metadata": {},
   "outputs": [
    {
     "data": {
      "text/plain": [
       "DeltaGenerator()"
      ]
     },
     "execution_count": 3,
     "metadata": {},
     "output_type": "execute_result"
    }
   ],
   "source": [
    "st.title(\"Financial Statement Analyzer\")"
   ]
  },
  {
   "cell_type": "markdown",
   "id": "4beea094-6099-48ef-a8d9-c68a3f7fa8a4",
   "metadata": {},
   "source": [
    "# Sidebar inputs"
   ]
  },
  {
   "cell_type": "code",
   "execution_count": 4,
   "id": "3e0c457d-9140-496f-b40d-9637b39a0ac8",
   "metadata": {},
   "outputs": [],
   "source": [
    "st.sidebar.header(\"User Input Parameters\")\n",
    "uploaded_file = st.sidebar.file_uploader(\"Upload your CSV file\", type=[\"csv\"])"
   ]
  },
  {
   "cell_type": "code",
   "execution_count": 5,
   "id": "4c52a54b-c180-4864-8d72-2ab0c8988f36",
   "metadata": {},
   "outputs": [],
   "source": [
    "if uploaded_file is not None:\n",
    "    data = pd.read_csv(uploaded_file)\n",
    "    st.write(\"Data Preview:\")\n",
    "    st.write(data.head())\n"
   ]
  },
  {
   "cell_type": "markdown",
   "id": "f5d82f83-6a46-43b9-93e9-d7ff338adeab",
   "metadata": {},
   "source": [
    "# Data visualization"
   ]
  },
  {
   "cell_type": "code",
   "execution_count": 8,
   "id": "3f9771de-df1c-48dd-bf4d-0d85a8b26169",
   "metadata": {},
   "outputs": [],
   "source": [
    "st.subheader(\"Data Visualization\")\n",
    "\n",
    "if uploaded_file is not None:\n",
    "    data = pd.read_csv(uploaded_file)\n",
    "    columns = data.columns\n",
    "    selected_column = st.selectbox(\"Select a column to visualize\", columns)\n",
    "    \n",
    "    if st.button(\"Generate Plot\"):\n",
    "        plt.figure(figsize=(10, 5))\n",
    "        data[selected_column].hist()\n",
    "        plt.title(f\"Distribution of {selected_column}\")\n",
    "        st.pyplot(plt)\n",
    "else:\n",
    "    st.write(\"Please upload a CSV file to get started.\")"
   ]
  },
  {
   "cell_type": "code",
   "execution_count": null,
   "id": "10e0c535-13c0-4ee8-9f56-9a32f7b86dc3",
   "metadata": {},
   "outputs": [],
   "source": []
  }
 ],
 "metadata": {
  "kernelspec": {
   "display_name": "Python 3 (ipykernel)",
   "language": "python",
   "name": "python3"
  },
  "language_info": {
   "codemirror_mode": {
    "name": "ipython",
    "version": 3
   },
   "file_extension": ".py",
   "mimetype": "text/x-python",
   "name": "python",
   "nbconvert_exporter": "python",
   "pygments_lexer": "ipython3",
   "version": "3.12.4"
  }
 },
 "nbformat": 4,
 "nbformat_minor": 5
}
